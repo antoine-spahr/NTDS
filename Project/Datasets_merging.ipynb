{
 "cells": [
  {
   "cell_type": "markdown",
   "metadata": {},
   "source": [
    "# Datasets merging"
   ]
  },
  {
   "cell_type": "code",
   "execution_count": 1,
   "metadata": {},
   "outputs": [],
   "source": [
    "import pandas as pd\n",
    "import string\n",
    "import ast\n",
    "Data_path = 'Data/'"
   ]
  },
  {
   "cell_type": "markdown",
   "metadata": {},
   "source": [
    "## Load the movies data"
   ]
  },
  {
   "cell_type": "code",
   "execution_count": 2,
   "metadata": {},
   "outputs": [],
   "source": [
    "info_df = pd.read_csv(Data_path+'tmdb_5000_movies.csv', parse_dates=['release_date'])\n",
    "credit_df = pd.read_csv(Data_path+'tmdb_5000_credits.csv')\n",
    "# create a columns with the year of the coresponding Oscar ceremony for merging latter on\n",
    "info_df['ceremony_year'] = info_df['release_date'].apply(lambda date: date.year+1)\n",
    "movie_df = pd.merge(info_df, credit_df.drop(columns={'title'}), left_on='id', right_on='movie_id', how='outer') \\\n",
    "                        .drop(columns=['movie_id'])"
   ]
  },
  {
   "cell_type": "markdown",
   "metadata": {},
   "source": [
    "Let's check is there are some NAN sneeking around."
   ]
  },
  {
   "cell_type": "code",
   "execution_count": 3,
   "metadata": {},
   "outputs": [
    {
     "data": {
      "text/html": [
       "<div>\n",
       "<style scoped>\n",
       "    .dataframe tbody tr th:only-of-type {\n",
       "        vertical-align: middle;\n",
       "    }\n",
       "\n",
       "    .dataframe tbody tr th {\n",
       "        vertical-align: top;\n",
       "    }\n",
       "\n",
       "    .dataframe thead th {\n",
       "        text-align: right;\n",
       "    }\n",
       "</style>\n",
       "<table border=\"1\" class=\"dataframe\">\n",
       "  <thead>\n",
       "    <tr style=\"text-align: right;\">\n",
       "      <th></th>\n",
       "      <th>nbr of NAN</th>\n",
       "    </tr>\n",
       "  </thead>\n",
       "  <tbody>\n",
       "    <tr>\n",
       "      <td>budget</td>\n",
       "      <td>0</td>\n",
       "    </tr>\n",
       "    <tr>\n",
       "      <td>genres</td>\n",
       "      <td>0</td>\n",
       "    </tr>\n",
       "    <tr>\n",
       "      <td>homepage</td>\n",
       "      <td>3091</td>\n",
       "    </tr>\n",
       "    <tr>\n",
       "      <td>id</td>\n",
       "      <td>0</td>\n",
       "    </tr>\n",
       "    <tr>\n",
       "      <td>keywords</td>\n",
       "      <td>0</td>\n",
       "    </tr>\n",
       "    <tr>\n",
       "      <td>original_language</td>\n",
       "      <td>0</td>\n",
       "    </tr>\n",
       "    <tr>\n",
       "      <td>original_title</td>\n",
       "      <td>0</td>\n",
       "    </tr>\n",
       "    <tr>\n",
       "      <td>overview</td>\n",
       "      <td>3</td>\n",
       "    </tr>\n",
       "    <tr>\n",
       "      <td>popularity</td>\n",
       "      <td>0</td>\n",
       "    </tr>\n",
       "    <tr>\n",
       "      <td>production_companies</td>\n",
       "      <td>0</td>\n",
       "    </tr>\n",
       "    <tr>\n",
       "      <td>production_countries</td>\n",
       "      <td>0</td>\n",
       "    </tr>\n",
       "    <tr>\n",
       "      <td>release_date</td>\n",
       "      <td>1</td>\n",
       "    </tr>\n",
       "    <tr>\n",
       "      <td>revenue</td>\n",
       "      <td>0</td>\n",
       "    </tr>\n",
       "    <tr>\n",
       "      <td>runtime</td>\n",
       "      <td>2</td>\n",
       "    </tr>\n",
       "    <tr>\n",
       "      <td>spoken_languages</td>\n",
       "      <td>0</td>\n",
       "    </tr>\n",
       "    <tr>\n",
       "      <td>status</td>\n",
       "      <td>0</td>\n",
       "    </tr>\n",
       "    <tr>\n",
       "      <td>tagline</td>\n",
       "      <td>844</td>\n",
       "    </tr>\n",
       "    <tr>\n",
       "      <td>title</td>\n",
       "      <td>0</td>\n",
       "    </tr>\n",
       "    <tr>\n",
       "      <td>vote_average</td>\n",
       "      <td>0</td>\n",
       "    </tr>\n",
       "    <tr>\n",
       "      <td>vote_count</td>\n",
       "      <td>0</td>\n",
       "    </tr>\n",
       "    <tr>\n",
       "      <td>ceremony_year</td>\n",
       "      <td>1</td>\n",
       "    </tr>\n",
       "    <tr>\n",
       "      <td>cast</td>\n",
       "      <td>0</td>\n",
       "    </tr>\n",
       "    <tr>\n",
       "      <td>crew</td>\n",
       "      <td>0</td>\n",
       "    </tr>\n",
       "  </tbody>\n",
       "</table>\n",
       "</div>"
      ],
      "text/plain": [
       "                      nbr of NAN\n",
       "budget                         0\n",
       "genres                         0\n",
       "homepage                    3091\n",
       "id                             0\n",
       "keywords                       0\n",
       "original_language              0\n",
       "original_title                 0\n",
       "overview                       3\n",
       "popularity                     0\n",
       "production_companies           0\n",
       "production_countries           0\n",
       "release_date                   1\n",
       "revenue                        0\n",
       "runtime                        2\n",
       "spoken_languages               0\n",
       "status                         0\n",
       "tagline                      844\n",
       "title                          0\n",
       "vote_average                   0\n",
       "vote_count                     0\n",
       "ceremony_year                  1\n",
       "cast                           0\n",
       "crew                           0"
      ]
     },
     "execution_count": 3,
     "metadata": {},
     "output_type": "execute_result"
    }
   ],
   "source": [
    "# check if there some nan values\n",
    "pd.DataFrame(movie_df.isna().sum()).rename(columns={0:'nbr of NAN'})"
   ]
  },
  {
   "cell_type": "markdown",
   "metadata": {},
   "source": [
    "Looks like that two movies are missing the runtime values and one seems to miss a date. Lets find on the web the duration of those two movie and complete the data. We remove the row where the date is missing as most of the values for this movie are not defined. "
   ]
  },
  {
   "cell_type": "code",
   "execution_count": 4,
   "metadata": {},
   "outputs": [],
   "source": [
    "# complete the two missing runtime from google search\n",
    "idx = movie_df[movie_df.runtime.isna()].index.to_list()\n",
    "durations = [98, 81] # from google search\n",
    "movie_df.loc[idx, 'runtime'] = durations"
   ]
  },
  {
   "cell_type": "code",
   "execution_count": 5,
   "metadata": {},
   "outputs": [],
   "source": [
    "# drop the row where the date is ill\n",
    "movie_df.dropna(subset=['release_date'], inplace=True)"
   ]
  },
  {
   "cell_type": "code",
   "execution_count": 6,
   "metadata": {},
   "outputs": [
    {
     "data": {
      "text/html": [
       "<div>\n",
       "<style scoped>\n",
       "    .dataframe tbody tr th:only-of-type {\n",
       "        vertical-align: middle;\n",
       "    }\n",
       "\n",
       "    .dataframe tbody tr th {\n",
       "        vertical-align: top;\n",
       "    }\n",
       "\n",
       "    .dataframe thead th {\n",
       "        text-align: right;\n",
       "    }\n",
       "</style>\n",
       "<table border=\"1\" class=\"dataframe\">\n",
       "  <thead>\n",
       "    <tr style=\"text-align: right;\">\n",
       "      <th></th>\n",
       "      <th>nbr of NAN</th>\n",
       "    </tr>\n",
       "  </thead>\n",
       "  <tbody>\n",
       "    <tr>\n",
       "      <td>budget</td>\n",
       "      <td>0</td>\n",
       "    </tr>\n",
       "    <tr>\n",
       "      <td>genres</td>\n",
       "      <td>0</td>\n",
       "    </tr>\n",
       "    <tr>\n",
       "      <td>homepage</td>\n",
       "      <td>3090</td>\n",
       "    </tr>\n",
       "    <tr>\n",
       "      <td>id</td>\n",
       "      <td>0</td>\n",
       "    </tr>\n",
       "    <tr>\n",
       "      <td>keywords</td>\n",
       "      <td>0</td>\n",
       "    </tr>\n",
       "    <tr>\n",
       "      <td>original_language</td>\n",
       "      <td>0</td>\n",
       "    </tr>\n",
       "    <tr>\n",
       "      <td>original_title</td>\n",
       "      <td>0</td>\n",
       "    </tr>\n",
       "    <tr>\n",
       "      <td>overview</td>\n",
       "      <td>3</td>\n",
       "    </tr>\n",
       "    <tr>\n",
       "      <td>popularity</td>\n",
       "      <td>0</td>\n",
       "    </tr>\n",
       "    <tr>\n",
       "      <td>production_companies</td>\n",
       "      <td>0</td>\n",
       "    </tr>\n",
       "    <tr>\n",
       "      <td>production_countries</td>\n",
       "      <td>0</td>\n",
       "    </tr>\n",
       "    <tr>\n",
       "      <td>release_date</td>\n",
       "      <td>0</td>\n",
       "    </tr>\n",
       "    <tr>\n",
       "      <td>revenue</td>\n",
       "      <td>0</td>\n",
       "    </tr>\n",
       "    <tr>\n",
       "      <td>runtime</td>\n",
       "      <td>0</td>\n",
       "    </tr>\n",
       "    <tr>\n",
       "      <td>spoken_languages</td>\n",
       "      <td>0</td>\n",
       "    </tr>\n",
       "    <tr>\n",
       "      <td>status</td>\n",
       "      <td>0</td>\n",
       "    </tr>\n",
       "    <tr>\n",
       "      <td>tagline</td>\n",
       "      <td>843</td>\n",
       "    </tr>\n",
       "    <tr>\n",
       "      <td>title</td>\n",
       "      <td>0</td>\n",
       "    </tr>\n",
       "    <tr>\n",
       "      <td>vote_average</td>\n",
       "      <td>0</td>\n",
       "    </tr>\n",
       "    <tr>\n",
       "      <td>vote_count</td>\n",
       "      <td>0</td>\n",
       "    </tr>\n",
       "    <tr>\n",
       "      <td>ceremony_year</td>\n",
       "      <td>0</td>\n",
       "    </tr>\n",
       "    <tr>\n",
       "      <td>cast</td>\n",
       "      <td>0</td>\n",
       "    </tr>\n",
       "    <tr>\n",
       "      <td>crew</td>\n",
       "      <td>0</td>\n",
       "    </tr>\n",
       "  </tbody>\n",
       "</table>\n",
       "</div>"
      ],
      "text/plain": [
       "                      nbr of NAN\n",
       "budget                         0\n",
       "genres                         0\n",
       "homepage                    3090\n",
       "id                             0\n",
       "keywords                       0\n",
       "original_language              0\n",
       "original_title                 0\n",
       "overview                       3\n",
       "popularity                     0\n",
       "production_companies           0\n",
       "production_countries           0\n",
       "release_date                   0\n",
       "revenue                        0\n",
       "runtime                        0\n",
       "spoken_languages               0\n",
       "status                         0\n",
       "tagline                      843\n",
       "title                          0\n",
       "vote_average                   0\n",
       "vote_count                     0\n",
       "ceremony_year                  0\n",
       "cast                           0\n",
       "crew                           0"
      ]
     },
     "execution_count": 6,
     "metadata": {},
     "output_type": "execute_result"
    }
   ],
   "source": [
    "# check if all good\n",
    "pd.DataFrame(movie_df.isna().sum()).rename(columns={0:'nbr of NAN'})"
   ]
  },
  {
   "cell_type": "code",
   "execution_count": 7,
   "metadata": {},
   "outputs": [],
   "source": [
    "# set the release_year in int\n",
    "movie_df.release_date = movie_df.release_date.astype(int)"
   ]
  },
  {
   "cell_type": "markdown",
   "metadata": {},
   "source": [
    "## Load Oscars and Golden Globes data"
   ]
  },
  {
   "cell_type": "code",
   "execution_count": 8,
   "metadata": {},
   "outputs": [],
   "source": [
    "oscar_df = pd.read_csv(Data_path+'oscars_website.csv').drop(columns='Unnamed: 0')"
   ]
  },
  {
   "cell_type": "code",
   "execution_count": 9,
   "metadata": {},
   "outputs": [],
   "source": [
    "GG_df = pd.read_csv(Data_path+'goldenglobes_website.csv').drop(columns='Unnamed: 0')"
   ]
  },
  {
   "cell_type": "markdown",
   "metadata": {},
   "source": [
    "The title may differ by some difference in the case and the presence of different punctuation. In order to ensure a proper merging, we format them in lower case and we remove the punctuation."
   ]
  },
  {
   "cell_type": "code",
   "execution_count": 10,
   "metadata": {},
   "outputs": [],
   "source": [
    "def parse_title(s):\n",
    "    \"\"\"\n",
    "    Parse a string : to lowercase, then remove punctuation\n",
    "    \n",
    "    INPUT : \n",
    "        |---- s : [string] string to parse \n",
    "    OUTPUT \n",
    "        |---- s_parsed : [string] parsed string\n",
    "    \"\"\"\n",
    "    s = s.lower()\n",
    "    s = s.translate(str.maketrans('', '', string.punctuation))\n",
    "    return s"
   ]
  },
  {
   "cell_type": "code",
   "execution_count": 11,
   "metadata": {},
   "outputs": [],
   "source": [
    "movie_df.title = movie_df.title.apply(parse_title)\n",
    "oscar_df.Films = oscar_df.Films.apply(parse_title)\n",
    "GG_df.Films = GG_df.Films.apply(parse_title)"
   ]
  },
  {
   "cell_type": "markdown",
   "metadata": {},
   "source": [
    "The scrapped Golden Globes title data is not perfectly clean as there are sometime the released year of the movie in the title. In addition, there is a space in the beginnig of the title. Finnaly the movie starting with _The_, _A_, _An_ have this determinant at the end of the title instead of in the begining."
   ]
  },
  {
   "cell_type": "code",
   "execution_count": 12,
   "metadata": {},
   "outputs": [],
   "source": [
    "def clean_GoldenGlobes_title(row):\n",
    "    \"\"\"\n",
    "    Clean the title from GoldenGlobes data. Remove first space. \n",
    "    Move 'the', 'a', 'an' in front. Remove released year in the name.\n",
    "    \n",
    "    INPUT : \n",
    "        |---- row : [list] Golden globes data row [Films, Year, Nomination, GoldenGlobes] \n",
    "    OUTPUT \n",
    "        |---- s_cleaned : [string] cleaned title\n",
    "    \"\"\"\n",
    "    s = row[0]\n",
    "    year = row[1]\n",
    "    # strip to remove space in begining \n",
    "    s = s.strip()\n",
    "    \n",
    "    # put determinant in front if necessary : Ex : Purge The --> The Purge\n",
    "    word_list = s.split(' ')\n",
    "    if word_list[-1] in ['the', 'a', 'an', 'la', 'le']:\n",
    "        word_list.insert(0, word_list.pop()) # put the last item i first place\n",
    "    \n",
    "    # remove the year in title : Ex : title (1985) or title - 1985 \n",
    "    if word_list[-1] in [str(year), str(year-1)]:\n",
    "        word_list.pop()\n",
    "    \n",
    "    s = ' '.join(word_list)\n",
    "    return s"
   ]
  },
  {
   "cell_type": "code",
   "execution_count": 13,
   "metadata": {},
   "outputs": [],
   "source": [
    "GG_df.Films = GG_df.apply(clean_GoldenGlobes_title, axis=1)"
   ]
  },
  {
   "cell_type": "markdown",
   "metadata": {},
   "source": [
    "## Merge the dataframes"
   ]
  },
  {
   "cell_type": "markdown",
   "metadata": {},
   "source": [
    "Because there are multiple movies with the same name : _Titanic_ of 1997 and _Titanic_ of 1953, We merge the dataframe based on both the movie title and the ceremony year. "
   ]
  },
  {
   "cell_type": "code",
   "execution_count": 14,
   "metadata": {},
   "outputs": [],
   "source": [
    "# merge on both title and ceremony_year to differentiate two Titanics movies or two King knog movies from different years\n",
    "df = pd.merge(movie_df, oscar_df, how='left', left_on=['ceremony_year', 'title'], right_on=['Year', 'Films'])\n",
    "df[['Oscars','Nominations']] = df[['Oscars','Nominations']].fillna(0)"
   ]
  },
  {
   "cell_type": "code",
   "execution_count": 15,
   "metadata": {},
   "outputs": [],
   "source": [
    "# merge GoldenGlobes\n",
    "df = pd.merge(df, GG_df, how='left', \\\n",
    "                        left_on=['ceremony_year', 'title'], \\\n",
    "                        right_on=['Year', 'Films'], \\\n",
    "                        suffixes=['_Oscars', '_GoldenGlobes'])\n",
    "df[['GoldenGlobes','Nominations_GoldenGlobes']] = df[['GoldenGlobes','Nominations_GoldenGlobes']].fillna(0)"
   ]
  },
  {
   "cell_type": "code",
   "execution_count": 16,
   "metadata": {},
   "outputs": [],
   "source": [
    "df.drop(columns=['Films_Oscars', 'Year_Oscars', 'Films_GoldenGlobes', 'Year_GoldenGlobes'], inplace=True)"
   ]
  },
  {
   "cell_type": "markdown",
   "metadata": {},
   "source": [
    "Get the total awards and nominations"
   ]
  },
  {
   "cell_type": "code",
   "execution_count": 17,
   "metadata": {},
   "outputs": [],
   "source": [
    "df['Nominations'] = df.loc[:,['Nominations_GoldenGlobes', 'Nominations_Oscars']].sum(axis=1)\n",
    "df['Awards'] = df.loc[:,['GoldenGlobes', 'Oscars']].sum(axis=1)"
   ]
  },
  {
   "cell_type": "markdown",
   "metadata": {},
   "source": [
    "Then we save the merged and cleaned dataframes"
   ]
  },
  {
   "cell_type": "code",
   "execution_count": 18,
   "metadata": {},
   "outputs": [],
   "source": [
    "# save merged data\n",
    "df.to_csv(Data_path+'merged_data.csv')"
   ]
  },
  {
   "cell_type": "markdown",
   "metadata": {},
   "source": [
    "## Build features dataframe "
   ]
  },
  {
   "cell_type": "code",
   "execution_count": 19,
   "metadata": {},
   "outputs": [],
   "source": [
    "def get_list(df, col, min_nbr=0, key='name'):\n",
    "    \"\"\"\n",
    "    Get the number of unique values in the dictionnaries of the columns col from the data. \n",
    "    INPUT\n",
    "        |---- data [pandas Dataframe] the dataframe with the data \n",
    "        |---- col [string array] column name to count unique values\n",
    "        |---- min_nbr [int] the minimum number of apperance of the value to be kepts\n",
    "    OUTPUT \n",
    "        |---- l [list] list of unique values \n",
    "    \"\"\"\n",
    "    tmp = df.copy()\n",
    "    tmp[col] = tmp[col].apply(lambda x : [value[key] for value in ast.literal_eval(x)])\n",
    "    tmp = tmp[['title',col]].explode(col)\n",
    "    tmp = tmp[col].value_counts()\n",
    "    return list(tmp[tmp > min_nbr].index)\n",
    "\n",
    "def add_dummy_features(df, col, min_nbr, key='name'):\n",
    "    \"\"\" \n",
    "    Convert the columns col from the dataframe df as dummy variable \n",
    "    for each word appearing more that min_nbr.\n",
    "    INPUT\n",
    "        |---- df [pandas Dataframe] the dataframe with the data \n",
    "        |---- col [string array] column name to dummify\n",
    "        |---- min_nbr [int] the minimum number of apperance of the value to be kepts\n",
    "    OUTPUT \n",
    "        |---- df [pandas Dataframe] the dataframe with the data dummified\n",
    "    \"\"\"\n",
    "    # get the list of possible value in col\n",
    "    val_list = get_list(df, col, min_nbr=min_nbr, key=key)\n",
    "    # keep only the value in val_list\n",
    "    X = df[col].apply(lambda x : [value[key] for value in ast.literal_eval(x)])\n",
    "    X = X.apply(lambda x : [val for val in x if val in val_list])\n",
    "    # get the list as dummy variable\n",
    "    tmp = pd.get_dummies(X.apply(pd.Series), prefix='', prefix_sep='').sum(level=0, axis=1)\n",
    "    # add the new feature to the dataframe\n",
    "    return pd.concat([df, tmp], axis=1).drop(columns=[col])"
   ]
  },
  {
   "cell_type": "code",
   "execution_count": 20,
   "metadata": {},
   "outputs": [],
   "source": [
    "features_df = df[['title','budget', 'genres', \\\n",
    "                            'popularity', 'revenue','runtime','vote_average','vote_count']]\n",
    "\n",
    "# add genres as dummy features (for exploration and learning)\n",
    "features_df = add_dummy_features(features_df, 'genres', min_nbr=0)\n",
    "\n",
    "features_df.to_csv(Data_path+'features.csv')"
   ]
  },
  {
   "cell_type": "code",
   "execution_count": 21,
   "metadata": {},
   "outputs": [],
   "source": [
    "label_df = df[['title', 'GoldenGlobes', 'Nominations_GoldenGlobes', 'Oscars', \\\n",
    "                       'Nominations_Oscars', 'Nominations', 'Awards']].copy()\n",
    "# save \n",
    "label_df.to_csv(Data_path+'labels.csv')"
   ]
  }
 ],
 "metadata": {
  "kernelspec": {
   "display_name": "Python 3",
   "language": "python",
   "name": "python3"
  },
  "language_info": {
   "codemirror_mode": {
    "name": "ipython",
    "version": 3
   },
   "file_extension": ".py",
   "mimetype": "text/x-python",
   "name": "python",
   "nbconvert_exporter": "python",
   "pygments_lexer": "ipython3",
   "version": "3.7.6"
  }
 },
 "nbformat": 4,
 "nbformat_minor": 2
}
