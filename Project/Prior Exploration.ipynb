{
 "cells": [
  {
   "cell_type": "code",
   "execution_count": 1,
   "metadata": {},
   "outputs": [],
   "source": [
    "import numpy as np\n",
    "import pandas as pd\n",
    "import pickle\n",
    "import matplotlib.pyplot as plt\n",
    "import matplotlib\n",
    "import networkx as nx\n",
    "import scipy.stats\n",
    "import seaborn as sns\n",
    "\n",
    "Data_path = 'Data/'"
   ]
  },
  {
   "cell_type": "code",
   "execution_count": 2,
   "metadata": {},
   "outputs": [],
   "source": [
    "# Keeping only relevant features\n",
    "features_df = pd.read_csv(Data_path+'nodes_attributes.csv',index_col=0)\n",
    "features_df.drop(columns = ['title','id','ceremony_year'],inplace = True)"
   ]
  },
  {
   "cell_type": "code",
   "execution_count": 3,
   "metadata": {},
   "outputs": [
    {
     "data": {
      "text/html": [
       "<div>\n",
       "<style scoped>\n",
       "    .dataframe tbody tr th:only-of-type {\n",
       "        vertical-align: middle;\n",
       "    }\n",
       "\n",
       "    .dataframe tbody tr th {\n",
       "        vertical-align: top;\n",
       "    }\n",
       "\n",
       "    .dataframe thead th {\n",
       "        text-align: right;\n",
       "    }\n",
       "</style>\n",
       "<table border=\"1\" class=\"dataframe\">\n",
       "  <thead>\n",
       "    <tr style=\"text-align: right;\">\n",
       "      <th></th>\n",
       "      <th>budget</th>\n",
       "      <th>popularity</th>\n",
       "      <th>revenue</th>\n",
       "      <th>runtime</th>\n",
       "      <th>vote_average</th>\n",
       "      <th>vote_count</th>\n",
       "      <th>Oscars</th>\n",
       "      <th>Nominations_Oscars</th>\n",
       "      <th>GoldenGlobes</th>\n",
       "      <th>Nominations_GoldenGlobes</th>\n",
       "    </tr>\n",
       "  </thead>\n",
       "  <tbody>\n",
       "    <tr>\n",
       "      <th>0</th>\n",
       "      <td>237000000</td>\n",
       "      <td>150.437577</td>\n",
       "      <td>2787965087</td>\n",
       "      <td>162.0</td>\n",
       "      <td>7.2</td>\n",
       "      <td>11800</td>\n",
       "      <td>3.0</td>\n",
       "      <td>9.0</td>\n",
       "      <td>2.0</td>\n",
       "      <td>4.0</td>\n",
       "    </tr>\n",
       "    <tr>\n",
       "      <th>1</th>\n",
       "      <td>300000000</td>\n",
       "      <td>139.082615</td>\n",
       "      <td>961000000</td>\n",
       "      <td>169.0</td>\n",
       "      <td>6.9</td>\n",
       "      <td>4500</td>\n",
       "      <td>0.0</td>\n",
       "      <td>2.0</td>\n",
       "      <td>0.0</td>\n",
       "      <td>0.0</td>\n",
       "    </tr>\n",
       "    <tr>\n",
       "      <th>2</th>\n",
       "      <td>245000000</td>\n",
       "      <td>107.376788</td>\n",
       "      <td>880674609</td>\n",
       "      <td>148.0</td>\n",
       "      <td>6.3</td>\n",
       "      <td>4466</td>\n",
       "      <td>1.0</td>\n",
       "      <td>1.0</td>\n",
       "      <td>1.0</td>\n",
       "      <td>1.0</td>\n",
       "    </tr>\n",
       "    <tr>\n",
       "      <th>3</th>\n",
       "      <td>250000000</td>\n",
       "      <td>112.312950</td>\n",
       "      <td>1084939099</td>\n",
       "      <td>165.0</td>\n",
       "      <td>7.6</td>\n",
       "      <td>9106</td>\n",
       "      <td>0.0</td>\n",
       "      <td>0.0</td>\n",
       "      <td>0.0</td>\n",
       "      <td>0.0</td>\n",
       "    </tr>\n",
       "    <tr>\n",
       "      <th>4</th>\n",
       "      <td>260000000</td>\n",
       "      <td>43.926995</td>\n",
       "      <td>284139100</td>\n",
       "      <td>132.0</td>\n",
       "      <td>6.1</td>\n",
       "      <td>2124</td>\n",
       "      <td>0.0</td>\n",
       "      <td>0.0</td>\n",
       "      <td>0.0</td>\n",
       "      <td>0.0</td>\n",
       "    </tr>\n",
       "  </tbody>\n",
       "</table>\n",
       "</div>"
      ],
      "text/plain": [
       "      budget  popularity     revenue  runtime  vote_average  vote_count  \\\n",
       "0  237000000  150.437577  2787965087    162.0           7.2       11800   \n",
       "1  300000000  139.082615   961000000    169.0           6.9        4500   \n",
       "2  245000000  107.376788   880674609    148.0           6.3        4466   \n",
       "3  250000000  112.312950  1084939099    165.0           7.6        9106   \n",
       "4  260000000   43.926995   284139100    132.0           6.1        2124   \n",
       "\n",
       "   Oscars  Nominations_Oscars  GoldenGlobes  Nominations_GoldenGlobes  \n",
       "0     3.0                 9.0           2.0                       4.0  \n",
       "1     0.0                 2.0           0.0                       0.0  \n",
       "2     1.0                 1.0           1.0                       1.0  \n",
       "3     0.0                 0.0           0.0                       0.0  \n",
       "4     0.0                 0.0           0.0                       0.0  "
      ]
     },
     "execution_count": 3,
     "metadata": {},
     "output_type": "execute_result"
    }
   ],
   "source": [
    "features_df.head()"
   ]
  },
  {
   "cell_type": "markdown",
   "metadata": {},
   "source": [
    "# Classes ratio"
   ]
  },
  {
   "cell_type": "code",
   "execution_count": 4,
   "metadata": {},
   "outputs": [
    {
     "name": "stdout",
     "output_type": "stream",
     "text": [
      "Percentage of movies having one or more Oscars: 0.067\n",
      "Percentage of movies having one or more Nominations: 0.178\n"
     ]
    }
   ],
   "source": [
    "# Determination of the percentage of nodes that have oscars or nominations (to show class imbalance)\n",
    "\n",
    "oscars_count = features_df['Oscars'].value_counts()\n",
    "oscars_fraction = (np.sum(oscars_count) - oscars_count[0])/np.sum(oscars_count)\n",
    "\n",
    "nominations_count = features_df['Nominations_Oscars'].value_counts()\n",
    "nominations_fraction = (np.sum(nominations_count) - nominations_count[0])/np.sum(nominations_count)\n",
    "\n",
    "print(f\"Percentage of movies having one or more Oscars: {oscars_fraction:.3f}\")\n",
    "print(f\"Percentage of movies having one or more Nominations: {nominations_fraction:.3f}\")"
   ]
  },
  {
   "cell_type": "markdown",
   "metadata": {},
   "source": [
    "# Spearman correlation "
   ]
  },
  {
   "cell_type": "code",
   "execution_count": 5,
   "metadata": {},
   "outputs": [],
   "source": [
    "# We do not know if our data are linearly related (assumption behind Pearson), that's why we use Spearman coefficient\n",
    "# which is a statistical measure of the strength of a monotonic relationship between paired data\n",
    "\n",
    "# We compute it between oscars (or nominations) and budget, popularity, revenue, runtime, vote average, vote count\n",
    "\n",
    "corr_df = features_df.corr(method = 'spearman').loc[:,['Oscars','Nominations_Oscars']]\n",
    "\n",
    "# To remove meaningless information (correlation between labels)\n",
    "corr_df = corr_df.drop(['Oscars','Nominations_Oscars']) "
   ]
  },
  {
   "cell_type": "code",
   "execution_count": 6,
   "metadata": {},
   "outputs": [
    {
     "data": {
      "image/png": "[encoded data removed]",
      "text/plain": [
       "<Figure size 1080x1080 with 1 Axes>"
      ]
     },
     "metadata": {
      "needs_background": "light"
     },
     "output_type": "display_data"
    }
   ],
   "source": [
    "# Bar plots to visualize Spearman correlation\n",
    "ax = corr_df.plot.bar(rot=0,figsize=(15,15),color=['gold','skyblue'])\n",
    "\n",
    "ax.set_title(\"Spearman correlation between features and Oscars (or Nominations)\",size=18)\n",
    "ax.set_ylim([0, 1])\n",
    "ax.set_xlabel(\"Features\",size=12)\n",
    "ax.set_ylabel(\"Spearman correlation \",size=12)\n",
    "ax.grid(True, which='major', axis='y')\n",
    "ax.set_axisbelow(True)\n",
    "plt.show()"
   ]
  },
  {
   "cell_type": "markdown",
   "metadata": {},
   "source": [
    "# Similarity matrices exploration"
   ]
  },
  {
   "cell_type": "code",
   "execution_count": null,
   "metadata": {},
   "outputs": [],
   "source": [
    "# Loading similarity matrices previously computed\n",
    "sim_mat = {}\n",
    "feat_names = ['Genre','Keywords', 'Crew', 'Cast']\n",
    "for name in feat_names:\n",
    "    with open(Data_path+'csim_'+name, 'rb') as src:\n",
    "        sim_mat[name] = pickle.load(src)\n",
    "        print(f'>>> Loading {name} similarity matrix with shape {sim_mat[name].shape}')"
   ]
  },
  {
   "cell_type": "code",
   "execution_count": null,
   "metadata": {
    "scrolled": true
   },
   "outputs": [],
   "source": [
    "# Four separate graphs\n",
    "fig, axs = plt.subplots(2, 2,figsize=(10, 10))\n",
    "adj_mat = sim_mat.values()\n",
    "for name, mat, ax in zip(feat_names, adj_mat, axs.reshape(-1)):\n",
    "    ax.hist(mat.values.ravel(), log=True, bins=50,color='royalblue')\n",
    "    ax.set_title(name,size=15)\n",
    "    ax.set_xlabel('Scaled Cosine Similarity',size=12)\n",
    "    ax.set_ylabel('Log scaled quantity',size=12)\n",
    "plt.show()"
   ]
  },
  {
   "cell_type": "code",
   "execution_count": null,
   "metadata": {},
   "outputs": [],
   "source": []
  }
 ],
 "metadata": {
  "kernelspec": {
   "display_name": "Python 3",
   "language": "python",
   "name": "python3"
  },
  "language_info": {
   "codemirror_mode": {
    "name": "ipython",
    "version": 3
   },
   "file_extension": ".py",
   "mimetype": "text/x-python",
   "name": "python",
   "nbconvert_exporter": "python",
   "pygments_lexer": "ipython3",
   "version": "3.7.3"
  }
 },
 "nbformat": 4,
 "nbformat_minor": 2
}
