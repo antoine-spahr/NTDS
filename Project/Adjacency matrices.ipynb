{
 "cells": [
  {
   "cell_type": "code",
   "execution_count": 13,
   "metadata": {},
   "outputs": [],
   "source": [
    "import pandas as pd\n",
    "import numpy as np\n",
    "import pickle\n",
    "import ast\n",
    "from sklearn.metrics.pairwise import cosine_similarity\n",
    "from sklearn.feature_extraction.text import CountVectorizer, TfidfVectorizer\n",
    "from sklearn.preprocessing import MinMaxScaler\n",
    "import matplotlib.pyplot as plt"
   ]
  },
  {
   "cell_type": "raw",
   "metadata": {},
   "source": [
    "# Load data\n",
    "imdb_movies = pd.read_csv('Data/tmdb_5000_movies.csv')\n",
    "imdb_credits = pd.read_csv('Data/tmdb_5000_credits.csv')"
   ]
  },
  {
   "cell_type": "code",
   "execution_count": 2,
   "metadata": {},
   "outputs": [
    {
     "data": {
      "text/plain": [
       "Index(['budget', 'genres', 'homepage', 'id', 'keywords', 'original_language',\n",
       "       'original_title', 'overview', 'popularity', 'production_companies',\n",
       "       'production_countries', 'release_date', 'revenue', 'runtime',\n",
       "       'spoken_languages', 'status', 'tagline', 'title', 'vote_average',\n",
       "       'vote_count', 'ceremony_year', 'cast', 'crew', 'Oscars',\n",
       "       'Nominations_Oscars', 'GoldenGlobes', 'Nominations_GoldenGlobes'],\n",
       "      dtype='object')"
      ]
     },
     "execution_count": 2,
     "metadata": {},
     "output_type": "execute_result"
    }
   ],
   "source": [
    "imdb_movies = pd.read_csv('Data/merged_data.csv', index_col=0)\n",
    "imdb_movies.columns"
   ]
  },
  {
   "cell_type": "code",
   "execution_count": 3,
   "metadata": {},
   "outputs": [],
   "source": [
    "def get_list(x):\n",
    "    list_dict = ast.literal_eval(x)\n",
    "    if(list_dict):\n",
    "        list_ = []\n",
    "        for d in list_dict:\n",
    "            list_.append(d['name'].replace(' ',''))\n",
    "        return list_\n",
    "    else: \n",
    "        return []\n",
    "\n",
    "def join_list(x):\n",
    "    return ' '.join(x)"
   ]
  },
  {
   "cell_type": "code",
   "execution_count": 4,
   "metadata": {},
   "outputs": [],
   "source": [
    "def get_similarity(column, dataset):\n",
    "    '''Function for computing the adjacency matrices\n",
    "    INPUTS: column: name of the column we want the adjacency matrix for\n",
    "            dataset: imdb dataset containing the needed column (imdb_movies or imdb_credits)\n",
    "    RETURN: csim: sclaed cosine similarity distance adjacency matrix'''\n",
    "    \n",
    "    # Make a temporary copy for computation\n",
    "    data_copy = dataset.copy()\n",
    "    \n",
    "    # Modify column so we can compute similarity\n",
    "    data_copy[column] = data_copy[column].apply(get_list)\n",
    "    #items = sorted(data_copy.explode(column=column)[column].unique())\n",
    "    data_copy[column] = data_copy[column].apply(join_list)\n",
    "    \n",
    "    # Vectorize and compute similarity\n",
    "    vectorizer = TfidfVectorizer()\n",
    "    vectors = vectorizer.fit_transform(data_copy[column]).toarray()\n",
    "    csim = cosine_similarity(vectors)\n",
    "    \n",
    "    # Min-max scaling\n",
    "    csim[np.diag_indices(csim.shape[0])] = 0\n",
    "    csim = csim/csim.ptp()\n",
    "    \n",
    "    # transformation to DataFrame\n",
    "    csim = pd.DataFrame(csim, index=data_copy['title'], columns=data_copy['title'])\n",
    "    \n",
    "    return csim"
   ]
  },
  {
   "cell_type": "code",
   "execution_count": 5,
   "metadata": {},
   "outputs": [],
   "source": [
    "# Agjacency matrices generation\n",
    "csim_genre = get_similarity('genres', imdb_movies) # Movie genre (e.g Action, Drama...)\n",
    "#csim_keywords = get_similarity('keywords', imdb_movies) # Movie kewords\n",
    "csim_cast = get_similarity('cast', imdb_movies) # Movie cast (actors)\n",
    "csim_crew = get_similarity('crew', imdb_movies) # Movie cast (realisator, productor...)"
   ]
  },
  {
   "cell_type": "code",
   "execution_count": 6,
   "metadata": {},
   "outputs": [
    {
     "data": {
      "image/png": "[encoded data removed]",
      "text/plain": [
       "<Figure size 720x720 with 3 Axes>"
      ]
     },
     "metadata": {
      "needs_background": "light"
     },
     "output_type": "display_data"
    }
   ],
   "source": [
    "fig, axs = plt.subplots(3, 1,figsize=(10, 10))\n",
    "titles = ['Genre', 'Cast', 'Crew']#['Genre', 'Keywords', 'Cast', 'Crew']\n",
    "adj_mat = [csim_genre, csim_cast, csim_crew]# [csim_genre, csim_keywords, csim_cast, csim_crew]\n",
    "for name, mat, ax in zip(titles, adj_mat, axs.reshape(-1)):\n",
    "    ax.hist(mat.values.ravel(), log=True, bins=50)\n",
    "    ax.set_title(name)\n",
    "    ax.set_xlabel('Scaled Cosine Similarity')\n",
    "    ax.set_ylabel('Log scaled quantity')\n",
    "plt.show()"
   ]
  },
  {
   "cell_type": "code",
   "execution_count": 7,
   "metadata": {},
   "outputs": [],
   "source": [
    "csim_genre.to_pickle('Data/csim_genre')\n",
    "#csim_keywords.to_pickle('Data/csim_keywords')\n",
    "csim_cast.to_pickle('Data/csim_cast')\n",
    "csim_crew.to_pickle('Data/csim_crew')"
   ]
  },
  {
   "cell_type": "markdown",
   "metadata": {},
   "source": [
    "### Adjacency matrix \n",
    "combine 1/3 for all"
   ]
  },
  {
   "cell_type": "code",
   "execution_count": 9,
   "metadata": {},
   "outputs": [],
   "source": [
    "A = np.zeros(csim_genre.shape)\n",
    "for wi, adj in zip([1/3, 1/3, 1/3],  [csim_genre, csim_cast, csim_crew]):\n",
    "     A += wi*adj.values\n",
    "A = np.where(A < 0.32, 0, A)"
   ]
  },
  {
   "cell_type": "code",
   "execution_count": 15,
   "metadata": {},
   "outputs": [
    {
     "name": "stdout",
     "output_type": "stream",
     "text": [
      "Adjacency matrix saved at Data/Adjacency_matrix.pickle\n"
     ]
    }
   ],
   "source": [
    "with open('Data/Adjacency_matrix.pickle', 'wb') as handle:\n",
    "    pickle.dump(A, handle, protocol=pickle.HIGHEST_PROTOCOL)\n",
    "    print('Adjacency matrix saved at '+'Data/Adjacency_matrix.pickle')"
   ]
  },
  {
   "cell_type": "code",
   "execution_count": null,
   "metadata": {},
   "outputs": [],
   "source": []
  }
 ],
 "metadata": {
  "kernelspec": {
   "display_name": "Python 3",
   "language": "python",
   "name": "python3"
  },
  "language_info": {
   "codemirror_mode": {
    "name": "ipython",
    "version": 3
   },
   "file_extension": ".py",
   "mimetype": "text/x-python",
   "name": "python",
   "nbconvert_exporter": "python",
   "pygments_lexer": "ipython3",
   "version": "3.7.4"
  }
 },
 "nbformat": 4,
 "nbformat_minor": 4
}
