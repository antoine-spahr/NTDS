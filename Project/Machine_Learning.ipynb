{
 "cells": [
  {
   "cell_type": "markdown",
   "metadata": {},
   "source": [
    "# Machine Learning"
   ]
  },
  {
   "cell_type": "code",
   "execution_count": 14,
   "metadata": {},
   "outputs": [],
   "source": [
    "import numpy as np\n",
    "import pandas as pd\n",
    "import pickle\n",
    "from difflib import get_close_matches\n",
    "from sklearn import model_selection as ms\n",
    "\n",
    "#from sklearn import cross_validation as cv\n",
    "#import networkx as nx\n",
    "\n",
    "from dgl import DGLGraph\n",
    "\n",
    "import time\n",
    "\n",
    "import torch\n",
    "import torch.nn as nn\n",
    "import torch.nn.functional as F\n",
    "\n",
    "#import matplotlib.pyplot as plt\n",
    "#import itertools\n",
    "#import networkx as nx"
   ]
  },
  {
   "cell_type": "markdown",
   "metadata": {},
   "source": [
    "Loading the similarity matrices and the dataframe"
   ]
  },
  {
   "cell_type": "code",
   "execution_count": 2,
   "metadata": {},
   "outputs": [
    {
     "name": "stdout",
     "output_type": "stream",
     "text": [
      ">>> Loading keywords similarity matrix with shape (4803, 4803)\n",
      ">>> Loading genre similarity matrix with shape (4803, 4803)\n",
      ">>> Loading crew similarity matrix with shape (4803, 4803)\n",
      ">>> Loading cast similarity matrix with shape (4803, 4803)\n"
     ]
    }
   ],
   "source": [
    "Data_path = 'Data/'\n",
    "\n",
    "sim_mat = {}\n",
    "names = ['keywords', 'genre', 'crew', 'cast']\n",
    "for name in names:\n",
    "    with open(Data_path+'csim_'+name, 'rb') as src:\n",
    "        sim_mat[name] = pickle.load(src)\n",
    "        print(f'>>> Loading {name} similarity matrix with shape {sim_mat[name].shape}')"
   ]
  },
  {
   "cell_type": "markdown",
   "metadata": {},
   "source": [
    "**Alternative 1** Combine the 4 similarity matrices equitably (**to be optimized**) and pruned those with a similarity below 0.25"
   ]
  },
  {
   "cell_type": "code",
   "execution_count": 3,
   "metadata": {},
   "outputs": [],
   "source": [
    "# Simple way\n",
    "adj_mat = sim_mat['keywords'].copy()\n",
    "for name in names[1:]:\n",
    "    adj_mat = adj_mat.add(sim_mat[name], fill_value=0)\n",
    "adj_mat = adj_mat/4    \n",
    "\n",
    "threshold = 0.25\n",
    "adj_mat[adj_mat < threshold] = 0\n",
    "weight_dict = {'names':names, 'weights':[0.25, 0.25, 0.25, 0.25]}\n",
    "\n",
    "G = nx.from_numpy_matrix(adj_mat.values)"
   ]
  },
  {
   "cell_type": "code",
   "execution_count": 4,
   "metadata": {},
   "outputs": [],
   "source": [
    "features = ['budget','popularity','revenue','runtime','vote_average','vote_count']\n",
    "\n",
    "IMDB_path = Data_path + 'tmdb_5000_movies.csv'\n",
    "IMDB = pd.read_csv(IMDB_path)\n",
    "IMDB.set_index('original_title',inplace=True)\n",
    "IMDB_feat = IMDB[['id'] + features]"
   ]
  },
  {
   "cell_type": "code",
   "execution_count": 5,
   "metadata": {},
   "outputs": [],
   "source": [
    "oscars_path = Data_path + 'oscars_website.csv'\n",
    "oscars = pd.read_csv(oscars_path).drop(columns='Unnamed: 0').set_index('Films')\n",
    "oscar_movies = list(oscars.index)\n",
    "\n",
    "IMDB_movies = list(IMDB.index)\n",
    "\n",
    "oscar_labels = pd.DataFrame(index=IMDB_movies, columns=['Nominations', 'Oscars'])\n",
    "\n",
    "cutoff = 0.9\n",
    "for title in IMDB_movies:\n",
    "    match = get_close_matches(title, oscar_movies, n=1, cutoff=cutoff)\n",
    "    if(match):\n",
    "        oscar_labels['Nominations'][title] = oscars['Nominations'][match[0]]\n",
    "        oscar_labels['Oscars'][title] = oscars['Oscars'][match[0]]\n",
    "    else:\n",
    "        oscar_labels['Nominations'][title] = 0\n",
    "        oscar_labels['Oscars'][title] = 0"
   ]
  },
  {
   "cell_type": "code",
   "execution_count": 6,
   "metadata": {},
   "outputs": [],
   "source": [
    "'''train_ratio = 0.8\n",
    "\n",
    "# For Oscars\n",
    "[train, test_osc, labels_train, labels_test_osc] = ms.train_test_split(IMDB_feat,\\\n",
    "                                                                        oscar_labels['Oscars'],\\\n",
    "                                                                        train_size = train_ratio)\n",
    "\n",
    "[train_osc, val_osc, labels_train_osc, labels_val_osc] = ms.train_test_split(train,labels_train,\\\n",
    "                                                                             train_size = train_ratio)\n",
    "\n",
    "\n",
    "# For Nominations\n",
    "[train, test_nom, labels_train, labels_test_nom] = ms.train_test_split(IMDB_feat,\\\n",
    "                                                                        oscar_labels['Nominations'],\\\n",
    "                                                                        train_size = train_ratio)\n",
    "\n",
    "[train_nom, val_nom, labels_train_nom, labels_val_nom] = ms.train_test_split(train,labels_train,\\\n",
    "                                                                             train_size = train_ratio)'''"
   ]
  },
  {
   "cell_type": "markdown",
   "metadata": {},
   "source": [
    "#### Question 18: Graph convolutional networks\n",
    "\n",
    "By now, you will probably have seen that it is challenging to find the right combination of spectral response, filter parameters and regularization method. And in most cases, this is a painstaking job. Wouldn't it be great to automate these tasks?\n",
    "\n",
    "Fortunately, this is possible if we use the right tools! Specifically, we will see that Graph Convolutional Networks are a great framework to automatize the feature extraction method.\n",
    "\n",
    "In this exercise, we will follow the same classification pipeline as above, but instead of hand-crafting our filter we will let `PyTorch` find the coefficients for us using gradient descent.\n",
    "\n",
    "In this section, most of the code is already written. Try to understand it and to play with some parameters. It may be useful if you want to solve some learning task in your project.\n",
    "\n",
    "We start by constructing a `LaplacianPolynomial` model in `DGL`. It computes the function: $f(X) = \\sum_{i=1}^{k} \\alpha_i L^i X \\theta$ where the trainable parameters are the coefficients $\\alpha_i$ and the matrix $\\theta$. This function can be interpreted as a filtering of $X$ by $\\sum_{i=1}^{k} \\alpha_i L^i$ followed by a linear layer."
   ]
  },
  {
   "cell_type": "code",
   "execution_count": 7,
   "metadata": {},
   "outputs": [
    {
     "data": {
      "text/plain": [
       "'class LaplacianPolynomial(nn.Module):\\n    def __init__(self,\\n                 in_feats: int,\\n                 out_feats: int,\\n                 k: int,\\n                 dropout_prob: float,\\n                 norm=True):\\n        super().__init__()\\n        self._in_feats = in_feats\\n        self._out_feats = out_feats\\n        self._k = k\\n        self._norm = norm\\n        # Contains the weights learned by the Laplacian polynomial\\n        self.pol_weights = nn.Parameter(torch.Tensor(self._k + 1))\\n        # Contains the weights learned by the logistic regression (without bias)\\n        self.logr_weights = nn.Parameter(torch.Tensor(in_feats, out_feats))\\n        self.dropout = nn.Dropout(p=dropout_prob)\\n        self.reset_parameters()\\n\\n    def reset_parameters(self):\\n        \"\"\"Reinitialize learnable parameters.\"\"\"\\n        torch.manual_seed(0)\\n        torch.nn.init.xavier_uniform_(self.logr_weights, gain=0.01)\\n        torch.nn.init.normal_(self.pol_weights, mean=0.0, std=1e-3)\\n\\n    def forward(self, graph, feat):\\n        r\"\"\"Compute graph convolution.\\n\\n        Notes\\n        -----\\n        * Input shape: :math:`(N, *, \\text{in_feats})` where * means any number of additional\\n          dimensions, :math:`N` is the number of nodes.\\n        * Output shape: :math:`(N, *, \\text{out_feats})` where all but the last dimension are\\n          the same shape as the input.\\n\\n        Parameters\\n        ----------\\n        graph (DGLGraph) : The graph.\\n        feat (torch.Tensor): The input feature\\n\\n        Returns\\n        -------\\n        (torch.Tensor) The output feature\\n        \"\"\"\\n        feat = self.dropout(feat)\\n        graph = graph.local_var()\\n        \\n        # D^(-1/2)\\n        norm = torch.pow(graph.in_degrees().float().clamp(min=1), -0.5)\\n        shp = norm.shape + (1,) * (feat.dim() - 1)\\n        norm = torch.reshape(norm, shp)\\n\\n        # mult W first to reduce the feature size for aggregation.\\n        feat = torch.matmul(feat, self.logr_weights) # X*Teta\\n\\n        result = self.pol_weights[0] * feat.clone() # a0*L^0*X*Teta <-- fisrt polynomial weight a0 * L^0 * x\\n\\n        for i in range(1, self._k + 1): # get the next polynomial coefficient (a1*L^1, a2*L^2, ..... ak*L^k) \\n            old_feat = feat.clone()\\n            if self._norm:\\n                feat = feat * norm\\n            graph.ndata[\\'h\\'] = feat\\n            # Feat is not modified in place\\n            graph.update_all(fn.copy_src(src=\\'h\\', out=\\'m\\'),\\n                             fn.sum(msg=\\'m\\', out=\\'h\\')) # update all nodes with msg function copy_src (get data from source node) and reduce function sum\\n            if self._norm:\\n                graph.ndata[\\'h\\'] = graph.ndata[\\'h\\'] * norm\\n\\n            feat = old_feat - graph.ndata[\\'h\\']\\n            result += self.pol_weights[i] * feat\\n\\n        return result\\n\\n    def extra_repr(self):\\n        \"\"\"Set the extra representation of the module,\\n        which will come into effect when printing the model.\\n        \"\"\"\\n        summary = \\'in={_in_feats}, out={_out_feats}\\'\\n        summary += \\', normalization={_norm}\\'\\n        return summary.format(**self.__dict__)'"
      ]
     },
     "execution_count": 7,
     "metadata": {},
     "output_type": "execute_result"
    }
   ],
   "source": [
    "class LaplacianPolynomial(nn.Module):\n",
    "    def __init__(self,\n",
    "                 in_feats: int,\n",
    "                 out_feats: int,\n",
    "                 k: int,\n",
    "                 dropout_prob: float,\n",
    "                 norm=True):\n",
    "        super().__init__()\n",
    "        self._in_feats = in_feats\n",
    "        self._out_feats = out_feats\n",
    "        self._k = k\n",
    "        self._norm = norm\n",
    "        # Contains the weights learned by the Laplacian polynomial\n",
    "        self.pol_weights = nn.Parameter(torch.Tensor(self._k + 1))\n",
    "        # Contains the weights learned by the logistic regression (without bias)\n",
    "        self.logr_weights = nn.Parameter(torch.Tensor(in_feats, out_feats))\n",
    "        self.dropout = nn.Dropout(p=dropout_prob)\n",
    "        self.reset_parameters()\n",
    "\n",
    "    def reset_parameters(self):\n",
    "        \"\"\"Reinitialize learnable parameters.\"\"\"\n",
    "        torch.manual_seed(0)\n",
    "        torch.nn.init.xavier_uniform_(self.logr_weights, gain=0.01)\n",
    "        torch.nn.init.normal_(self.pol_weights, mean=0.0, std=1e-3)\n",
    "\n",
    "    def forward(self, graph, feat):\n",
    "        r\"\"\"Compute graph convolution.\n",
    "\n",
    "        Notes\n",
    "        -----\n",
    "        * Input shape: :math:`(N, *, \\text{in_feats})` where * means any number of additional\n",
    "          dimensions, :math:`N` is the number of nodes.\n",
    "        * Output shape: :math:`(N, *, \\text{out_feats})` where all but the last dimension are\n",
    "          the same shape as the input.\n",
    "\n",
    "        Parameters\n",
    "        ----------\n",
    "        graph (DGLGraph) : The graph.\n",
    "        feat (torch.Tensor): The input feature\n",
    "\n",
    "        Returns\n",
    "        -------\n",
    "        (torch.Tensor) The output feature\n",
    "        \"\"\"\n",
    "        feat = self.dropout(feat)\n",
    "        graph = graph.local_var()\n",
    "        \n",
    "        # D^(-1/2)\n",
    "        norm = torch.pow(graph.in_degrees().float().clamp(min=1), -0.5)\n",
    "        shp = norm.shape + (1,) * (feat.dim() - 1)\n",
    "        norm = torch.reshape(norm, shp)\n",
    "\n",
    "        # mult W first to reduce the feature size for aggregation.\n",
    "        feat = torch.matmul(feat, self.logr_weights) # X*Teta\n",
    "\n",
    "        result = self.pol_weights[0] * feat.clone() # a0*L^0*X*Teta <-- fisrt polynomial weight a0 * L^0 * x\n",
    "\n",
    "        for i in range(1, self._k + 1): # get the next polynomial coefficient (a1*L^1, a2*L^2, ..... ak*L^k) \n",
    "            old_feat = feat.clone()\n",
    "            if self._norm:\n",
    "                feat = feat * norm\n",
    "            graph.ndata['h'] = feat\n",
    "            # Feat is not modified in place\n",
    "            graph.update_all(fn.copy_src(src='h', out='m'),\n",
    "                             fn.sum(msg='m', out='h')) # update all nodes with msg function copy_src (get data from source node) and reduce function sum\n",
    "            if self._norm:\n",
    "                graph.ndata['h'] = graph.ndata['h'] * norm\n",
    "\n",
    "            feat = old_feat - graph.ndata['h']\n",
    "            result += self.pol_weights[i] * feat\n",
    "\n",
    "        return result\n",
    "\n",
    "    def extra_repr(self):\n",
    "        \"\"\"Set the extra representation of the module,\n",
    "        which will come into effect when printing the model.\n",
    "        \"\"\"\n",
    "        summary = 'in={_in_feats}, out={_out_feats}'\n",
    "        summary += ', normalization={_norm}'\n",
    "        return summary.format(**self.__dict__)"
   ]
  },
  {
   "cell_type": "markdown",
   "metadata": {},
   "source": [
    "Once we have are model ready we just need to create a function that performs one step of our training loop, and another one that evaluates our model."
   ]
  },
  {
   "cell_type": "code",
   "execution_count": 8,
   "metadata": {},
   "outputs": [
    {
     "data": {
      "text/plain": [
       "'def train(model, g, features, labels, loss_fcn, train_mask, optimizer):\\n    model.train()  # Activate dropout\\n    \\n    logits = model(g, features) # prediction\\n    loss = loss_fcn(logits[train_mask], labels[train_mask])\\n\\n    optimizer.zero_grad()\\n    loss.backward()\\n    optimizer.step()\\n    return loss\\n\\ndef evaluate(model, g, features, labels, mask):\\n    model.eval()  # Deactivate dropout\\n    with torch.no_grad():\\n        logits = model(g, features)[mask]  # only compute the evaluation set\\n        labels = labels[mask]\\n        _, indices = torch.max(logits, dim=1)\\n        correct = torch.sum(indices == labels)\\n        return correct.item() * 1.0 / len(labels)'"
      ]
     },
     "execution_count": 8,
     "metadata": {},
     "output_type": "execute_result"
    }
   ],
   "source": [
    "def train(model, g, features, labels, loss_fcn, train_mask, optimizer):\n",
    "    model.train()  # Activate dropout\n",
    "    \n",
    "    logits = model(g, features) # prediction\n",
    "    loss = loss_fcn(logits[train_mask], labels[train_mask])\n",
    "\n",
    "    optimizer.zero_grad()\n",
    "    loss.backward()\n",
    "    optimizer.step()\n",
    "    return loss\n",
    "\n",
    "def evaluate(model, g, features, labels, mask):\n",
    "    model.eval()  # Deactivate dropout\n",
    "    with torch.no_grad():\n",
    "        logits = model(g, features)[mask]  # only compute the evaluation set\n",
    "        labels = labels[mask]\n",
    "        _, indices = torch.max(logits, dim=1)\n",
    "        correct = torch.sum(indices == labels)\n",
    "        return correct.item() * 1.0 / len(labels)"
   ]
  },
  {
   "cell_type": "markdown",
   "metadata": {},
   "source": [
    "Choose the training parameters."
   ]
  },
  {
   "cell_type": "code",
   "execution_count": 12,
   "metadata": {},
   "outputs": [],
   "source": [
    "in_feats = len(features)\n",
    "output = 1\n",
    "pol_order = 3\n",
    "lr = 0.2\n",
    "weight_decay = 5e-6\n",
    "n_epochs = 1000\n",
    "p_dropout = 0.8"
   ]
  },
  {
   "cell_type": "markdown",
   "metadata": {},
   "source": [
    "And train the classifier end to end."
   ]
  },
  {
   "cell_type": "code",
   "execution_count": 10,
   "metadata": {},
   "outputs": [
    {
     "data": {
      "text/plain": [
       "'graph = DGLGraph(cora.graph)\\n\\nmodel = LaplacianPolynomial(in_feats, n_classes, pol_order, p_dropout)\\n\\nloss_fcn = torch.nn.CrossEntropyLoss()\\noptimizer = torch.optim.Adam(model.parameters(),\\n                             lr=lr,\\n                             weight_decay=weight_decay)\\n\\ndur = []\\nfor epoch in range(n_epochs):\\n    if epoch >= 3:\\n        t0 = time.time()\\n    loss = train(model, graph, features, labels, loss_fcn, train_mask, optimizer)\\n\\n    if epoch >= 3:\\n        dur.append(time.time() - t0)\\n\\n    acc = evaluate(model, graph, features, labels, val_mask)\\n    print(\"Epoch {:05d} | Time(s) {:.4f} | Train Loss {:.4f} | Val Accuracy {:.4%}\". format(\\n            epoch+1, np.mean(dur), loss.item(), acc))\\n\\nprint()\\nacc = evaluate(model, graph, features, labels, test_mask)\\nprint(\"Test Accuracy {:.4%}\".format(acc))'"
      ]
     },
     "execution_count": 10,
     "metadata": {},
     "output_type": "execute_result"
    }
   ],
   "source": [
    "model = LaplacianPolynomial(in_feats, output, pol_order, p_dropout)\n",
    "\n",
    "loss_fcn = torch.nn.CrossEntropyLoss()\n",
    "optimizer = torch.optim.Adam(model.parameters(),\n",
    "                             lr=lr,\n",
    "                             weight_decay=weight_decay)\n",
    "\n",
    "dur = []\n",
    "for epoch in range(n_epochs):\n",
    "    if epoch >= 3:\n",
    "        t0 = time.time()\n",
    "    loss = train(model, G, train_osc, labels_train_osc, loss_fcn, train_mask, optimizer)\n",
    "\n",
    "    if epoch >= 3:\n",
    "        dur.append(time.time() - t0)\n",
    "\n",
    "    acc = evaluate(model, graph, features, labels, val_mask)\n",
    "    print(\"Epoch {:05d} | Time(s) {:.4f} | Train Loss {:.4f} | Val Accuracy {:.4%}\". format(\n",
    "            epoch+1, np.mean(dur), loss.item(), acc))\n",
    "\n",
    "print()\n",
    "acc = evaluate(model, graph, features, labels, test_mask)\n",
    "print(\"Test Accuracy {:.4%}\".format(acc))"
   ]
  }
 ],
 "metadata": {
  "kernelspec": {
   "display_name": "Python 3",
   "language": "python",
   "name": "python3"
  },
  "language_info": {
   "codemirror_mode": {
    "name": "ipython",
    "version": 3
   },
   "file_extension": ".py",
   "mimetype": "text/x-python",
   "name": "python",
   "nbconvert_exporter": "python",
   "pygments_lexer": "ipython3",
   "version": "3.7.3"
  }
 },
 "nbformat": 4,
 "nbformat_minor": 4
}
