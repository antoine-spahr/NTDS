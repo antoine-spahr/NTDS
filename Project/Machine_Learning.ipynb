{
 "cells": [
  {
   "cell_type": "markdown",
   "metadata": {},
   "source": [
    "### Comments"
   ]
  },
  {
   "cell_type": "markdown",
   "metadata": {},
   "source": [
    "**TO DO**\n",
    "* Batch?!\n",
    "* fine tuning des params --> pas optimisé pour le moment\n",
    "* try different architecture\n",
    "* Use genre as features and build network on Cast, Crew, Keywords?\n",
    "* Skip Connections ? Batch Norm ? "
   ]
  },
  {
   "cell_type": "markdown",
   "metadata": {},
   "source": [
    "# Machine Learning"
   ]
  },
  {
   "cell_type": "code",
   "execution_count": 1,
   "metadata": {},
   "outputs": [],
   "source": [
    "import numpy as np\n",
    "import pandas as pd\n",
    "import pickle\n",
    "\n",
    "from sklearn.model_selection import StratifiedShuffleSplit\n",
    "from sklearn.metrics import f1_score, recall_score, precision_score\n",
    "from sklearn.utils import resample\n",
    "from sklearn.decomposition import PCA\n",
    "\n",
    "import random\n",
    "\n",
    "import dgl.function as fn\n",
    "from dgl import DGLGraph\n",
    "import dgl.nn.pytorch as dgl_nn\n",
    "import dgl.transform as dgl_transform\n",
    "\n",
    "import time\n",
    "\n",
    "import torch\n",
    "import torch.nn as nn\n",
    "import torch.nn.functional as F\n",
    "\n",
    "import matplotlib.pyplot as plt\n",
    "\n",
    "Data_path = 'Data/'"
   ]
  },
  {
   "cell_type": "markdown",
   "metadata": {},
   "source": [
    "### Loading the similarity matrix and generate graph"
   ]
  },
  {
   "cell_type": "code",
   "execution_count": 2,
   "metadata": {},
   "outputs": [],
   "source": [
    "# Load similarity matrix\n",
    "#file = open(Data_path + 'Adjacency_matrix.pickle','rb')\n",
    "#file = open(Data_path + 'Adjacency_matrix_G99CCK05.pickle', 'rb')\n",
    "file = open(Data_path + 'Adjacency_matrix_all025.pickle', 'rb')\n",
    "adj_mat =  pickle.load(file)\n",
    "\n",
    "# Generate graph\n",
    "G = DGLGraph(graph_data=adj_mat)\n",
    "G = dgl_transform.add_self_loop(G)"
   ]
  },
  {
   "cell_type": "markdown",
   "metadata": {},
   "source": [
    "### Loading features and labels"
   ]
  },
  {
   "cell_type": "code",
   "execution_count": 3,
   "metadata": {},
   "outputs": [],
   "source": [
    "features_df = pd.read_csv(Data_path + 'features.csv',index_col=0).drop(columns = ['title'])\n",
    "\n",
    "labels_df = pd.read_csv(Data_path + 'labels.csv',index_col=0).drop(columns = ['title', ])"
   ]
  },
  {
   "cell_type": "markdown",
   "metadata": {},
   "source": [
    "keep only some features"
   ]
  },
  {
   "cell_type": "code",
   "execution_count": 4,
   "metadata": {},
   "outputs": [],
   "source": [
    "features_df = features_df[['budget', 'popularity', 'revenue', 'runtime', 'vote_average', 'vote_count']]"
   ]
  },
  {
   "cell_type": "markdown",
   "metadata": {},
   "source": [
    "The labels is whether the movie is nominated for an Oscare or a GoldenGlobes "
   ]
  },
  {
   "cell_type": "code",
   "execution_count": 5,
   "metadata": {},
   "outputs": [],
   "source": [
    "#labels_df['Nominations'] = labels_df['Nominations_Oscars'] + labels_df['Nominations_GoldenGlobes']"
   ]
  },
  {
   "cell_type": "code",
   "execution_count": 6,
   "metadata": {},
   "outputs": [],
   "source": [
    "# features\n",
    "tensor_data = torch.FloatTensor(features_df.values)\n",
    "\n",
    "# labels\n",
    "IMDB_nom = labels_df['Nominations'].copy()\n",
    "IMDB_nom.loc[IMDB_nom > 0] = 1\n",
    "tensor_labels = torch.LongTensor(IMDB_nom.values)"
   ]
  },
  {
   "cell_type": "code",
   "execution_count": 7,
   "metadata": {},
   "outputs": [
    {
     "data": {
      "text/plain": [
       "0.0    3728\n",
       "1.0    1074\n",
       "Name: Nominations, dtype: int64"
      ]
     },
     "execution_count": 7,
     "metadata": {},
     "output_type": "execute_result"
    }
   ],
   "source": [
    "# Just checking class imbalance\n",
    "IMDB_nom.value_counts() # 18.263 % of CLASS 1"
   ]
  },
  {
   "cell_type": "code",
   "execution_count": 8,
   "metadata": {},
   "outputs": [
    {
     "data": {
      "text/plain": [
       "'# Separate majority and minority classes\\ndf_majority = IMDB_nom[IMDB_nom==0]\\ndf_minority = IMDB_nom[IMDB_nom==1]\\n \\n# Downsample majority class\\ndf_majority_downsampled = resample(df_majority, \\n                                 replace=False,    # sample without replacement\\n                                 n_samples=877,     # to match minority class\\n                                 random_state=1) # reproducible results\\n \\n# Combine minority class with downsampled majority class\\ndf_downsampled = pd.concat([df_majority_downsampled, df_minority])\\n \\n# Display new class counts\\ndf_downsampled.value_counts()\\n# 1    49\\n# 0    49\\n# Name: balance, dtype: int64\\n\\nadj_mat_bal = adj_mat[df_downsampled.index,:]\\nadj_mat_bal = adj_mat_bal[:,df_downsampled.index]\\nG = DGLGraph(graph_data=adj_mat_bal)\\n\\nG = dgl_transform.add_self_loop(G)\\n\\ntensor_feat = torch.FloatTensor(features_df.iloc[df_downsampled.index,:].values)\\ntensor_labels = torch.LongTensor(df_downsampled.values)'"
      ]
     },
     "execution_count": 8,
     "metadata": {},
     "output_type": "execute_result"
    }
   ],
   "source": [
    "'''# Separate majority and minority classes\n",
    "df_majority = IMDB_nom[IMDB_nom==0]\n",
    "df_minority = IMDB_nom[IMDB_nom==1]\n",
    " \n",
    "# Downsample majority class\n",
    "df_majority_downsampled = resample(df_majority, \n",
    "                                 replace=False,    # sample without replacement\n",
    "                                 n_samples=877,     # to match minority class\n",
    "                                 random_state=1) # reproducible results\n",
    " \n",
    "# Combine minority class with downsampled majority class\n",
    "df_downsampled = pd.concat([df_majority_downsampled, df_minority])\n",
    " \n",
    "# Display new class counts\n",
    "df_downsampled.value_counts()\n",
    "# 1    49\n",
    "# 0    49\n",
    "# Name: balance, dtype: int64\n",
    "\n",
    "adj_mat_bal = adj_mat[df_downsampled.index,:]\n",
    "adj_mat_bal = adj_mat_bal[:,df_downsampled.index]\n",
    "G = DGLGraph(graph_data=adj_mat_bal)\n",
    "\n",
    "G = dgl_transform.add_self_loop(G)\n",
    "\n",
    "tensor_feat = torch.FloatTensor(features_df.iloc[df_downsampled.index,:].values)\n",
    "tensor_labels = torch.LongTensor(df_downsampled.values)'''"
   ]
  },
  {
   "cell_type": "markdown",
   "metadata": {},
   "source": [
    "### Generate masks and split train, val, test"
   ]
  },
  {
   "cell_type": "code",
   "execution_count": 9,
   "metadata": {},
   "outputs": [],
   "source": [
    "sss1 = StratifiedShuffleSplit(n_splits=1, train_size=0.8, random_state=0)\n",
    "sss2 = StratifiedShuffleSplit(n_splits=1, train_size=0.8, random_state=0)\n",
    "\n",
    "for prov_index, test_index in sss1.split(tensor_data, tensor_labels):\n",
    "    prov_mask = prov_index\n",
    "    test_mask = test_index\n",
    "\n",
    "for train_index, val_index in sss2.split(tensor_data[prov_mask], tensor_labels[prov_mask]):\n",
    "    train_mask = train_index\n",
    "    val_mask = val_index"
   ]
  },
  {
   "cell_type": "raw",
   "metadata": {},
   "source": [
    "sss = StratifiedShuffleSplit(n_splits=1, train_size=0.8, random_state=0)\n",
    "#sss1 = StratifiedShuffleSplit(n_splits=1, train_size=0.8, random_state=0)\n",
    "\n",
    "for prov_index, test_index in sss.split(tensor_data, tensor_labels):\n",
    "    train_mask = prov_index\n",
    "    val_mask = test_index\n",
    "\n",
    "#for train_index, val_index in sss1.split(tensor_feat[prov_mask], tensor_labels[prov_mask]):\n",
    "#    train_mask = train_index\n",
    "#    val_mask = val_index"
   ]
  },
  {
   "cell_type": "markdown",
   "metadata": {},
   "source": [
    "### Building Graph Neural Network"
   ]
  },
  {
   "cell_type": "code",
   "execution_count": 10,
   "metadata": {},
   "outputs": [],
   "source": [
    "#  model: Combine GraphConv layers first then two fully connected layers --> seems less stable over epochs\n",
    "class Linear_GNN(nn.Module):\n",
    "    def __init__(self, in_feats: int, out_feats: int, hidden_size: int):\n",
    "        super().__init__()\n",
    "        self._in_feats = in_feats\n",
    "        self._out_feats = out_feats\n",
    "        self._hidden_size = hidden_size\n",
    "        \n",
    "        # Layers --> as much GraphConv as diameter --> reach everywhere\n",
    "        self.linear = nn.Linear(self._in_feats, 16)\n",
    "        self.gcn1 = dgl_nn.conv.GraphConv(16, 32, activation=F.relu)\n",
    "        self.gcn2 = dgl_nn.conv.GraphConv(32, 32, activation=F.relu)\n",
    "        self.gcn3 = dgl_nn.conv.GraphConv(32, 32, activation=F.relu)\n",
    "        self.gcn4 = dgl_nn.conv.GraphConv(32, 32, activation=F.relu)\n",
    "        self.gcn5 = dgl_nn.conv.GraphConv(32, 32, activation=F.relu)\n",
    "        self.gcn6 = dgl_nn.conv.GraphConv(32, 32, activation=F.relu)\n",
    "        self.gcn7 = dgl_nn.conv.GraphConv(32, 32, activation=F.relu)\n",
    "        self.gcn8 = dgl_nn.conv.GraphConv(32, 32, activation=F.relu)\n",
    "        self.gcn9 = dgl_nn.conv.GraphConv(32, 32, activation=F.relu)\n",
    "        self.gcn10 = dgl_nn.conv.GraphConv(32, 32, activation=F.relu)\n",
    "        self.gcn11 = dgl_nn.conv.GraphConv(32, 32, activation=F.relu)\n",
    "        self.linear1 = nn.Linear(32, self._out_feats)#self._hidden_size)\n",
    "        self.linear2 = nn.Linear(self._hidden_size, self._out_feats)\n",
    "        \n",
    "    def forward(self, graph, feat):\n",
    "        h = F.relu(self.linear(feat))\n",
    "        h = self.gcn1(graph, h)\n",
    "        h = self.gcn2(graph, h)\n",
    "        h = self.gcn3(graph, h)\n",
    "        h = self.gcn4(graph, h)\n",
    "        h = self.gcn5(graph, h)\n",
    "        h = self.gcn6(graph, h)\n",
    "        h = self.gcn7(graph, h)\n",
    "        h = self.gcn8(graph, h)\n",
    "        h = self.gcn9(graph, h)\n",
    "        h = self.gcn10(graph, h)\n",
    "        h = self.gcn11(graph, h)\n",
    "        h = self.linear1(h)\n",
    "        #h = F.relu(h)\n",
    "        #h = self.linear2(h)\n",
    "        h = F.log_softmax(h, dim=1)\n",
    "        return h \n",
    "\n",
    "# Model : Only GraphConv layers --> seems more stable\n",
    "class Pure_GNN(nn.Module):\n",
    "    def __init__(self, in_feats: int, out_feats: int, hidden_size: int):\n",
    "        super().__init__()\n",
    "        self._in_feats = in_feats\n",
    "        self._out_feats = out_feats\n",
    "        self._hidden_size = hidden_size\n",
    "        \n",
    "        # Layers\n",
    "        self.gcn1 = dgl_nn.conv.GraphConv(self._in_feats, 32, activation=F.relu)\n",
    "        self.gcn2 = dgl_nn.conv.GraphConv(32, 32, activation=F.relu)\n",
    "        self.gcn3 = dgl_nn.conv.GraphConv(32, 32, activation=F.relu)\n",
    "        self.gcn4 = dgl_nn.conv.GraphConv(32, 32, activation=F.relu)\n",
    "        self.gcn5 = dgl_nn.conv.GraphConv(32, 32, activation=F.relu)\n",
    "        self.gcn6 = dgl_nn.conv.GraphConv(32, 32, activation=F.relu)\n",
    "        self.gcn7 = dgl_nn.conv.GraphConv(32, 32, activation=F.relu)\n",
    "        self.gcn8 = dgl_nn.conv.GraphConv(32, 32, activation=F.relu)\n",
    "        self.gcn9 = dgl_nn.conv.GraphConv(32, 32, activation=F.relu)\n",
    "        self.gcn10 = dgl_nn.conv.GraphConv(32, 32, activation=F.relu)\n",
    "        self.gcn11 = dgl_nn.conv.GraphConv(32,  self._out_feats, activation=None)\n",
    "        \n",
    "    def forward(self, graph, feat):\n",
    "        h = self.gcn1(graph, feat)\n",
    "        h = self.gcn2(graph, h)\n",
    "        h = self.gcn3(graph, h)\n",
    "        h = self.gcn4(graph, h)\n",
    "        h = self.gcn5(graph, h)\n",
    "        h = self.gcn6(graph, h)\n",
    "        h = self.gcn7(graph, h)\n",
    "        h = self.gcn8(graph, h)\n",
    "        h = self.gcn9(graph, h)\n",
    "        h = self.gcn10(graph, h)\n",
    "        h = self.gcn11(graph, h)\n",
    "        h = F.log_softmax(h, dim=1)\n",
    "        return h \n",
    "\n",
    "# model : Use and APPNP layer with k=7 (the network diameter) followed by 2 fully connected linears. \n",
    "class Simple_APPNP(nn.Module):\n",
    "    def __init__(self, in_feats: int, out_feats: int, hidden_size: int, k: int):\n",
    "        super().__init__()\n",
    "        self._k = k\n",
    "        self._in_feats = in_feats\n",
    "        self._out_feats = out_feats\n",
    "        self._hidden_size = hidden_size\n",
    "        \n",
    "        # Layers\n",
    "        self.appnpconv1 = dgl_nn.conv.APPNPConv(self._k, 0.1, 0) #alpha teleport proba = 0.1 (cf paper)\n",
    "        self.linear1 = nn.Linear(self._in_feats, self._hidden_size)\n",
    "        self.linear2 = nn.Linear(self._hidden_size, self._out_feats)\n",
    "        \n",
    "    def forward(self, graph, feat):\n",
    "        h = self.appnpconv1(graph, feat)\n",
    "        h = self.linear1(h)\n",
    "        h = F.relu(h)\n",
    "        h = self.linear2(h)\n",
    "        h = F.log_softmax(h, dim=1)\n",
    "        return h "
   ]
  },
  {
   "cell_type": "code",
   "execution_count": 11,
   "metadata": {},
   "outputs": [],
   "source": [
    "def train(model, g, features, labels, train_mask, loss_fcn, optimizer):\n",
    "    \"\"\" TO DO : add doctring \"\"\"\n",
    "    model.train()  \n",
    "    \n",
    "    pred = model(g, features) # prediction\n",
    "    loss = loss_fcn(pred[train_mask], tensor_labels[train_mask])\n",
    "    optimizer.zero_grad()    \n",
    "    loss.backward()\n",
    "    optimizer.step()\n",
    "    return loss\n",
    "\n",
    "def evaluate(model, g, features, mask, labels):\n",
    "    \"\"\"  TO DO : add docstring \"\"\"\n",
    "    model.eval()  \n",
    "    \n",
    "    with torch.no_grad():\n",
    "        pred = model(g, features)[mask]  # only compute the evaluation set\n",
    "        labels = labels[mask]\n",
    "        _, indices = torch.max(pred, dim=1)\n",
    "        correct = torch.sum(indices == labels)\n",
    "        acc = correct.item() * 1.0 / len(labels) #not the best metric\n",
    "        f1 = f1_score(labels, indices)\n",
    "        recall = recall_score(labels, indices)\n",
    "        precision = precision_score(labels, indices)\n",
    "        \n",
    "        return acc, recall, precision, f1"
   ]
  },
  {
   "cell_type": "code",
   "execution_count": 12,
   "metadata": {},
   "outputs": [],
   "source": [
    "# check network diameter --> take a lot of time to run \n",
    "import networkx as nx\n",
    "Gnx = nx.from_numpy_array(adj_mat)\n",
    "G_large = max(nx.connected_component_subgraphs(Gnx), key=len)\n",
    "#d = nx.diameter(G_large) \n",
    "#print(f'diameter : {d}')"
   ]
  },
  {
   "cell_type": "code",
   "execution_count": 13,
   "metadata": {},
   "outputs": [],
   "source": [
    "# Fixed values\n",
    "in_feats = tensor_data.shape[1]\n",
    "out_feats = 2\n",
    "\n",
    "# Not relevant parameters\n",
    "n_epochs = 700\n",
    "# To tune\n",
    "k = 6 # number of hop (how far to look) usually best to use the network diameter (according to paper)\n",
    "lr = 1e-4\n",
    "lr2 = 2e-5\n",
    "lr3 = 8e-6\n",
    "weight_decay = 5e-6\n",
    "#p_dropout = 0 # for now not doing it\n",
    "\n",
    "hidden_size = 128\n",
    "true_ratio = 1074/4802 # <-- fraction of Nominations\n",
    "weights_loss = torch.FloatTensor([true_ratio, 1-true_ratio]) # to rebalance"
   ]
  },
  {
   "cell_type": "code",
   "execution_count": 14,
   "metadata": {},
   "outputs": [
    {
     "name": "stdout",
     "output_type": "stream",
     "text": [
      "Epoch 10 | Train Loss 18730.600 | Val Accuracy 24.7074% | Val recall  100.0000% |  Val  precision 24.7074% | Val f1 39.6246% |\n",
      "Epoch 20 | Train Loss 6631.865 | Val Accuracy 24.7074% | Val recall  100.0000% |  Val  precision 24.7074% | Val f1 39.6246% |\n",
      "Epoch 30 | Train Loss 1198.853 | Val Accuracy 74.1222% | Val recall  1.5789% |  Val  precision 20.0000% | Val f1 2.9268% |\n",
      "Epoch 40 | Train Loss 355.242 | Val Accuracy 25.6177% | Val recall  99.4737% |  Val  precision 24.8684% | Val f1 39.7895% |\n",
      "Epoch 50 | Train Loss 402.846 | Val Accuracy 68.4005% | Val recall  5.7895% |  Val  precision 14.6667% | Val f1 8.3019% |\n",
      "Epoch 60 | Train Loss 241.590 | Val Accuracy 57.6073% | Val recall  30.5263% |  Val  precision 23.0159% | Val f1 26.2443% |\n",
      "Epoch 70 | Train Loss 156.443 | Val Accuracy 41.3524% | Val recall  65.2632% |  Val  precision 24.3615% | Val f1 35.4793% |\n",
      "Epoch 80 | Train Loss 140.928 | Val Accuracy 59.5579% | Val recall  27.8947% |  Val  precision 23.3480% | Val f1 25.4197% |\n",
      "Epoch 90 | Train Loss 88.500 | Val Accuracy 64.8895% | Val recall  35.7895% |  Val  precision 31.4815% | Val f1 33.4975% |\n",
      "Epoch 100 | Train Loss 75.196 | Val Accuracy 47.2042% | Val recall  64.2105% |  Val  precision 26.5217% | Val f1 37.5385% |\n",
      "Epoch 110 | Train Loss 53.053 | Val Accuracy 49.9350% | Val recall  69.4737% |  Val  precision 28.7582% | Val f1 40.6780% |\n",
      "Epoch 120 | Train Loss 49.366 | Val Accuracy 54.6164% | Val recall  66.3158% |  Val  precision 30.6569% | Val f1 41.9301% |\n",
      "Epoch 130 | Train Loss 46.706 | Val Accuracy 62.1586% | Val recall  54.7368% |  Val  precision 33.6570% | Val f1 41.6834% |\n",
      "Epoch 140 | Train Loss 44.762 | Val Accuracy 57.0871% | Val recall  72.1053% |  Val  precision 33.0918% | Val f1 45.3642% |\n",
      "Epoch 150 | Train Loss 42.357 | Val Accuracy 58.3875% | Val recall  68.4211% |  Val  precision 33.3333% | Val f1 44.8276% |\n",
      "Epoch 160 | Train Loss 40.706 | Val Accuracy 55.7867% | Val recall  69.4737% |  Val  precision 31.8841% | Val f1 43.7086% |\n",
      "Epoch 170 | Train Loss 39.235 | Val Accuracy 56.8270% | Val recall  57.3684% |  Val  precision 30.2778% | Val f1 39.6364% |\n",
      "Epoch 180 | Train Loss 37.998 | Val Accuracy 56.4369% | Val recall  57.3684% |  Val  precision 30.0275% | Val f1 39.4213% |\n",
      "Epoch 190 | Train Loss 36.980 | Val Accuracy 55.3966% | Val recall  60.5263% |  Val  precision 30.0261% | Val f1 40.1396% |\n",
      "Epoch 200 | Train Loss 36.074 | Val Accuracy 58.2575% | Val recall  54.7368% |  Val  precision 30.6785% | Val f1 39.3195% |\n",
      "Epoch 210 | Train Loss 35.343 | Val Accuracy 56.9571% | Val recall  62.1053% |  Val  precision 31.2997% | Val f1 41.6226% |\n",
      "Epoch 220 | Train Loss 34.773 | Val Accuracy 58.6476% | Val recall  54.7368% |  Val  precision 30.9524% | Val f1 39.5437% |\n",
      "Epoch 230 | Train Loss 34.676 | Val Accuracy 55.0065% | Val recall  60.0000% |  Val  precision 29.6875% | Val f1 39.7213% |\n",
      "Epoch 240 | Train Loss 33.335 | Val Accuracy 52.0156% | Val recall  66.3158% |  Val  precision 29.2343% | Val f1 40.5797% |\n",
      "Epoch 250 | Train Loss 32.478 | Val Accuracy 51.3654% | Val recall  77.8947% |  Val  precision 30.8333% | Val f1 44.1791% |\n",
      "Epoch 260 | Train Loss 32.195 | Val Accuracy 55.1365% | Val recall  61.5789% |  Val  precision 30.0771% | Val f1 40.4145% |\n",
      "Epoch 270 | Train Loss 31.869 | Val Accuracy 62.9389% | Val recall  34.2105% |  Val  precision 28.8889% | Val f1 31.3253% |\n",
      "Epoch 280 | Train Loss 31.689 | Val Accuracy 44.4733% | Val recall  78.9474% |  Val  precision 27.9330% | Val f1 41.2655% |\n",
      "Epoch 290 | Train Loss 31.609 | Val Accuracy 58.5176% | Val recall  53.1579% |  Val  precision 30.5136% | Val f1 38.7716% |\n",
      "Epoch 300 | Train Loss 30.311 | Val Accuracy 63.9792% | Val recall  33.1579% |  Val  precision 29.5775% | Val f1 31.2655% |\n",
      "Epoch 310 | Train Loss 29.910 | Val Accuracy 57.6073% | Val recall  54.7368% |  Val  precision 30.2326% | Val f1 38.9513% |\n",
      "Epoch 320 | Train Loss 29.224 | Val Accuracy 56.0468% | Val recall  60.0000% |  Val  precision 30.3191% | Val f1 40.2827% |\n",
      "Epoch 330 | Train Loss 28.885 | Val Accuracy 59.4278% | Val recall  44.2105% |  Val  precision 28.9655% | Val f1 35.0000% |\n",
      "Epoch 340 | Train Loss 28.755 | Val Accuracy 53.5761% | Val recall  61.5789% |  Val  precision 29.1771% | Val f1 39.5939% |\n",
      "Epoch 350 | Train Loss 28.456 | Val Accuracy 56.6970% | Val recall  53.6842% |  Val  precision 29.3948% | Val f1 37.9888% |\n",
      "Epoch 360 | Train Loss 28.250 | Val Accuracy 54.3563% | Val recall  60.5263% |  Val  precision 29.4118% | Val f1 39.5869% |\n",
      "Epoch 370 | Train Loss 28.022 | Val Accuracy 56.8270% | Val recall  54.2105% |  Val  precision 29.5977% | Val f1 38.2900% |\n",
      "Epoch 380 | Train Loss 27.812 | Val Accuracy 55.6567% | Val recall  55.7895% |  Val  precision 29.2011% | Val f1 38.3363% |\n",
      "Epoch 390 | Train Loss 27.587 | Val Accuracy 56.9571% | Val recall  51.5789% |  Val  precision 29.0801% | Val f1 37.1917% |\n",
      "Epoch 400 | Train Loss 27.381 | Val Accuracy 53.9662% | Val recall  58.4211% |  Val  precision 28.7565% | Val f1 38.5417% |\n",
      "Epoch 410 | Train Loss 27.187 | Val Accuracy 56.8270% | Val recall  51.5789% |  Val  precision 28.9941% | Val f1 37.1212% |\n",
      "Epoch 420 | Train Loss 27.005 | Val Accuracy 48.3745% | Val recall  59.4737% |  Val  precision 26.0970% | Val f1 36.2761% |\n",
      "Epoch 430 | Train Loss 26.898 | Val Accuracy 53.3160% | Val recall  57.3684% |  Val  precision 28.1654% | Val f1 37.7816% |\n",
      "Epoch 440 | Train Loss 26.660 | Val Accuracy 56.0468% | Val recall  52.1053% |  Val  precision 28.6127% | Val f1 36.9403% |\n",
      "Epoch 450 | Train Loss 26.494 | Val Accuracy 47.0741% | Val recall  65.7895% |  Val  precision 26.7666% | Val f1 38.0518% |\n",
      "Epoch 460 | Train Loss 26.291 | Val Accuracy 48.7646% | Val recall  60.0000% |  Val  precision 26.3889% | Val f1 36.6559% |\n",
      "Epoch 470 | Train Loss 26.304 | Val Accuracy 59.8179% | Val recall  43.6842% |  Val  precision 29.1228% | Val f1 34.9474% |\n",
      "Epoch 480 | Train Loss 26.121 | Val Accuracy 60.5982% | Val recall  42.1053% |  Val  precision 29.3040% | Val f1 34.5572% |\n",
      "Epoch 490 | Train Loss 26.401 | Val Accuracy 47.7243% | Val recall  62.6316% |  Val  precision 26.4444% | Val f1 37.1875% |\n",
      "Epoch 500 | Train Loss 25.656 | Val Accuracy 65.7997% | Val recall  29.4737% |  Val  precision 30.2703% | Val f1 29.8667% |\n",
      "Epoch 510 | Train Loss 26.175 | Val Accuracy 65.4096% | Val recall  30.0000% |  Val  precision 30.0000% | Val f1 30.0000% |\n",
      "Epoch 520 | Train Loss 25.435 | Val Accuracy 65.7997% | Val recall  28.9474% |  Val  precision 30.0546% | Val f1 29.4906% |\n",
      "Epoch 530 | Train Loss 25.988 | Val Accuracy 65.6697% | Val recall  31.0526% |  Val  precision 30.7292% | Val f1 30.8901% |\n",
      "Epoch 540 | Train Loss 25.334 | Val Accuracy 65.9298% | Val recall  28.9474% |  Val  precision 30.2198% | Val f1 29.5699% |\n",
      "Epoch 550 | Train Loss 25.265 | Val Accuracy 65.4096% | Val recall  28.9474% |  Val  precision 29.5699% | Val f1 29.2553% |\n",
      "Epoch 560 | Train Loss 25.188 | Val Accuracy 65.4096% | Val recall  28.9474% |  Val  precision 29.5699% | Val f1 29.2553% |\n",
      "Epoch 570 | Train Loss 24.974 | Val Accuracy 65.7997% | Val recall  28.9474% |  Val  precision 30.0546% | Val f1 29.4906% |\n",
      "Epoch 580 | Train Loss 24.873 | Val Accuracy 65.6697% | Val recall  28.9474% |  Val  precision 29.8913% | Val f1 29.4118% |\n",
      "Epoch 590 | Train Loss 24.739 | Val Accuracy 65.7997% | Val recall  28.9474% |  Val  precision 30.0546% | Val f1 29.4906% |\n",
      "Epoch 600 | Train Loss 24.600 | Val Accuracy 65.7997% | Val recall  28.9474% |  Val  precision 30.0546% | Val f1 29.4906% |\n",
      "Epoch 610 | Train Loss 24.495 | Val Accuracy 65.9298% | Val recall  28.9474% |  Val  precision 30.2198% | Val f1 29.5699% |\n",
      "Epoch 620 | Train Loss 24.367 | Val Accuracy 65.9298% | Val recall  28.9474% |  Val  precision 30.2198% | Val f1 29.5699% |\n",
      "Epoch 630 | Train Loss 24.253 | Val Accuracy 65.9298% | Val recall  28.9474% |  Val  precision 30.2198% | Val f1 29.5699% |\n",
      "Epoch 640 | Train Loss 24.136 | Val Accuracy 65.6697% | Val recall  28.9474% |  Val  precision 29.8913% | Val f1 29.4118% |\n",
      "Epoch 650 | Train Loss 24.014 | Val Accuracy 65.6697% | Val recall  28.9474% |  Val  precision 29.8913% | Val f1 29.4118% |\n",
      "Epoch 660 | Train Loss 23.896 | Val Accuracy 65.7997% | Val recall  28.9474% |  Val  precision 30.0546% | Val f1 29.4906% |\n",
      "Epoch 670 | Train Loss 23.789 | Val Accuracy 65.6697% | Val recall  28.9474% |  Val  precision 29.8913% | Val f1 29.4118% |\n"
     ]
    },
    {
     "name": "stdout",
     "output_type": "stream",
     "text": [
      "Epoch 680 | Train Loss 23.688 | Val Accuracy 65.7997% | Val recall  28.9474% |  Val  precision 30.0546% | Val f1 29.4906% |\n",
      "Epoch 690 | Train Loss 23.575 | Val Accuracy 65.9298% | Val recall  29.4737% |  Val  precision 30.4348% | Val f1 29.9465% |\n",
      "Epoch 700 | Train Loss 23.460 | Val Accuracy 65.7997% | Val recall  28.9474% |  Val  precision 30.0546% | Val f1 29.4906% |\n",
      "\n",
      "Test \n",
      " \t|---- Accuracy 70.3434% \n",
      " \t|---- Recall 32.0930% \n",
      " \t|---- Precision 33.1731% \n",
      " \t|---- F1-score 32.6241%\n"
     ]
    },
    {
     "data": {
      "image/png": "[encoded data removed]",
      "text/plain": [
       "<Figure size 864x1152 with 2 Axes>"
      ]
     },
     "metadata": {
      "needs_background": "light"
     },
     "output_type": "display_data"
    }
   ],
   "source": [
    "model = Linear_GNN(in_feats, out_feats, hidden_size)\n",
    "#model = Simple_APPNP(in_feats, out_feats, hidden_size, k)\n",
    "\n",
    "loss_fcn = torch.nn.NLLLoss(weight=weights_loss)\n",
    "optimizer = torch.optim.Adam(model.parameters(),\n",
    "                                                  lr=lr)\n",
    "                                                  #weight_decay=weight_decay)\n",
    "losses = []\n",
    "for epoch in range(n_epochs):\n",
    "    # adapt learning rate\n",
    "    if epoch == 100: \n",
    "        for param_group in optimizer.param_groups:\n",
    "            param_group['lr'] = lr2\n",
    "    elif epoch == 300: \n",
    "        for param_group in optimizer.param_groups:\n",
    "            param_group['lr'] = lr3\n",
    "    \n",
    "    loss = train(model, G, tensor_data, tensor_labels, train_mask, loss_fcn, optimizer)\n",
    "    losses.append(loss.item())\n",
    "    acc, recall, precision, f1 = evaluate(model, G, tensor_data, val_mask, tensor_labels)\n",
    "    \n",
    "    if (1+epoch)%10 == 0:\n",
    "        print(f\"Epoch {epoch+1} | Train Loss {loss.item():.3f} |\", \\\n",
    "                f\"Val Accuracy {acc:.4%} | Val recall  {recall:.4%} |\", \\\n",
    "                f\" Val  precision {precision:.4%} | Val f1 {f1:.4%} |\")\n",
    "\n",
    "print()\n",
    "acc, recall, precision, f1 = evaluate(model, G, tensor_data, test_mask, tensor_labels)\n",
    "print(f\"Test \\n \\t|---- Accuracy {acc:.4%} \\n \\t|---- Recall {recall:.4%} \\n \\t|---- Precision {precision:.4%} \\n \\t|---- F1-score {f1:.4%}\")\n",
    "\n",
    "# Plot the loss\n",
    "fig, axs = plt.subplots(2,1,figsize=(12,16))\n",
    "ep = np.arange(1,n_epochs+1,1)\n",
    "axs[0].plot(ep[0:100], losses[0:100], color='Goldenrod', linewidth=2)\n",
    "axs[0].plot(ep, np.zeros(ep.shape), color='black', linewidth=0.5)\n",
    "axs[0].set_xlim([0,100])\n",
    "axs[0].set_xlabel('epoch')\n",
    "axs[0].set_ylabel('Loss')\n",
    "\n",
    "axs[1].plot(ep[100:], losses[100:], color='Goldenrod', linewidth=2)\n",
    "axs[1].plot(ep, np.zeros(ep.shape), color='black', linewidth=0.5)\n",
    "axs[1].set_xlim([100,n_epochs+1])\n",
    "axs[1].set_xlabel('epoch')\n",
    "axs[1].set_ylabel('Loss')\n",
    "\n",
    "plt.show()"
   ]
  },
  {
   "cell_type": "code",
   "execution_count": null,
   "metadata": {},
   "outputs": [],
   "source": []
  }
 ],
 "metadata": {
  "kernelspec": {
   "display_name": "Python 3",
   "language": "python",
   "name": "python3"
  },
  "language_info": {
   "codemirror_mode": {
    "name": "ipython",
    "version": 3
   },
   "file_extension": ".py",
   "mimetype": "text/x-python",
   "name": "python",
   "nbconvert_exporter": "python",
   "pygments_lexer": "ipython3",
   "version": "3.7.4"
  }
 },
 "nbformat": 4,
 "nbformat_minor": 4
}
