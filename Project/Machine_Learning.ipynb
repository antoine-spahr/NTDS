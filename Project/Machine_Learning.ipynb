{
 "cells": [
  {
   "cell_type": "markdown",
   "metadata": {},
   "source": [
    "### Comments"
   ]
  },
  {
   "cell_type": "markdown",
   "metadata": {},
   "source": [
    "**TO DO**\n",
    "* Batch?!\n",
    "* fine tuning des params --> pas optimisé pour le moment\n",
    "* try different architecture\n",
    "* Use genre as features and build network on Cast, Crew, Keywords?\n",
    "* Skip Connections ? Batch Norm ? "
   ]
  },
  {
   "cell_type": "markdown",
   "metadata": {},
   "source": [
    "# Machine Learning"
   ]
  },
  {
   "cell_type": "code",
   "execution_count": 1,
   "metadata": {},
   "outputs": [],
   "source": [
    "import numpy as np\n",
    "import pandas as pd\n",
    "import pickle\n",
    "\n",
    "from sklearn.model_selection import StratifiedShuffleSplit\n",
    "from sklearn.metrics import f1_score, recall_score\n",
    "from sklearn.utils import resample\n",
    "from sklearn.decomposition import PCA\n",
    "\n",
    "import random\n",
    "\n",
    "import dgl.function as fn\n",
    "from dgl import DGLGraph\n",
    "import dgl.nn.pytorch as dgl_nn\n",
    "import dgl.transform as dgl_transform\n",
    "\n",
    "import time\n",
    "\n",
    "import torch\n",
    "import torch.nn as nn\n",
    "import torch.nn.functional as F\n",
    "\n",
    "import matplotlib.pyplot as plt\n",
    "\n",
    "Data_path = 'Data/'"
   ]
  },
  {
   "cell_type": "markdown",
   "metadata": {},
   "source": [
    "### Loading the similarity matrix and generate graph"
   ]
  },
  {
   "cell_type": "code",
   "execution_count": 2,
   "metadata": {},
   "outputs": [],
   "source": [
    "# Load similarity matrix\n",
    "#file = open(Data_path + 'Adjacency_matrix.pickle','rb')\n",
    "file = open(Data_path + 'Adjacency_matrix_Genre099_CC005.pickle','rb')\n",
    "adj_mat =  pickle.load(file)\n",
    "\n",
    "# Generate graph\n",
    "G = DGLGraph(graph_data=adj_mat)\n",
    "G = dgl_transform.add_self_loop(G)"
   ]
  },
  {
   "cell_type": "markdown",
   "metadata": {},
   "source": [
    "### Loading features and labels"
   ]
  },
  {
   "cell_type": "code",
   "execution_count": 3,
   "metadata": {},
   "outputs": [],
   "source": [
    "features_df = pd.read_csv(Data_path + 'features.csv',index_col=0).drop(columns = ['title'])\n",
    "\n",
    "labels_df = pd.read_csv(Data_path + 'labels.csv',index_col=0).drop(columns = ['title'])"
   ]
  },
  {
   "cell_type": "markdown",
   "metadata": {},
   "source": [
    "keep only some features"
   ]
  },
  {
   "cell_type": "code",
   "execution_count": 4,
   "metadata": {},
   "outputs": [],
   "source": [
    "features_df = features_df[['budget', 'popularity', 'revenue', 'runtime', 'vote_average', 'vote_count']]"
   ]
  },
  {
   "cell_type": "markdown",
   "metadata": {},
   "source": [
    "The labels is whether the movie is nominated for an Oscare or a GoldenGlobes "
   ]
  },
  {
   "cell_type": "code",
   "execution_count": 5,
   "metadata": {},
   "outputs": [],
   "source": [
    "labels_df['Nominations'] = labels_df['Nominations_Oscars'] + labels_df['Nominations_GoldenGlobes']"
   ]
  },
  {
   "cell_type": "code",
   "execution_count": 6,
   "metadata": {},
   "outputs": [],
   "source": [
    "# features\n",
    "tensor_data = torch.FloatTensor(features_df.values)\n",
    "\n",
    "# labels\n",
    "IMDB_nom = labels_df['Nominations'].copy()\n",
    "IMDB_nom.loc[IMDB_nom > 0] = 1\n",
    "tensor_labels = torch.LongTensor(IMDB_nom.values)"
   ]
  },
  {
   "cell_type": "code",
   "execution_count": 7,
   "metadata": {},
   "outputs": [
    {
     "data": {
      "text/plain": [
       "0.0    3728\n",
       "1.0    1074\n",
       "Name: Nominations, dtype: int64"
      ]
     },
     "execution_count": 7,
     "metadata": {},
     "output_type": "execute_result"
    }
   ],
   "source": [
    "# Just checking class imbalance\n",
    "IMDB_nom.value_counts() # 18.263 % of CLASS 1"
   ]
  },
  {
   "cell_type": "code",
   "execution_count": 8,
   "metadata": {},
   "outputs": [
    {
     "data": {
      "text/plain": [
       "'# Separate majority and minority classes\\ndf_majority = IMDB_nom[IMDB_nom==0]\\ndf_minority = IMDB_nom[IMDB_nom==1]\\n \\n# Downsample majority class\\ndf_majority_downsampled = resample(df_majority, \\n                                 replace=False,    # sample without replacement\\n                                 n_samples=877,     # to match minority class\\n                                 random_state=1) # reproducible results\\n \\n# Combine minority class with downsampled majority class\\ndf_downsampled = pd.concat([df_majority_downsampled, df_minority])\\n \\n# Display new class counts\\ndf_downsampled.value_counts()\\n# 1    49\\n# 0    49\\n# Name: balance, dtype: int64\\n\\nadj_mat_bal = adj_mat[df_downsampled.index,:]\\nadj_mat_bal = adj_mat_bal[:,df_downsampled.index]\\nG = DGLGraph(graph_data=adj_mat_bal)\\n\\nG = dgl_transform.add_self_loop(G)\\n\\ntensor_feat = torch.FloatTensor(features_df.iloc[df_downsampled.index,:].values)\\ntensor_labels = torch.LongTensor(df_downsampled.values)'"
      ]
     },
     "execution_count": 8,
     "metadata": {},
     "output_type": "execute_result"
    }
   ],
   "source": [
    "'''# Separate majority and minority classes\n",
    "df_majority = IMDB_nom[IMDB_nom==0]\n",
    "df_minority = IMDB_nom[IMDB_nom==1]\n",
    " \n",
    "# Downsample majority class\n",
    "df_majority_downsampled = resample(df_majority, \n",
    "                                 replace=False,    # sample without replacement\n",
    "                                 n_samples=877,     # to match minority class\n",
    "                                 random_state=1) # reproducible results\n",
    " \n",
    "# Combine minority class with downsampled majority class\n",
    "df_downsampled = pd.concat([df_majority_downsampled, df_minority])\n",
    " \n",
    "# Display new class counts\n",
    "df_downsampled.value_counts()\n",
    "# 1    49\n",
    "# 0    49\n",
    "# Name: balance, dtype: int64\n",
    "\n",
    "adj_mat_bal = adj_mat[df_downsampled.index,:]\n",
    "adj_mat_bal = adj_mat_bal[:,df_downsampled.index]\n",
    "G = DGLGraph(graph_data=adj_mat_bal)\n",
    "\n",
    "G = dgl_transform.add_self_loop(G)\n",
    "\n",
    "tensor_feat = torch.FloatTensor(features_df.iloc[df_downsampled.index,:].values)\n",
    "tensor_labels = torch.LongTensor(df_downsampled.values)'''"
   ]
  },
  {
   "cell_type": "markdown",
   "metadata": {},
   "source": [
    "### Generate masks and split train, val, test"
   ]
  },
  {
   "cell_type": "code",
   "execution_count": 9,
   "metadata": {},
   "outputs": [],
   "source": [
    "sss = StratifiedShuffleSplit(n_splits=1, train_size=0.8, random_state=0)\n",
    "#sss1 = StratifiedShuffleSplit(n_splits=1, train_size=0.8, random_state=0)\n",
    "\n",
    "for prov_index, test_index in sss.split(tensor_data, tensor_labels):\n",
    "    train_mask = prov_index\n",
    "    val_mask = test_index\n",
    "\n",
    "#for train_index, val_index in sss1.split(tensor_feat[prov_mask], tensor_labels[prov_mask]):\n",
    "#    train_mask = train_index\n",
    "#    val_mask = val_index"
   ]
  },
  {
   "cell_type": "markdown",
   "metadata": {},
   "source": [
    "### Building Graph Neural Network"
   ]
  },
  {
   "cell_type": "code",
   "execution_count": 22,
   "metadata": {},
   "outputs": [],
   "source": [
    "#  model: Combine GraphConv layers first then two fully connected layers --> seems less stable over epochs\n",
    "class Linear_GNN(nn.Module):\n",
    "    def __init__(self, in_feats: int, out_feats: int, hidden_size: int):\n",
    "        super().__init__()\n",
    "        self._in_feats = in_feats\n",
    "        self._out_feats = out_feats\n",
    "        self._hidden_size = hidden_size\n",
    "        \n",
    "        # Layers\n",
    "        self.gcn1 = dgl_nn.conv.GraphConv(self._in_feats, 16, activation=F.relu)\n",
    "        self.gcn2 = dgl_nn.conv.GraphConv(16, 32, activation=F.relu)\n",
    "        self.gcn3 = dgl_nn.conv.GraphConv(32, 64, activation=F.relu)\n",
    "        self.gcn4 = dgl_nn.conv.GraphConv(64, 128, activation=F.relu)\n",
    "        self.linear1 = nn.Linear(128, self._hidden_size)\n",
    "        self.linear2 = nn.Linear(self._hidden_size, self._out_feats)\n",
    "        \n",
    "    def forward(self, graph, feat):\n",
    "        h = self.gcn1(graph, feat)\n",
    "        h = self.gcn2(graph, h)\n",
    "        h = self.gcn3(graph, h)\n",
    "        h = self.gcn4(graph, h)\n",
    "        h = self.linear1(h)\n",
    "        h = F.relu(h)\n",
    "        h = self.linear2(h)\n",
    "        h = F.log_softmax(h, dim=1)\n",
    "        return h \n",
    "\n",
    "# Model : Only GraphConv layers --> seems more stable\n",
    "class Pure_GNN(nn.Module):\n",
    "    def __init__(self, in_feats: int, out_feats: int, hidden_size: int):\n",
    "        super().__init__()\n",
    "        self._in_feats = in_feats\n",
    "        self._out_feats = out_feats\n",
    "        self._hidden_size = hidden_size\n",
    "        \n",
    "        # Layers\n",
    "        self.gcn1 = dgl_nn.conv.GraphConv(self._in_feats, 16, activation=F.relu)\n",
    "        self.gcn2 = dgl_nn.conv.GraphConv(16, 32, activation=F.relu)\n",
    "        self.gcn3 = dgl_nn.conv.GraphConv(32, 32, activation=F.relu)\n",
    "        self.gcn4 = dgl_nn.conv.GraphConv(32, 32, activation=F.relu)\n",
    "        self.gcn5 = dgl_nn.conv.GraphConv(32, self._out_feats, activation=None)\n",
    "        \n",
    "    def forward(self, graph, feat):\n",
    "        h = self.gcn1(graph, feat)\n",
    "        h = self.gcn2(graph, h)\n",
    "        h = self.gcn3(graph, h)\n",
    "        h = self.gcn4(graph, h)\n",
    "        h = self.gcn5(graph, h)\n",
    "        h = F.log_softmax(h, dim=1)\n",
    "        return h \n",
    "\n",
    "# model : Use and APPNP layer with k=7 (the network diameter) followed by 2 fully connected linears. \n",
    "class Simple_APPNP(nn.Module):\n",
    "    def __init__(self, in_feats: int, out_feats: int, hidden_size: int, k: int):\n",
    "        super().__init__()\n",
    "        self._k = k\n",
    "        self._in_feats = in_feats\n",
    "        self._out_feats = out_feats\n",
    "        self._hidden_size = hidden_size\n",
    "        \n",
    "        # Layers\n",
    "        self.appnpconv1 = dgl_nn.conv.APPNPConv(self._k, 0.1, 0) #alpha teleport proba = 0.1 (cf paper)\n",
    "        self.linear1 = nn.Linear(self._in_feats, self._hidden_size)\n",
    "        self.linear2 = nn.Linear(self._hidden_size, self._out_feats)\n",
    "        \n",
    "    def forward(self, graph, feat):\n",
    "        h = self.appnpconv1(graph, feat)\n",
    "        h = self.linear1(h)\n",
    "        h = F.relu(h)\n",
    "        h = self.linear2(h)\n",
    "        h = F.log_softmax(h, dim=1)\n",
    "        return h "
   ]
  },
  {
   "cell_type": "code",
   "execution_count": 23,
   "metadata": {},
   "outputs": [],
   "source": [
    "def train(model, g, features, labels, train_mask, loss_fcn, optimizer):\n",
    "    \"\"\" TO DO : add doctring \"\"\"\n",
    "    model.train()  \n",
    "    \n",
    "    pred = model(g, features) # prediction\n",
    "    loss = loss_fcn(pred[train_mask], tensor_labels[train_mask])\n",
    "    optimizer.zero_grad()    \n",
    "    loss.backward()\n",
    "    optimizer.step()\n",
    "    return loss\n",
    "\n",
    "def evaluate(model, g, features, mask, labels):\n",
    "    \"\"\"  TO DO : add docstring \"\"\"\n",
    "    model.eval()  \n",
    "    \n",
    "    with torch.no_grad():\n",
    "        pred = model(g, features)[mask]  # only compute the evaluation set\n",
    "        labels = labels[mask]\n",
    "        _, indices = torch.max(pred, dim=1)\n",
    "        correct = torch.sum(indices == labels)\n",
    "        acc = correct.item() * 1.0 / len(labels) #not the best metric\n",
    "        f1 = f1_score(labels, indices)\n",
    "        \n",
    "        return f1, acc"
   ]
  },
  {
   "cell_type": "code",
   "execution_count": 52,
   "metadata": {},
   "outputs": [],
   "source": [
    "# Fixed values\n",
    "in_feats = tensor_data.shape[1]\n",
    "out_feats = 2\n",
    "\n",
    "# Not relevant parameters\n",
    "n_epochs = 400\n",
    "# To tune\n",
    "k = 7 # number of hop (how far to look) usually best to use the network diameter (according to paper)\n",
    "lr = 3e-5\n",
    "weight_decay = 5e-6\n",
    "#p_dropout = 0 # for now not doing it\n",
    "\n",
    "hidden_size = 128\n",
    "true_ratio = 1074/4802 # <-- fraction of Nominations\n",
    "weights_loss = torch.FloatTensor([true_ratio, 1-true_ratio]) # to rebalance"
   ]
  },
  {
   "cell_type": "code",
   "execution_count": 53,
   "metadata": {},
   "outputs": [
    {
     "name": "stdout",
     "output_type": "stream",
     "text": [
      "Epoch 1 | Train Loss 4617578.500 | Val f1 36.5957% | Val Accuracy 22.4766%\n",
      "Epoch 11 | Train Loss 4370979.000 | Val f1 36.5957% | Val Accuracy 22.4766%\n",
      "Epoch 21 | Train Loss 4125419.250 | Val f1 36.5957% | Val Accuracy 22.4766%\n",
      "Epoch 31 | Train Loss 3880855.500 | Val f1 36.5957% | Val Accuracy 22.4766%\n",
      "Epoch 41 | Train Loss 3637164.000 | Val f1 36.5957% | Val Accuracy 22.4766%\n",
      "Epoch 51 | Train Loss 3398706.000 | Val f1 36.5957% | Val Accuracy 22.4766%\n",
      "Epoch 61 | Train Loss 3177066.000 | Val f1 36.5957% | Val Accuracy 22.4766%\n",
      "Epoch 71 | Train Loss 2959198.000 | Val f1 36.5957% | Val Accuracy 22.4766%\n",
      "Epoch 81 | Train Loss 2742625.500 | Val f1 36.5957% | Val Accuracy 22.4766%\n",
      "Epoch 91 | Train Loss 2526682.250 | Val f1 36.5957% | Val Accuracy 22.4766%\n",
      "Epoch 101 | Train Loss 2310960.000 | Val f1 36.5957% | Val Accuracy 22.4766%\n",
      "Epoch 111 | Train Loss 2095797.000 | Val f1 36.5957% | Val Accuracy 22.4766%\n",
      "Epoch 121 | Train Loss 1885631.750 | Val f1 36.5957% | Val Accuracy 22.4766%\n",
      "Epoch 131 | Train Loss 1675792.875 | Val f1 36.5957% | Val Accuracy 22.4766%\n",
      "Epoch 141 | Train Loss 1465875.375 | Val f1 36.5957% | Val Accuracy 22.4766%\n",
      "Epoch 151 | Train Loss 1255974.625 | Val f1 36.5957% | Val Accuracy 22.4766%\n",
      "Epoch 161 | Train Loss 1045664.438 | Val f1 36.5957% | Val Accuracy 22.4766%\n",
      "Epoch 171 | Train Loss 834963.750 | Val f1 36.5957% | Val Accuracy 22.4766%\n",
      "Epoch 181 | Train Loss 623794.250 | Val f1 36.5957% | Val Accuracy 22.4766%\n",
      "Epoch 191 | Train Loss 412089.000 | Val f1 36.5957% | Val Accuracy 22.4766%\n",
      "Epoch 201 | Train Loss 199807.609 | Val f1 36.5957% | Val Accuracy 22.4766%\n",
      "Epoch 211 | Train Loss 36758.137 | Val f1 21.4112% | Val Accuracy 66.3892%\n",
      "Epoch 221 | Train Loss 61850.727 | Val f1 14.7910% | Val Accuracy 72.4246%\n",
      "Epoch 231 | Train Loss 34439.309 | Val f1 25.5193% | Val Accuracy 47.7627%\n",
      "Epoch 241 | Train Loss 37188.391 | Val f1 27.9431% | Val Accuracy 42.0395%\n",
      "Epoch 251 | Train Loss 34843.922 | Val f1 24.6809% | Val Accuracy 63.1634%\n",
      "Epoch 261 | Train Loss 33463.797 | Val f1 25.8721% | Val Accuracy 46.9303%\n",
      "Epoch 271 | Train Loss 33177.551 | Val f1 23.7736% | Val Accuracy 57.9605%\n",
      "Epoch 281 | Train Loss 32999.316 | Val f1 25.3707% | Val Accuracy 52.8616%\n",
      "Epoch 291 | Train Loss 32871.559 | Val f1 25.1773% | Val Accuracy 56.0874%\n",
      "Epoch 301 | Train Loss 32741.807 | Val f1 25.7095% | Val Accuracy 53.6941%\n",
      "Epoch 311 | Train Loss 32568.680 | Val f1 25.3913% | Val Accuracy 55.3590%\n",
      "Epoch 321 | Train Loss 32283.506 | Val f1 25.5462% | Val Accuracy 53.9022%\n",
      "Epoch 331 | Train Loss 31401.268 | Val f1 25.5102% | Val Accuracy 54.4225%\n",
      "Epoch 341 | Train Loss 28757.219 | Val f1 25.4237% | Val Accuracy 54.2144%\n",
      "Epoch 351 | Train Loss 22866.143 | Val f1 26.4317% | Val Accuracy 47.8668%\n",
      "Epoch 361 | Train Loss 14315.230 | Val f1 26.3959% | Val Accuracy 54.7347%\n",
      "Epoch 371 | Train Loss 8709.999 | Val f1 28.1600% | Val Accuracy 53.2778%\n",
      "Epoch 381 | Train Loss 6640.454 | Val f1 34.4371% | Val Accuracy 48.4912%\n",
      "Epoch 391 | Train Loss 5622.300 | Val f1 35.6436% | Val Accuracy 52.6535%\n"
     ]
    },
    {
     "data": {
      "image/png": "[encoded data removed]",
      "text/plain": [
       "<Figure size 648x648 with 1 Axes>"
      ]
     },
     "metadata": {
      "needs_background": "light"
     },
     "output_type": "display_data"
    }
   ],
   "source": [
    "model = Pure_GNN(in_feats, out_feats, hidden_size)\n",
    "#model = Simple_APPNP(in_feats, out_feats, hidden_size, k)\n",
    "\n",
    "loss_fcn = torch.nn.NLLLoss(weight=weights_loss)\n",
    "optimizer = torch.optim.Adam(model.parameters(),\n",
    "                                                  lr=lr)\n",
    "                                                  #weight_decay=weight_decay)\n",
    "losses = []\n",
    "for epoch in range(n_epochs):\n",
    "    \n",
    "    loss = train(model, G, tensor_data, tensor_labels, train_mask, loss_fcn, optimizer)\n",
    "    losses.append(loss.item())\n",
    "    f1, acc = evaluate(model, G, tensor_data, val_mask, tensor_labels)\n",
    "    \n",
    "    if epoch%10 == 0:\n",
    "        print(f\"Epoch {epoch+1} | Train Loss {loss.item():.3f} | Val f1 {f1:.4%} | Val Accuracy {acc:.4%}\")\n",
    "\n",
    "#print()\n",
    "#f1, acc = evaluate(model, G, tensor_feat, test_mask, tensor_labels)\n",
    "#print(\"Test Accuracy {:.4%}\".format(acc))\n",
    "\n",
    "# Plot the loss\n",
    "fig, ax = plt.subplots(1,1,figsize=(9,9))\n",
    "ep = np.arange(1,n_epochs+1,1)\n",
    "ax.plot(ep, losses, color='Goldenrod', linewidth=2)\n",
    "ax.plot(ep, np.zeros(ep.shape), color='black', linewidth=0.5)\n",
    "ax.set_xlim([0,n_epochs+1])\n",
    "ax.set_xlabel('epoch')\n",
    "ax.set_ylabel('Loss')\n",
    "plt.show()"
   ]
  },
  {
   "cell_type": "code",
   "execution_count": null,
   "metadata": {},
   "outputs": [],
   "source": []
  }
 ],
 "metadata": {
  "kernelspec": {
   "display_name": "Python 3",
   "language": "python",
   "name": "python3"
  },
  "language_info": {
   "codemirror_mode": {
    "name": "ipython",
    "version": 3
   },
   "file_extension": ".py",
   "mimetype": "text/x-python",
   "name": "python",
   "nbconvert_exporter": "python",
   "pygments_lexer": "ipython3",
   "version": "3.7.4"
  }
 },
 "nbformat": 4,
 "nbformat_minor": 4
}
