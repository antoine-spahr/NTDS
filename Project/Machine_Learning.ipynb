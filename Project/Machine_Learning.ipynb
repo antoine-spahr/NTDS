{
 "cells": [
  {
   "cell_type": "markdown",
   "metadata": {},
   "source": [
    "### Comments"
   ]
  },
  {
   "cell_type": "markdown",
   "metadata": {},
   "source": [
    "**TO DO**\n",
    "* Batch?!\n",
    "* fine tuning des params --> pas optimisé pour le moment\n",
    "* try different architecture\n",
    "* Use genre as features and build network on Cast, Crew, Keywords?\n",
    "* Skip Connections ? Batch Norm ? "
   ]
  },
  {
   "cell_type": "markdown",
   "metadata": {},
   "source": [
    "# Machine Learning"
   ]
  },
  {
   "cell_type": "code",
   "execution_count": 1,
   "metadata": {},
   "outputs": [],
   "source": [
    "import numpy as np\n",
    "import pandas as pd\n",
    "import pickle\n",
    "\n",
    "from sklearn.model_selection import StratifiedShuffleSplit\n",
    "from sklearn.metrics import f1_score, recall_score\n",
    "from sklearn.utils import resample\n",
    "from sklearn.decomposition import PCA\n",
    "\n",
    "import random\n",
    "\n",
    "import dgl.function as fn\n",
    "from dgl import DGLGraph\n",
    "import dgl.nn.pytorch as dgl_nn\n",
    "import dgl.transform as dgl_transform\n",
    "\n",
    "import time\n",
    "\n",
    "import torch\n",
    "import torch.nn as nn\n",
    "import torch.nn.functional as F\n",
    "\n",
    "import matplotlib.pyplot as plt\n",
    "\n",
    "Data_path = 'Data/'"
   ]
  },
  {
   "cell_type": "markdown",
   "metadata": {},
   "source": [
    "### Loading the similarity matrix and generate graph"
   ]
  },
  {
   "cell_type": "code",
   "execution_count": 38,
   "metadata": {},
   "outputs": [],
   "source": [
    "# Load similarity matrix\n",
    "#file = open(Data_path + 'Adjacency_matrix.pickle','rb')\n",
    "#file = open(Data_path + 'Adjacency_matrix_Genre099_CC005.pickle', 'rb')\n",
    "file = open(Data_path + 'Adjacency_matrix_G99CCK05.pickle', 'rb')\n",
    "adj_mat =  pickle.load(file)\n",
    "\n",
    "# Generate graph\n",
    "G = DGLGraph(graph_data=adj_mat)\n",
    "G = dgl_transform.add_self_loop(G)"
   ]
  },
  {
   "cell_type": "markdown",
   "metadata": {},
   "source": [
    "### Loading features and labels"
   ]
  },
  {
   "cell_type": "code",
   "execution_count": 3,
   "metadata": {},
   "outputs": [],
   "source": [
    "features_df = pd.read_csv(Data_path + 'features.csv',index_col=0).drop(columns = ['title'])\n",
    "\n",
    "labels_df = pd.read_csv(Data_path + 'labels.csv',index_col=0).drop(columns = ['title', ])"
   ]
  },
  {
   "cell_type": "markdown",
   "metadata": {},
   "source": [
    "keep only some features"
   ]
  },
  {
   "cell_type": "code",
   "execution_count": null,
   "metadata": {},
   "outputs": [],
   "source": [
    "#features_df = features_df[['budget', 'popularity', 'revenue', 'runtime', 'vote_average', 'vote_count']]"
   ]
  },
  {
   "cell_type": "markdown",
   "metadata": {},
   "source": [
    "The labels is whether the movie is nominated for an Oscare or a GoldenGlobes "
   ]
  },
  {
   "cell_type": "code",
   "execution_count": null,
   "metadata": {},
   "outputs": [],
   "source": [
    "#labels_df['Nominations'] = labels_df['Nominations_Oscars'] + labels_df['Nominations_GoldenGlobes']"
   ]
  },
  {
   "cell_type": "code",
   "execution_count": 5,
   "metadata": {},
   "outputs": [],
   "source": [
    "# features\n",
    "tensor_data = torch.FloatTensor(features_df.values)\n",
    "\n",
    "# labels\n",
    "IMDB_nom = labels_df['Nominations'].copy()\n",
    "IMDB_nom.loc[IMDB_nom > 0] = 1\n",
    "tensor_labels = torch.LongTensor(IMDB_nom.values)"
   ]
  },
  {
   "cell_type": "code",
   "execution_count": 6,
   "metadata": {},
   "outputs": [
    {
     "data": {
      "text/plain": [
       "0.0    3728\n",
       "1.0    1074\n",
       "Name: Nominations, dtype: int64"
      ]
     },
     "execution_count": 6,
     "metadata": {},
     "output_type": "execute_result"
    }
   ],
   "source": [
    "# Just checking class imbalance\n",
    "IMDB_nom.value_counts() # 18.263 % of CLASS 1"
   ]
  },
  {
   "cell_type": "code",
   "execution_count": null,
   "metadata": {},
   "outputs": [],
   "source": [
    "'''# Separate majority and minority classes\n",
    "df_majority = IMDB_nom[IMDB_nom==0]\n",
    "df_minority = IMDB_nom[IMDB_nom==1]\n",
    " \n",
    "# Downsample majority class\n",
    "df_majority_downsampled = resample(df_majority, \n",
    "                                 replace=False,    # sample without replacement\n",
    "                                 n_samples=877,     # to match minority class\n",
    "                                 random_state=1) # reproducible results\n",
    " \n",
    "# Combine minority class with downsampled majority class\n",
    "df_downsampled = pd.concat([df_majority_downsampled, df_minority])\n",
    " \n",
    "# Display new class counts\n",
    "df_downsampled.value_counts()\n",
    "# 1    49\n",
    "# 0    49\n",
    "# Name: balance, dtype: int64\n",
    "\n",
    "adj_mat_bal = adj_mat[df_downsampled.index,:]\n",
    "adj_mat_bal = adj_mat_bal[:,df_downsampled.index]\n",
    "G = DGLGraph(graph_data=adj_mat_bal)\n",
    "\n",
    "G = dgl_transform.add_self_loop(G)\n",
    "\n",
    "tensor_feat = torch.FloatTensor(features_df.iloc[df_downsampled.index,:].values)\n",
    "tensor_labels = torch.LongTensor(df_downsampled.values)'''"
   ]
  },
  {
   "cell_type": "markdown",
   "metadata": {},
   "source": [
    "### Generate masks and split train, val, test"
   ]
  },
  {
   "cell_type": "code",
   "execution_count": null,
   "metadata": {},
   "outputs": [],
   "source": [
    "sss1 = StratifiedShuffleSplit(n_splits=1, train_size=0.8, random_state=0)\n",
    "sss2 = StratifiedShuffleSplit(n_splits=1, train_size=0.8, random_state=0)\n",
    "\n",
    "for prov_index, test_index in sss1.split(tensor_data, tensor_labels):\n",
    "    prov_mask = prov_index\n",
    "    test_mask = test_index\n",
    "\n",
    "for train_index, val_index in sss2.split(tensor_data[prov_mask], tensor_labels[prov_mask]):\n",
    "    train_mask = train_index\n",
    "    val_mask = val_index"
   ]
  },
  {
   "cell_type": "code",
   "execution_count": 7,
   "metadata": {},
   "outputs": [],
   "source": [
    "sss = StratifiedShuffleSplit(n_splits=1, train_size=0.8, random_state=0)\n",
    "#sss1 = StratifiedShuffleSplit(n_splits=1, train_size=0.8, random_state=0)\n",
    "\n",
    "for prov_index, test_index in sss.split(tensor_data, tensor_labels):\n",
    "    train_mask = prov_index\n",
    "    val_mask = test_index\n",
    "\n",
    "#for train_index, val_index in sss1.split(tensor_feat[prov_mask], tensor_labels[prov_mask]):\n",
    "#    train_mask = train_index\n",
    "#    val_mask = val_index"
   ]
  },
  {
   "cell_type": "markdown",
   "metadata": {},
   "source": [
    "### Building Graph Neural Network"
   ]
  },
  {
   "cell_type": "code",
   "execution_count": 49,
   "metadata": {},
   "outputs": [],
   "source": [
    "#  model: Combine GraphConv layers first then two fully connected layers --> seems less stable over epochs\n",
    "class Linear_GNN(nn.Module):\n",
    "    def __init__(self, in_feats: int, out_feats: int, hidden_size: int):\n",
    "        super().__init__()\n",
    "        self._in_feats = in_feats\n",
    "        self._out_feats = out_feats\n",
    "        self._hidden_size = hidden_size\n",
    "        \n",
    "        # Layers\n",
    "        self.linear = nn.Linear(self._in_feats, 32)\n",
    "        self.gcn1 = dgl_nn.conv.GraphConv(32, 32, activation=F.relu)\n",
    "        self.gcn2 = dgl_nn.conv.GraphConv(32, 32, activation=F.relu)\n",
    "        self.gcn3 = dgl_nn.conv.GraphConv(32, 32, activation=F.relu)\n",
    "        self.gcn4 = dgl_nn.conv.GraphConv(32, 32, activation=F.relu)\n",
    "        self.gcn5 = dgl_nn.conv.GraphConv(32, 32, activation=F.relu)\n",
    "        self.gcn6 = dgl_nn.conv.GraphConv(32, 32, activation=F.relu)\n",
    "        self.linear1 = nn.Linear(32, self._out_feats)#self._hidden_size)\n",
    "        self.linear2 = nn.Linear(self._hidden_size, self._out_feats)\n",
    "        \n",
    "    def forward(self, graph, feat):\n",
    "        h = F.relu(self.linear(feat))\n",
    "        h = self.gcn1(graph, h)\n",
    "        h = self.gcn2(graph, h)\n",
    "        h = self.gcn3(graph, h)\n",
    "        h = self.gcn4(graph, h)\n",
    "        h = self.gcn5(graph, h)\n",
    "        h = self.gcn6(graph, h)\n",
    "        h = self.linear1(h)\n",
    "        #h = F.relu(h)\n",
    "        #h = self.linear2(h)\n",
    "        h = F.log_softmax(h, dim=1)\n",
    "        return h \n",
    "\n",
    "# Model : Only GraphConv layers --> seems more stable\n",
    "class Pure_GNN(nn.Module):\n",
    "    def __init__(self, in_feats: int, out_feats: int, hidden_size: int):\n",
    "        super().__init__()\n",
    "        self._in_feats = in_feats\n",
    "        self._out_feats = out_feats\n",
    "        self._hidden_size = hidden_size\n",
    "        \n",
    "        # Layers\n",
    "        self.gcn1 = dgl_nn.conv.GraphConv(self._in_feats, 32, activation=F.relu)\n",
    "        self.gcn2 = dgl_nn.conv.GraphConv(32, 32, activation=F.relu)\n",
    "        self.gcn3 = dgl_nn.conv.GraphConv(32, 32, activation=F.relu)\n",
    "        self.gcn4 = dgl_nn.conv.GraphConv(32, 32, activation=F.relu)\n",
    "        self.gcn5 = dgl_nn.conv.GraphConv(32, self._out_feats, activation=None)\n",
    "        \n",
    "    def forward(self, graph, feat):\n",
    "        h = self.gcn1(graph, feat)\n",
    "        h = self.gcn2(graph, h)\n",
    "        h = self.gcn3(graph, h)\n",
    "        h = self.gcn4(graph, h)\n",
    "        h = self.gcn5(graph, h)\n",
    "        h = F.log_softmax(h, dim=1)\n",
    "        return h \n",
    "\n",
    "# model : Use and APPNP layer with k=7 (the network diameter) followed by 2 fully connected linears. \n",
    "class Simple_APPNP(nn.Module):\n",
    "    def __init__(self, in_feats: int, out_feats: int, hidden_size: int, k: int):\n",
    "        super().__init__()\n",
    "        self._k = k\n",
    "        self._in_feats = in_feats\n",
    "        self._out_feats = out_feats\n",
    "        self._hidden_size = hidden_size\n",
    "        \n",
    "        # Layers\n",
    "        self.appnpconv1 = dgl_nn.conv.APPNPConv(self._k, 0.1, 0) #alpha teleport proba = 0.1 (cf paper)\n",
    "        self.linear1 = nn.Linear(self._in_feats, self._hidden_size)\n",
    "        self.linear2 = nn.Linear(self._hidden_size, self._out_feats)\n",
    "        \n",
    "    def forward(self, graph, feat):\n",
    "        h = self.appnpconv1(graph, feat)\n",
    "        h = self.linear1(h)\n",
    "        h = F.relu(h)\n",
    "        h = self.linear2(h)\n",
    "        h = F.log_softmax(h, dim=1)\n",
    "        return h "
   ]
  },
  {
   "cell_type": "code",
   "execution_count": 50,
   "metadata": {},
   "outputs": [],
   "source": [
    "def train(model, g, features, labels, train_mask, loss_fcn, optimizer):\n",
    "    \"\"\" TO DO : add doctring \"\"\"\n",
    "    model.train()  \n",
    "    \n",
    "    pred = model(g, features) # prediction\n",
    "    loss = loss_fcn(pred[train_mask], tensor_labels[train_mask])\n",
    "    optimizer.zero_grad()    \n",
    "    loss.backward()\n",
    "    optimizer.step()\n",
    "    return loss\n",
    "\n",
    "def evaluate(model, g, features, mask, labels):\n",
    "    \"\"\"  TO DO : add docstring \"\"\"\n",
    "    model.eval()  \n",
    "    \n",
    "    with torch.no_grad():\n",
    "        pred = model(g, features)[mask]  # only compute the evaluation set\n",
    "        labels = labels[mask]\n",
    "        _, indices = torch.max(pred, dim=1)\n",
    "        correct = torch.sum(indices == labels)\n",
    "        acc = correct.item() * 1.0 / len(labels) #not the best metric\n",
    "        f1 = f1_score(labels, indices)\n",
    "        \n",
    "        return f1, acc"
   ]
  },
  {
   "cell_type": "code",
   "execution_count": 34,
   "metadata": {},
   "outputs": [
    {
     "data": {
      "text/plain": [
       "6"
      ]
     },
     "execution_count": 34,
     "metadata": {},
     "output_type": "execute_result"
    }
   ],
   "source": [
    "# check network diameter --> take a lot of time to run \n",
    "import networkx as nx\n",
    "Gnx = nx.from_numpy_array(adj_mat)\n",
    "G_large = max(nx.connected_component_subgraphs(Gnx), key=len)\n",
    "#d = nx.diameter(G_large) \n",
    "#print(f'diameter : {d}')"
   ]
  },
  {
   "cell_type": "code",
   "execution_count": 51,
   "metadata": {},
   "outputs": [],
   "source": [
    "# Fixed values\n",
    "in_feats = tensor_data.shape[1]\n",
    "out_feats = 2\n",
    "\n",
    "# Not relevant parameters\n",
    "n_epochs = 400\n",
    "# To tune\n",
    "k = 6 # number of hop (how far to look) usually best to use the network diameter (according to paper)\n",
    "lr = 5e-5\n",
    "weight_decay = 5e-6\n",
    "#p_dropout = 0 # for now not doing it\n",
    "\n",
    "hidden_size = 128\n",
    "true_ratio = 1074/4802 # <-- fraction of Nominations\n",
    "weights_loss = torch.FloatTensor([true_ratio, 1-true_ratio]) # to rebalance"
   ]
  },
  {
   "cell_type": "code",
   "execution_count": 52,
   "metadata": {},
   "outputs": [
    {
     "name": "stdout",
     "output_type": "stream",
     "text": [
      "Epoch 10 | Train Loss 4522.606 | Val f1 6.8027% | Val Accuracy 71.4880%\n",
      "Epoch 20 | Train Loss 2887.347 | Val f1 31.1734% | Val Accuracy 59.1051%\n",
      "Epoch 30 | Train Loss 2741.296 | Val f1 36.1149% | Val Accuracy 51.4048%\n",
      "Epoch 40 | Train Loss 2571.076 | Val f1 37.3333% | Val Accuracy 51.0926%\n",
      "Epoch 50 | Train Loss 2369.465 | Val f1 35.7243% | Val Accuracy 52.4454%\n",
      "Epoch 60 | Train Loss 2225.104 | Val f1 33.2317% | Val Accuracy 54.4225%\n",
      "Epoch 70 | Train Loss 2108.841 | Val f1 33.8509% | Val Accuracy 55.6712%\n",
      "Epoch 80 | Train Loss 1991.233 | Val f1 34.2772% | Val Accuracy 54.1103%\n",
      "Epoch 90 | Train Loss 1863.891 | Val f1 34.8083% | Val Accuracy 54.0062%\n",
      "Epoch 100 | Train Loss 1763.762 | Val f1 35.2410% | Val Accuracy 55.2549%\n",
      "Epoch 110 | Train Loss 1669.108 | Val f1 34.7958% | Val Accuracy 55.1509%\n",
      "Epoch 120 | Train Loss 1572.264 | Val f1 34.8092% | Val Accuracy 55.5671%\n",
      "Epoch 130 | Train Loss 1458.847 | Val f1 34.9776% | Val Accuracy 54.7347%\n",
      "Epoch 140 | Train Loss 1298.661 | Val f1 35.9352% | Val Accuracy 54.7347%\n",
      "Epoch 150 | Train Loss 1132.741 | Val f1 36.2018% | Val Accuracy 55.2549%\n",
      "Epoch 160 | Train Loss 1024.752 | Val f1 36.5325% | Val Accuracy 57.3361%\n",
      "Epoch 170 | Train Loss 942.078 | Val f1 36.7601% | Val Accuracy 57.7523%\n",
      "Epoch 180 | Train Loss 861.675 | Val f1 37.3494% | Val Accuracy 56.7118%\n",
      "Epoch 190 | Train Loss 792.958 | Val f1 37.7143% | Val Accuracy 54.6306%\n",
      "Epoch 200 | Train Loss 822.886 | Val f1 15.4362% | Val Accuracy 73.7773%\n",
      "Epoch 210 | Train Loss 694.338 | Val f1 39.5062% | Val Accuracy 59.2092%\n",
      "Epoch 220 | Train Loss 673.708 | Val f1 36.6548% | Val Accuracy 62.9553%\n",
      "Epoch 230 | Train Loss 604.026 | Val f1 38.1426% | Val Accuracy 61.1863%\n",
      "Epoch 240 | Train Loss 604.701 | Val f1 36.9004% | Val Accuracy 64.4121%\n",
      "Epoch 250 | Train Loss 566.660 | Val f1 36.6038% | Val Accuracy 65.0364%\n",
      "Epoch 260 | Train Loss 525.453 | Val f1 37.1841% | Val Accuracy 63.7877%\n",
      "Epoch 270 | Train Loss 490.000 | Val f1 37.5000% | Val Accuracy 62.5390%\n",
      "Epoch 280 | Train Loss 466.519 | Val f1 38.7275% | Val Accuracy 53.9022%\n",
      "Epoch 290 | Train Loss 457.420 | Val f1 39.0519% | Val Accuracy 43.8085%\n",
      "Epoch 300 | Train Loss 482.724 | Val f1 39.1011% | Val Accuracy 43.6004%\n",
      "Epoch 310 | Train Loss 495.621 | Val f1 31.7673% | Val Accuracy 68.2622%\n",
      "Epoch 320 | Train Loss 413.318 | Val f1 38.3266% | Val Accuracy 52.4454%\n",
      "Epoch 330 | Train Loss 402.551 | Val f1 39.5672% | Val Accuracy 59.3132%\n",
      "Epoch 340 | Train Loss 387.655 | Val f1 30.7339% | Val Accuracy 68.5744%\n",
      "Epoch 350 | Train Loss 411.935 | Val f1 38.6986% | Val Accuracy 62.7471%\n",
      "Epoch 360 | Train Loss 370.928 | Val f1 39.0041% | Val Accuracy 54.1103%\n",
      "Epoch 370 | Train Loss 390.583 | Val f1 35.7006% | Val Accuracy 65.1405%\n",
      "Epoch 380 | Train Loss 396.380 | Val f1 33.4694% | Val Accuracy 66.0770%\n",
      "Epoch 390 | Train Loss 428.980 | Val f1 32.2176% | Val Accuracy 66.2851%\n",
      "Epoch 400 | Train Loss 330.754 | Val f1 39.1699% | Val Accuracy 51.1967%\n"
     ]
    },
    {
     "data": {
      "image/png": "[encoded data removed]",
      "text/plain": [
       "<Figure size 648x648 with 1 Axes>"
      ]
     },
     "metadata": {
      "needs_background": "light"
     },
     "output_type": "display_data"
    }
   ],
   "source": [
    "model = Linear_GNN(in_feats, out_feats, hidden_size)\n",
    "#model = Simple_APPNP(in_feats, out_feats, hidden_size, k)\n",
    "\n",
    "loss_fcn = torch.nn.NLLLoss(weight=weights_loss)\n",
    "optimizer = torch.optim.Adam(model.parameters(),\n",
    "                                                  lr=lr)\n",
    "                                                  #weight_decay=weight_decay)\n",
    "losses = []\n",
    "for epoch in range(n_epochs):\n",
    "    \n",
    "    loss = train(model, G, tensor_data, tensor_labels, train_mask, loss_fcn, optimizer)\n",
    "    losses.append(loss.item())\n",
    "    f1, acc = evaluate(model, G, tensor_data, val_mask, tensor_labels)\n",
    "    \n",
    "    if (1+epoch)%10 == 0:\n",
    "        print(f\"Epoch {epoch+1} | Train Loss {loss.item():.3f} | Val f1 {f1:.4%} | Val Accuracy {acc:.4%}\")\n",
    "\n",
    "#print()\n",
    "#f1, acc = evaluate(model, G, tensor_feat, test_mask, tensor_labels)\n",
    "#print(\"Test Accuracy {:.4%}\".format(acc))\n",
    "\n",
    "# Plot the loss\n",
    "fig, ax = plt.subplots(1,1,figsize=(9,9))\n",
    "ep = np.arange(1,n_epochs+1,1)\n",
    "ax.plot(ep, losses, color='Goldenrod', linewidth=2)\n",
    "ax.plot(ep, np.zeros(ep.shape), color='black', linewidth=0.5)\n",
    "ax.set_xlim([0,n_epochs+1])\n",
    "ax.set_xlabel('epoch')\n",
    "ax.set_ylabel('Loss')\n",
    "plt.show()"
   ]
  },
  {
   "cell_type": "code",
   "execution_count": null,
   "metadata": {},
   "outputs": [],
   "source": []
  }
 ],
 "metadata": {
  "kernelspec": {
   "display_name": "Python 3",
   "language": "python",
   "name": "python3"
  },
  "language_info": {
   "codemirror_mode": {
    "name": "ipython",
    "version": 3
   },
   "file_extension": ".py",
   "mimetype": "text/x-python",
   "name": "python",
   "nbconvert_exporter": "python",
   "pygments_lexer": "ipython3",
   "version": "3.7.4"
  }
 },
 "nbformat": 4,
 "nbformat_minor": 4
}
