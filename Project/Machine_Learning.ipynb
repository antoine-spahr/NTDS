{
 "cells": [
  {
   "cell_type": "markdown",
   "metadata": {},
   "source": [
    "# Machine Learning"
   ]
  },
  {
   "cell_type": "code",
   "execution_count": 1,
   "metadata": {},
   "outputs": [],
   "source": [
    "import numpy as np\n",
    "import pandas as pd\n",
    "import pickle\n",
    "from difflib import get_close_matches\n",
    "\n",
    "import random\n",
    "\n",
    "import dgl.function as fn\n",
    "from dgl import DGLGraph\n",
    "\n",
    "import time\n",
    "\n",
    "import torch\n",
    "import torch.nn as nn\n",
    "import torch.nn.functional as F"
   ]
  },
  {
   "cell_type": "markdown",
   "metadata": {},
   "source": [
    "Loading the similarity matrices and the dataframe"
   ]
  },
  {
   "cell_type": "code",
   "execution_count": 2,
   "metadata": {},
   "outputs": [
    {
     "name": "stdout",
     "output_type": "stream",
     "text": [
      ">>> Loading keywords similarity matrix with shape (4803, 4803)\n",
      ">>> Loading genre similarity matrix with shape (4803, 4803)\n",
      ">>> Loading crew similarity matrix with shape (4803, 4803)\n",
      ">>> Loading cast similarity matrix with shape (4803, 4803)\n"
     ]
    }
   ],
   "source": [
    "Data_path = 'Data/'\n",
    "\n",
    "sim_mat = {}\n",
    "names = ['keywords', 'genre', 'crew', 'cast']\n",
    "for name in names:\n",
    "    with open(Data_path+'csim_'+name, 'rb') as src:\n",
    "        sim_mat[name] = pickle.load(src)\n",
    "        print(f'>>> Loading {name} similarity matrix with shape {sim_mat[name].shape}')"
   ]
  },
  {
   "cell_type": "markdown",
   "metadata": {},
   "source": [
    "**Alternative 1** Combine the 4 similarity matrices equitably (**to be optimized**) and pruned those with a similarity below 0.25"
   ]
  },
  {
   "cell_type": "code",
   "execution_count": 3,
   "metadata": {},
   "outputs": [],
   "source": [
    "# Simple way\n",
    "adj_mat = sim_mat['keywords'].copy()\n",
    "for name in names[1:]:\n",
    "    adj_mat = adj_mat.add(sim_mat[name], fill_value=0)\n",
    "adj_mat = adj_mat/4    \n",
    "\n",
    "threshold = 0.25\n",
    "adj_mat[adj_mat < threshold] = 0\n",
    "#weight_dict = {'names':names, 'weights':[0.25, 0.25, 0.25, 0.25]}"
   ]
  },
  {
   "cell_type": "code",
   "execution_count": 109,
   "metadata": {},
   "outputs": [],
   "source": [
    "features = ['budget','popularity','revenue','vote_average','vote_count']\n",
    "\n",
    "IMDB_path = Data_path + 'tmdb_5000_movies.csv'\n",
    "IMDB = pd.read_csv(IMDB_path)\n",
    "IMDB.set_index('original_title',inplace=True)\n",
    "IMDB_feat = IMDB[['id'] + features]"
   ]
  },
  {
   "cell_type": "code",
   "execution_count": 5,
   "metadata": {},
   "outputs": [
    {
     "name": "stdout",
     "output_type": "stream",
     "text": [
      "Spider-Man 3 Spider-Man 2\n",
      "Men in Black 3 Men in Black\n",
      "The Lovers The Lover\n",
      "Kung Fu Panda 3 Kung Fu Panda 2\n",
      "Lethal Weapon 4 Lethal Weapon 2\n",
      "Stuart Little 2 Stuart Little\n",
      "Star Wars: Episode III - Revenge of the Sith Star Wars: Episode III Revenge of the Sith\n",
      "Star Wars: Episode II - Attack of the Clones Star Wars Episode II Attack of the Clones\n",
      "Star Wars: Episode I - The Phantom Menace Star Wars Episode I: The Phantom Menace\n",
      "Flight of the Phoenix The Flight of the Phoenix\n",
      "Driven Drive\n",
      "Basic Instinct 2 Basic Instinct\n",
      "Despicable Me Despicable Me 2\n",
      "Man on Fire Man on Wire\n",
      "Up Close & Personal Up Close and Personal\n",
      "DragonHeart Dragonheart\n",
      "Alien³ Alien\n",
      "The Godfather: Part III The Godfather, Part III\n",
      "Moulin Rouge! Moulin Rouge\n",
      "Beverly Hills Cop III Beverly Hills Cop II\n",
      "Boomerang Boomerang!\n",
      "Here Comes the Boom Here Comes the Groom\n",
      "Red Riding Hood Redux Riding Hood\n",
      "Back to the Future Part III Back to the Future Part II\n",
      "Shall We Dance? Shall We Dance\n",
      "The Count of Monte Cristo The Son of Monte Cristo\n",
      "Predators Predator\n",
      "The Doors The Door\n",
      "The Crow The Crowd\n",
      "Lethal Weapon 3 Lethal Weapon 2\n",
      "Star Trek: The Motion Picture Star Trek - The Motion Picture\n",
      "Street Fighter Street Fight\n",
      "The Jacket The Racket\n",
      "Star Trek VI: The Undiscovered Country Star Trek VI The Undiscovered Country\n",
      "GoodFellas Good Fellas\n",
      "The Net The Nest\n",
      "The Jungle Book 2 The Jungle Book\n",
      "Secret in Their Eyes The Secret in Their Eyes\n",
      "Bullets Over Broadway Bullets over Broadway\n",
      "Mrs Henderson Presents Mrs. Henderson Presents\n",
      "I'm Not There. I'm Not There\n",
      "Dances with Wolves Dances With Wolves\n",
      "Adaptation. Adaptation\n",
      "Neighbors Neighbours\n",
      "Borat: Cultural Learnings of America for Make Benefit Glorious Nation of Kazakhstan Borat Cultural Learnings of America for Make Benefit Glorious Nation of Kazakhstan\n",
      "My Big Fat Greek Wedding 2 My Big Fat Greek Wedding\n",
      "The Informers The Informer\n",
      "American Dreamz American Dream\n",
      "Crocodile Dundee II Crocodile Dundee\n",
      "Head Over Heels Head over Heels\n",
      "The Godfather: Part II The Godfather Part II\n",
      "E.T. the Extra-Terrestrial E.T. The Extra-Terrestrial\n",
      "The Gift The Gifts\n",
      "Bride & Prejudice Pride & Prejudice\n",
      "Boyz n the Hood Boyz N the Hood\n",
      "The Brothers Three Brothers\n",
      "The Words The Word\n",
      "20,000 Leagues Under the Sea 20,000 Leagues under the Sea\n",
      "Farce of the Penguins March of the Penguins\n",
      "One Flew Over the Cuckoo's Nest One Flew over the Cuckoo's Nest\n",
      "Friday Frida\n",
      "Lords of London Lloyds of London\n",
      "Willy Wonka & the Chocolate Factory Willy Wonka and the Chocolate Factory\n",
      "Damsels in Distress A Damsel in Distress\n",
      "The Deported The Departed\n",
      "Sleeper Sleepers\n",
      "Amores perros Amores Perros\n",
      "You Can't Take It With You You Can't Take It with You\n",
      "Killing Zoe Killing Joe\n",
      "Departure Departures\n",
      "Walter Water\n",
      "Monsters Monster\n",
      "Weekend Weekends\n"
     ]
    }
   ],
   "source": [
    "oscars_path = Data_path + 'oscars_website.csv'\n",
    "oscars = pd.read_csv(oscars_path).drop(columns='Unnamed: 0').set_index('Films')\n",
    "oscar_movies = list(oscars.index)\n",
    "\n",
    "IMDB_movies = list(IMDB.index)\n",
    "\n",
    "oscar_labels = pd.DataFrame(index=IMDB_movies, columns=['Nominations', 'Oscars'], dtype='int64')\n",
    "\n",
    "cutoff = 0.90\n",
    "for title in IMDB_movies:\n",
    "    match = get_close_matches(title, oscar_movies, n=1, cutoff=cutoff)\n",
    "    if(match):\n",
    "        if(title != match[0]):\n",
    "            print(title, match[0])\n",
    "        if(oscars['Nominations'][match[0]].size > 1):\n",
    "            oscar_labels['Nominations'][title] = oscars['Nominations'][match[0]].iloc[0]\n",
    "            oscar_labels['Oscars'][title] = oscars['Oscars'][match[0]].iloc[0]\n",
    "        else:\n",
    "            oscar_labels['Nominations'][title] = oscars['Nominations'][match[0]]\n",
    "            oscar_labels['Oscars'][title] = oscars['Oscars'][match[0]]\n",
    "    else:\n",
    "        oscar_labels['Nominations'][title] = 0\n",
    "        oscar_labels['Oscars'][title] = 0"
   ]
  },
  {
   "cell_type": "code",
   "execution_count": 115,
   "metadata": {},
   "outputs": [],
   "source": [
    "# Generate graph\n",
    "G = DGLGraph(graph_data=adj_mat.values)\n",
    "\n",
    "tensor_feat = torch.FloatTensor(IMDB_feat.values[:,1:])\n",
    "tensor_labels_nom = torch.FloatTensor(oscar_labels.values[:,0])\n",
    "tensor_labels_osc = torch.FloatTensor(oscar_labels.values[:,0])\n",
    "\n",
    "probs = np.zeros(adj_mat.shape[0])\n",
    "for i in range(adj_mat.shape[0]):\n",
    "    if(random.random() < 0.8):\n",
    "        if(random.random() > 0.8):\n",
    "            probs[i] = 1\n",
    "    else:\n",
    "        probs[i] = 2\n",
    "\n",
    "train_mask = torch.BoolTensor(probs == 0)\n",
    "val_mask = torch.BoolTensor(probs == 1)\n",
    "test_mask = torch.BoolTensor(probs == 2)"
   ]
  },
  {
   "cell_type": "code",
   "execution_count": 116,
   "metadata": {},
   "outputs": [],
   "source": [
    "class LaplacianPolynomial(nn.Module):\n",
    "    def __init__(self,\n",
    "                 in_feats: int,\n",
    "                 out_feats: int,\n",
    "                 k: int,\n",
    "                 dropout_prob: float,\n",
    "                 norm=True):\n",
    "        super().__init__()\n",
    "        self._in_feats = in_feats\n",
    "        self._out_feats = out_feats\n",
    "        self._k = k\n",
    "        self._norm = norm\n",
    "        # Contains the weights learned by the Laplacian polynomial\n",
    "        self.pol_weights = nn.Parameter(torch.Tensor(self._k + 1))\n",
    "        # Contains the weights learned by the logistic regression (without bias)\n",
    "        self.logr_weights = nn.Parameter(torch.Tensor(in_feats, out_feats))\n",
    "        self.dropout = nn.Dropout(p=dropout_prob)\n",
    "        self.reset_parameters()\n",
    "\n",
    "    def reset_parameters(self):\n",
    "        \"\"\"Reinitialize learnable parameters.\"\"\"\n",
    "        torch.manual_seed(0)\n",
    "        torch.nn.init.xavier_uniform_(self.logr_weights, gain=0.01)\n",
    "        torch.nn.init.normal_(self.pol_weights, mean=0.0, std=1e-3)\n",
    "\n",
    "    def forward(self, graph, feat):\n",
    "        r\"\"\"Compute graph convolution.\n",
    "\n",
    "        Notes\n",
    "        -----\n",
    "        * Input shape: :math:`(N, *, \\text{in_feats})` where * means any number of additional\n",
    "          dimensions, :math:`N` is the number of nodes.\n",
    "        * Output shape: :math:`(N, *, \\text{out_feats})` where all but the last dimension are\n",
    "          the same shape as the input.\n",
    "\n",
    "        Parameters\n",
    "        ----------\n",
    "        graph (DGLGraph) : The graph.\n",
    "        feat (torch.Tensor): The input feature\n",
    "\n",
    "        Returns\n",
    "        -------\n",
    "        (torch.Tensor) The output feature\n",
    "        \"\"\"\n",
    "        feat = self.dropout(feat)\n",
    "        graph = graph.local_var()\n",
    "        \n",
    "        # D^(-1/2)\n",
    "        norm = torch.pow(graph.in_degrees().float().clamp(min=1), -0.5)\n",
    "        shp = norm.shape + (1,) * (feat.dim() - 1)\n",
    "        norm = torch.reshape(norm, shp)\n",
    "        \n",
    "        # mult W first to reduce the feature size for aggregation.\n",
    "        feat = torch.matmul(feat, self.logr_weights) # X*Teta\n",
    "\n",
    "        result = self.pol_weights[0] * feat.clone() # a0*L^0*X*Teta <-- fisrt polynomial weight a0 * L^0 * x\n",
    "\n",
    "        for i in range(1, self._k + 1): # get the next polynomial coefficient (a1*L^1, a2*L^2, ..... ak*L^k) \n",
    "            old_feat = feat.clone()\n",
    "            if self._norm:\n",
    "                feat = feat * norm\n",
    "            graph.ndata['h'] = feat\n",
    "            # Feat is not modified in place\n",
    "            graph.update_all(fn.copy_src(src='h', out='m'),\n",
    "                             fn.sum(msg='m', out='h')) # update all nodes with msg function copy_src (get data from source node) and reduce function sum\n",
    "            if self._norm:\n",
    "                graph.ndata['h'] = graph.ndata['h'] * norm\n",
    "\n",
    "            feat = old_feat - graph.ndata['h']\n",
    "            result += self.pol_weights[i] * feat\n",
    "\n",
    "        return result\n",
    "\n",
    "    def extra_repr(self):\n",
    "        \"\"\"Set the extra representation of the module,\n",
    "        which will come into effect when printing the model.\n",
    "        \"\"\"\n",
    "        summary = 'in={_in_feats}, out={_out_feats}'\n",
    "        summary += ', normalization={_norm}'\n",
    "        return summary.format(**self.__dict__)"
   ]
  },
  {
   "cell_type": "markdown",
   "metadata": {},
   "source": [
    "Once we have are model ready we just need to create a function that performs one step of our training loop, and another one that evaluates our model."
   ]
  },
  {
   "cell_type": "code",
   "execution_count": 196,
   "metadata": {},
   "outputs": [],
   "source": [
    "def train(model, g, features, labels, loss_fcn, train_mask, optimizer):\n",
    "    model.train()  # Activate dropout\n",
    "    \n",
    "    logits = model(g, features) # prediction\n",
    "    #print(logits[train_mask].grad, labels[train_mask])\n",
    "    loss = loss_fcn(logits[train_mask], labels[train_mask])\n",
    "    #print(loss)\n",
    "\n",
    "    optimizer.zero_grad()\n",
    "    loss.backward()\n",
    "    optimizer.step()\n",
    "    return loss\n",
    "\n",
    "def evaluate(model, g, features, labels, mask):\n",
    "    model.eval()  # Deactivate dropout\n",
    "    with torch.no_grad():\n",
    "        logits = model(g, features)[mask]  # only compute the evaluation set\n",
    "        labels = labels[mask]\n",
    "        correct = torch.sum((logits.round() == labels).diagonal())\n",
    "        return correct.item() * 1.0 / len(labels)"
   ]
  },
  {
   "cell_type": "markdown",
   "metadata": {},
   "source": [
    "Choose the training parameters."
   ]
  },
  {
   "cell_type": "code",
   "execution_count": 225,
   "metadata": {},
   "outputs": [],
   "source": [
    "in_feats = len(features)\n",
    "output = 1\n",
    "pol_order = 1\n",
    "lr = 0.2\n",
    "weight_decay = 5e-6\n",
    "n_epochs = 500\n",
    "p_dropout = 0"
   ]
  },
  {
   "cell_type": "markdown",
   "metadata": {},
   "source": [
    "And train the classifier end to end."
   ]
  },
  {
   "cell_type": "code",
   "execution_count": 226,
   "metadata": {},
   "outputs": [
    {
     "name": "stdout",
     "output_type": "stream",
     "text": [
      "Epoch 00001 | Time(s) nan | Train Loss 715298.2500 | Val Accuracy 5.1881%\n",
      "Epoch 00011 | Time(s) 0.0410 | Train Loss 1495178805248.0000 | Val Accuracy 12.3217%\n",
      "Epoch 00021 | Time(s) 0.0398 | Train Loss 1600171147264.0000 | Val Accuracy 18.5473%\n",
      "Epoch 00031 | Time(s) 0.0385 | Train Loss 1038398914560.0000 | Val Accuracy 16.7315%\n",
      "Epoch 00041 | Time(s) 0.0383 | Train Loss 409190170624.0000 | Val Accuracy 18.4176%\n",
      "Epoch 00051 | Time(s) 0.0383 | Train Loss 72053522432.0000 | Val Accuracy 19.0661%\n",
      "Epoch 00061 | Time(s) 0.0381 | Train Loss 3492669440.0000 | Val Accuracy 19.1958%\n",
      "Epoch 00071 | Time(s) 0.0382 | Train Loss 214009984.0000 | Val Accuracy 19.3256%\n",
      "Epoch 00081 | Time(s) 0.0383 | Train Loss 245349408.0000 | Val Accuracy 19.3256%\n",
      "Epoch 00091 | Time(s) 0.0382 | Train Loss 109456392.0000 | Val Accuracy 19.3256%\n",
      "Epoch 00101 | Time(s) 0.0383 | Train Loss 42983272.0000 | Val Accuracy 19.8444%\n",
      "Epoch 00111 | Time(s) 0.0381 | Train Loss 16827550.0000 | Val Accuracy 19.3256%\n",
      "Epoch 00121 | Time(s) 0.0380 | Train Loss 6852740.5000 | Val Accuracy 19.3256%\n",
      "Epoch 00131 | Time(s) 0.0380 | Train Loss 3042305.2500 | Val Accuracy 19.5850%\n",
      "Epoch 00141 | Time(s) 0.0384 | Train Loss 1583388.0000 | Val Accuracy 19.4553%\n",
      "Epoch 00151 | Time(s) 0.0383 | Train Loss 1023673.3125 | Val Accuracy 19.3256%\n",
      "Epoch 00161 | Time(s) 0.0383 | Train Loss 803821.8750 | Val Accuracy 19.3256%\n",
      "Epoch 00171 | Time(s) 0.0382 | Train Loss 708668.0625 | Val Accuracy 19.5850%\n",
      "Epoch 00181 | Time(s) 0.0381 | Train Loss 657164.6875 | Val Accuracy 19.5850%\n",
      "Epoch 00191 | Time(s) 0.0381 | Train Loss 620102.0000 | Val Accuracy 19.4553%\n",
      "Epoch 00201 | Time(s) 0.0380 | Train Loss 587684.2500 | Val Accuracy 19.5850%\n",
      "Epoch 00211 | Time(s) 0.0380 | Train Loss 556978.2500 | Val Accuracy 19.4553%\n",
      "Epoch 00221 | Time(s) 0.0381 | Train Loss 527265.6875 | Val Accuracy 19.4553%\n",
      "Epoch 00231 | Time(s) 0.0380 | Train Loss 498446.9062 | Val Accuracy 19.4553%\n",
      "Epoch 00241 | Time(s) 0.0381 | Train Loss 470551.5000 | Val Accuracy 19.4553%\n",
      "Epoch 00251 | Time(s) 0.0381 | Train Loss 443616.9688 | Val Accuracy 19.4553%\n",
      "Epoch 00261 | Time(s) 0.0380 | Train Loss 417668.8125 | Val Accuracy 19.5850%\n",
      "Epoch 00271 | Time(s) 0.0380 | Train Loss 392722.4062 | Val Accuracy 19.5850%\n",
      "Epoch 00281 | Time(s) 0.0380 | Train Loss 368786.3438 | Val Accuracy 19.5850%\n",
      "Epoch 00291 | Time(s) 0.0380 | Train Loss 345863.3750 | Val Accuracy 19.5850%\n",
      "Epoch 00301 | Time(s) 0.0379 | Train Loss 323951.3438 | Val Accuracy 19.5850%\n",
      "Epoch 00311 | Time(s) 0.0381 | Train Loss 303043.4688 | Val Accuracy 19.7147%\n",
      "Epoch 00321 | Time(s) 0.0381 | Train Loss 283129.0312 | Val Accuracy 19.8444%\n",
      "Epoch 00331 | Time(s) 0.0382 | Train Loss 264193.0312 | Val Accuracy 19.8444%\n",
      "Epoch 00341 | Time(s) 0.0381 | Train Loss 246218.2031 | Val Accuracy 19.7147%\n",
      "Epoch 00351 | Time(s) 0.0383 | Train Loss 229183.6875 | Val Accuracy 19.8444%\n",
      "Epoch 00361 | Time(s) 0.0382 | Train Loss 213066.5156 | Val Accuracy 19.8444%\n",
      "Epoch 00371 | Time(s) 0.0383 | Train Loss 197841.3438 | Val Accuracy 19.8444%\n",
      "Epoch 00381 | Time(s) 0.0382 | Train Loss 183481.2656 | Val Accuracy 19.8444%\n",
      "Epoch 00391 | Time(s) 0.0382 | Train Loss 169957.8281 | Val Accuracy 19.9741%\n",
      "Epoch 00401 | Time(s) 0.0382 | Train Loss 157241.6719 | Val Accuracy 19.9741%\n",
      "Epoch 00411 | Time(s) 0.0383 | Train Loss 145302.4219 | Val Accuracy 19.9741%\n",
      "Epoch 00421 | Time(s) 0.0383 | Train Loss 134109.1562 | Val Accuracy 19.9741%\n",
      "Epoch 00431 | Time(s) 0.0383 | Train Loss 123630.5078 | Val Accuracy 19.9741%\n",
      "Epoch 00441 | Time(s) 0.0383 | Train Loss 113835.0000 | Val Accuracy 19.9741%\n",
      "Epoch 00451 | Time(s) 0.0382 | Train Loss 104691.1641 | Val Accuracy 19.9741%\n",
      "Epoch 00461 | Time(s) 0.0383 | Train Loss 96167.6797 | Val Accuracy 20.1038%\n",
      "Epoch 00471 | Time(s) 0.0383 | Train Loss 88233.6172 | Val Accuracy 20.2335%\n",
      "Epoch 00481 | Time(s) 0.0383 | Train Loss 80858.4609 | Val Accuracy 20.2335%\n",
      "Epoch 00491 | Time(s) 0.0383 | Train Loss 74012.3281 | Val Accuracy 20.3632%\n",
      "\n",
      "Test Accuracy 19.1919%\n"
     ]
    }
   ],
   "source": [
    "model = LaplacianPolynomial(in_feats, output, pol_order, p_dropout)\n",
    "\n",
    "loss_fcn = torch.nn.MSELoss()\n",
    "optimizer = torch.optim.Adam(model.parameters(),\n",
    "                             lr=lr,\n",
    "                             weight_decay=weight_decay)\n",
    "\n",
    "dur = []\n",
    "for epoch in range(n_epochs):\n",
    "    if epoch >= 3:\n",
    "        t0 = time.time()\n",
    "    loss = train(model, G, tensor_feat, tensor_labels_nom, loss_fcn, train_mask, optimizer)\n",
    "    if epoch >= 3:\n",
    "        dur.append(time.time() - t0)\n",
    "        \n",
    "    acc = evaluate(model, G, tensor_feat, tensor_labels_nom, val_mask)\n",
    "    \n",
    "    if epoch%10 == 0:\n",
    "        print(\"Epoch {:05d} | Time(s) {:.4f} | Train Loss {:.4f} | Val Accuracy {:.4%}\". format(\n",
    "                epoch+1, np.mean(dur), loss.item(), acc))\n",
    "\n",
    "print()\n",
    "acc = evaluate(model, G, tensor_feat, tensor_labels_nom, test_mask)\n",
    "print(\"Test Accuracy {:.4%}\".format(acc))"
   ]
  },
  {
   "cell_type": "code",
   "execution_count": 221,
   "metadata": {},
   "outputs": [],
   "source": [
    "a = (model(G, tensor_feat)[train_mask]).round()"
   ]
  },
  {
   "cell_type": "code",
   "execution_count": 222,
   "metadata": {},
   "outputs": [
    {
     "data": {
      "text/plain": [
       "[<matplotlib.lines.Line2D at 0x124f63ac8>]"
      ]
     },
     "execution_count": 222,
     "metadata": {},
     "output_type": "execute_result"
    },
    {
     "data": {
      "image/png": "[encoded data removed]",
      "text/plain": [
       "<Figure size 432x288 with 1 Axes>"
      ]
     },
     "metadata": {
      "needs_background": "light"
     },
     "output_type": "display_data"
    }
   ],
   "source": [
    "import matplotlib.pyplot as plt\n",
    "\n",
    "plt.plot(a.detach())"
   ]
  },
  {
   "cell_type": "code",
   "execution_count": null,
   "metadata": {},
   "outputs": [],
   "source": []
  }
 ],
 "metadata": {
  "kernelspec": {
   "display_name": "Python 3",
   "language": "python",
   "name": "python3"
  },
  "language_info": {
   "codemirror_mode": {
    "name": "ipython",
    "version": 3
   },
   "file_extension": ".py",
   "mimetype": "text/x-python",
   "name": "python",
   "nbconvert_exporter": "python",
   "pygments_lexer": "ipython3",
   "version": "3.7.3"
  }
 },
 "nbformat": 4,
 "nbformat_minor": 4
}
