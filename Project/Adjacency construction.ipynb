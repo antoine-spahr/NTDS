{
 "cells": [
  {
   "cell_type": "markdown",
   "metadata": {},
   "source": [
    "# Adjacency Construction"
   ]
  },
  {
   "cell_type": "code",
   "execution_count": 1,
   "metadata": {},
   "outputs": [],
   "source": [
    "import pickle\n",
    "import numpy as np\n",
    "import pandas as pd\n",
    "import networkx as nx"
   ]
  },
  {
   "cell_type": "code",
   "execution_count": 2,
   "metadata": {},
   "outputs": [],
   "source": [
    "# the Similarity matrix to use \n",
    "Data_path = 'Data/'\n",
    "Net_path = 'networks/'\n",
    "file_name = 'Adjacency_matrix_G99CCK05.pickle'\n",
    "network_name = 'network_G99CCK05.gexf'\n",
    "names = ['genre', 'crew', 'cast','keywords']"
   ]
  },
  {
   "cell_type": "markdown",
   "metadata": {},
   "source": [
    "Load the similarity matrices"
   ]
  },
  {
   "cell_type": "code",
   "execution_count": 3,
   "metadata": {},
   "outputs": [
    {
     "name": "stdout",
     "output_type": "stream",
     "text": [
      ">>> Loading genre similarity matrix with shape (4802, 4802)\n",
      ">>> Loading crew similarity matrix with shape (4802, 4802)\n",
      ">>> Loading cast similarity matrix with shape (4802, 4802)\n",
      ">>> Loading keywords similarity matrix with shape (4802, 4802)\n"
     ]
    }
   ],
   "source": [
    "sim_mat = {}\n",
    "for name in names:\n",
    "    with open(Data_path+'csim_'+name, 'rb') as src:\n",
    "        sim_mat[name] = pickle.load(src)\n",
    "        print(f'>>> Loading {name} similarity matrix with shape {sim_mat[name].shape}')"
   ]
  },
  {
   "cell_type": "markdown",
   "metadata": {},
   "source": [
    "Compute the Adjacency Matrix"
   ]
  },
  {
   "cell_type": "code",
   "execution_count": 4,
   "metadata": {},
   "outputs": [],
   "source": [
    "# Adjacency matrix for Genres \n",
    "A1 = sim_mat['genre'].values\n",
    "A1 = np.where(A1 < 0.99, 0, A1)\n",
    "\n",
    "# Adjacency matrix for Cast Crew and Keywords\n",
    "A2 = np.zeros(sim_mat['cast'].shape)\n",
    "for wi, name in zip([1/3, 1/3, 1/3], ['cast', 'crew','keywords']):\n",
    "     A2 += wi*sim_mat[name].values\n",
    "A2 = np.where(A2 < 0.05, 0, A2)\n",
    "\n",
    "A = 1/4*A1+3/4*A2"
   ]
  },
  {
   "cell_type": "markdown",
   "metadata": {},
   "source": [
    "Save the matrix"
   ]
  },
  {
   "cell_type": "code",
   "execution_count": 5,
   "metadata": {},
   "outputs": [
    {
     "name": "stdout",
     "output_type": "stream",
     "text": [
      "Adjacency matrix saved at Data/Adjacency_matrix_G99CCK05.pickle\n"
     ]
    }
   ],
   "source": [
    "with open(Data_path+file_name, 'wb') as handle:\n",
    "    pickle.dump(A, handle, protocol=pickle.HIGHEST_PROTOCOL)\n",
    "    print('Adjacency matrix saved at '+Data_path+file_name)"
   ]
  },
  {
   "cell_type": "markdown",
   "metadata": {},
   "source": [
    "Create and Save the graph with the nodes attributes as gexf file"
   ]
  },
  {
   "cell_type": "code",
   "execution_count": 6,
   "metadata": {},
   "outputs": [],
   "source": [
    "features_df = pd.read_csv(Data_path+'features.csv', index_col=0).drop(columns=['production_companies', 'spoken_languages'])\n",
    "labels_df = pd.read_csv(Data_path+'labels.csv', index_col=0).drop(columns=['title'])\n",
    "nodes_attributes_df = pd.concat([features_df, labels_df], axis=1)"
   ]
  },
  {
   "cell_type": "code",
   "execution_count": 8,
   "metadata": {},
   "outputs": [
    {
     "name": "stdout",
     "output_type": "stream",
     "text": [
      "There are 4802 nodes and 4802 attributes rows.\n"
     ]
    }
   ],
   "source": [
    "# checking that there is the good amount of rows (should equals number of node)\n",
    "print(f'There are {A.shape[0]} nodes and {nodes_attributes_df.shape[0]} attributes rows.')"
   ]
  },
  {
   "cell_type": "code",
   "execution_count": 7,
   "metadata": {},
   "outputs": [],
   "source": [
    "G = nx.from_numpy_array(A)\n",
    "nx.set_node_attributes(G, dict(nodes_attributes_df.transpose()))\n",
    "nx.write_gexf(G, Net_path+network_name)"
   ]
  }
 ],
 "metadata": {
  "kernelspec": {
   "display_name": "Python 3",
   "language": "python",
   "name": "python3"
  },
  "language_info": {
   "codemirror_mode": {
    "name": "ipython",
    "version": 3
   },
   "file_extension": ".py",
   "mimetype": "text/x-python",
   "name": "python",
   "nbconvert_exporter": "python",
   "pygments_lexer": "ipython3",
   "version": "3.7.4"
  }
 },
 "nbformat": 4,
 "nbformat_minor": 2
}
