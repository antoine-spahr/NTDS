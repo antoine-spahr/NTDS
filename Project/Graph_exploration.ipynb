{
 "cells": [
  {
   "cell_type": "markdown",
   "metadata": {},
   "source": [
    "# Graph exploration"
   ]
  },
  {
   "cell_type": "code",
   "execution_count": 1,
   "metadata": {},
   "outputs": [],
   "source": [
    "import numpy as np\n",
    "import pandas as pd\n",
    "import pickle\n",
    "import matplotlib.pyplot as plt\n",
    "import matplotlib\n",
    "import networkx as nx\n",
    "\n",
    "Data_path = 'Data/'"
   ]
  },
  {
   "cell_type": "markdown",
   "metadata": {},
   "source": [
    "Load the nodes attributes DataFrame"
   ]
  },
  {
   "cell_type": "code",
   "execution_count": 24,
   "metadata": {},
   "outputs": [],
   "source": [
    "nodes_attributes_df = pd.read_csv(Data_path+'nodes_attributes.csv')"
   ]
  },
  {
   "cell_type": "markdown",
   "metadata": {},
   "source": [
    "Load the Adjacency matrix"
   ]
  },
  {
   "cell_type": "code",
   "execution_count": null,
   "metadata": {},
   "outputs": [],
   "source": [
    "with open(Data_path+'Adjacency_matrix.pickle', 'rb') as src:\n",
    "    A = pickle.load(src)\n",
    "    print(f'>>> Loading Adjacency matrix matrix with shape {A.shape}')"
   ]
  },
  {
   "cell_type": "code",
   "execution_count": null,
   "metadata": {},
   "outputs": [],
   "source": [
    "# checking that there is the good amount of rows (should equals number of node)\n",
    "print(f'There are {A.shape[0]} nodes and {nodes_attributes_df.shape[0]} attributes rows.')"
   ]
  },
  {
   "cell_type": "markdown",
   "metadata": {},
   "source": [
    "Build a networkX graph from the adjacency matrix"
   ]
  },
  {
   "cell_type": "code",
   "execution_count": null,
   "metadata": {},
   "outputs": [],
   "source": [
    "def graph_summary(G):\n",
    "    \"\"\"\n",
    "    Display properties of the given nx.Graph\n",
    "    ------\n",
    "    Input \n",
    "        |---- G : nx.Graph\n",
    "    Output \n",
    "        |---- None\n",
    "    \"\"\"\n",
    "    n_edges = G.number_of_edges()\n",
    "    n_nodes = G.number_of_nodes()\n",
    "    n_connect_comp = nx.number_connected_components(G)\n",
    "    avg_degree = 2*n_edges/n_nodes\n",
    "    avg_cluster_coef = nx.average_clustering(G)\n",
    "\n",
    "    print(f'>>> Network summary : \\n', \\\n",
    "          f'--> {n_edges} edges\\n', \\\n",
    "          f'--> {n_nodes} nodes\\n', \\\n",
    "          f'--> average degree : {avg_degree:.0f}\\n', \\\n",
    "          f'--> connected compoenent : {n_connect_comp}\\n', \\\n",
    "          f'--> average clustering coeeficient : {avg_cluster_coef:.3f}')"
   ]
  },
  {
   "cell_type": "code",
   "execution_count": null,
   "metadata": {},
   "outputs": [],
   "source": [
    "A = np.where(A < 0.25, 0, A)"
   ]
  },
  {
   "cell_type": "code",
   "execution_count": null,
   "metadata": {},
   "outputs": [],
   "source": [
    "G=nx.from_numpy_matrix(A)\n",
    "graph_summary(G)"
   ]
  },
  {
   "cell_type": "markdown",
   "metadata": {},
   "source": [
    "Add the node attributes"
   ]
  },
  {
   "cell_type": "code",
   "execution_count": null,
   "metadata": {},
   "outputs": [],
   "source": [
    "nx.set_node_attributes(G, dict(nodes_attributes_df.transpose()))"
   ]
  },
  {
   "cell_type": "markdown",
   "metadata": {},
   "source": [
    "Get the largest component and display it. "
   ]
  },
  {
   "cell_type": "code",
   "execution_count": null,
   "metadata": {},
   "outputs": [],
   "source": [
    "G_large = max(nx.connected_component_subgraphs(G), key=len)\n",
    "graph_summary(G_large)"
   ]
  },
  {
   "cell_type": "markdown",
   "metadata": {},
   "source": [
    "Plot the visual summary for the graph"
   ]
  },
  {
   "cell_type": "code",
   "execution_count": null,
   "metadata": {},
   "outputs": [],
   "source": [
    "def get_graph_properties(G):\n",
    "    \"\"\" return the graph parameters in string to be plotted in a table \"\"\"\n",
    "    n_edges = G.number_of_edges()\n",
    "    n_nodes = G.number_of_nodes()\n",
    "    n_cc = nx.number_connected_components(G)\n",
    "    GC_size = max(nx.connected_component_subgraphs(G), key=len).number_of_nodes()\n",
    "    avg_degree = 2*n_edges/n_nodes\n",
    "    avg_cluster_coef = nx.average_clustering(G)\n",
    "    \n",
    "    labels =np.array( ['N edges', 'N nodes', 'N connected\\ncomponents', 'Giant Comp. \\nsize', 'avg degree', 'avg clustering\\ncoefficient'])\n",
    "    data =  np.array([f'{n_edges:.0f}', f'{n_nodes:.0f}', f'{n_cc:.0f}', f'{GC_size:.0f}', f'{avg_degree:.3f}', f'{avg_cluster_coef :.3f}'])\n",
    "    return data, labels"
   ]
  },
  {
   "cell_type": "code",
   "execution_count": null,
   "metadata": {},
   "outputs": [],
   "source": [
    "# The network to display\n",
    "the_graph = G_large\n",
    "network_name = 'Giant Component'\n",
    "pos=nx.spring_layout(the_graph)"
   ]
  },
  {
   "cell_type": "code",
   "execution_count": null,
   "metadata": {},
   "outputs": [],
   "source": [
    "# compute graph info for table\n",
    "data_whole, labels = get_graph_properties(G)\n",
    "data_sub, _ = get_graph_properties(the_graph)\n",
    "data = np.stack([data_whole, data_sub], axis=1)"
   ]
  },
  {
   "cell_type": "code",
   "execution_count": null,
   "metadata": {},
   "outputs": [],
   "source": [
    "fig = plt.figure(figsize=(15,10))\n",
    "gs = plt.GridSpec(2, 3, wspace=0.2, hspace=0.1, width_ratios=[0.02, 0.63, 0.35], height_ratios=[0.5, 0.5])\n",
    "title_fs = 12\n",
    "\n",
    "# Network visualization\n",
    "atr = 'Oscars'\n",
    "cmap = matplotlib.colors.LinearSegmentedColormap.from_list('node_cmap', ['cornsilk', 'goldenrod'])\n",
    "cmap.set_under(color='darkgray')\n",
    "ax_net = fig.add_subplot(gs[:,1])\n",
    "nx.draw_networkx(the_graph, pos, ax=ax_net, \\\n",
    "                                with_labels=False, \\\n",
    "                                node_size=10, \\\n",
    "                                node_color =  list(nx.get_node_attributes(the_graph, atr).values()),\\\n",
    "                                vmin=0.01, cmap=cmap, \\\n",
    "                                alpha=1, \\\n",
    "                                linewidths=0.15, \\\n",
    "                                width=0.5, \\\n",
    "                                edge_color='lightgray')\n",
    "ax_net.collections[0].set_edgecolor(\"#000000\") \n",
    "ax_net.set_title('Movie Giant Component Network', loc='left', fontsize=title_fs)\n",
    "\n",
    "# colorbar\n",
    "color_ax = fig.add_subplot(gs[:,0])\n",
    "nrm = matplotlib.colors.Normalize(vmin=nodes_attributes_df[atr].min(), vmax=nodes_attributes_df[atr].max())\n",
    "fig.colorbar(matplotlib.cm.ScalarMappable(norm=nrm, cmap=cmap),\\\n",
    "                    cax=color_ax, extend='min')\n",
    "color_ax.yaxis.set_ticks_position('left')\n",
    "color_ax.yaxis.set_label_position('left')\n",
    "color_ax.set_ylabel(atr)\n",
    "\n",
    "# degree distribution \n",
    "ax_deg = fig.add_subplot(gs[0,2])\n",
    "degrees = dict(the_graph.degree()).values()\n",
    "\n",
    "ax_deg.hist(degrees, color='goldenrod', bins=80, linewidth=0.2, edgecolor='black', log=True)\n",
    "ax_deg.set_title('Degree distribution', loc='left', fontsize=title_fs)\n",
    "ax_deg.set_xlabel('k')\n",
    "ax_deg.set_ylabel('number of nodes')\n",
    "\n",
    "# table info\n",
    "ax_table = fig.add_subplot(gs[1,2])\n",
    "ax_table.set_axis_off()\n",
    "table = ax_table.table(cellText=data, rowLabels=labels, cellLoc='center', \\\n",
    "                                     colColours=['gainsboro'] * len(labels), colLabels=['Whole Network', network_name], loc='center', \\\n",
    "                                     bbox=[0.3, 0, 0.7, 0.9])\n",
    "table.auto_set_font_size(False)\n",
    "table.set_fontsize(10)\n",
    "table.scale(1,1)\n",
    "\n",
    "fig.savefig('Figures/network_summary.png', dpi=200, bbox_inches='tight')\n",
    "plt.show()"
   ]
  },
  {
   "cell_type": "code",
   "execution_count": null,
   "metadata": {},
   "outputs": [],
   "source": []
  }
 ],
 "metadata": {
  "kernelspec": {
   "display_name": "Python 3",
   "language": "python",
   "name": "python3"
  },
  "language_info": {
   "codemirror_mode": {
    "name": "ipython",
    "version": 3
   },
   "file_extension": ".py",
   "mimetype": "text/x-python",
   "name": "python",
   "nbconvert_exporter": "python",
   "pygments_lexer": "ipython3",
   "version": "3.7.4"
  }
 },
 "nbformat": 4,
 "nbformat_minor": 2
}
