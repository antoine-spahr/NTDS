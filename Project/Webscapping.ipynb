{
 "cells": [
  {
   "cell_type": "code",
   "execution_count": 1,
   "metadata": {},
   "outputs": [],
   "source": [
    "from bs4 import BeautifulSoup \n",
    "import urllib.request\n",
    "import pandas as pd\n",
    "import numpy as np"
   ]
  },
  {
   "cell_type": "markdown",
   "metadata": {},
   "source": [
    "### Oscars  - French Wikipedia "
   ]
  },
  {
   "cell_type": "code",
   "execution_count": 2,
   "metadata": {},
   "outputs": [],
   "source": [
    "# Grabbing the html file + reading the html using Beautiful soup\n",
    "html = urllib.request.urlopen(\"https://fr.wikipedia.org/wiki/Liste_des_films_ayant_obtenu_un_ou_des_Oscars\").read()\n",
    "soup = BeautifulSoup(html, 'html.parser')\n",
    "urllib.request.urlopen(\"https://fr.wikipedia.org/wiki/Liste_des_films_ayant_obtenu_un_ou_des_Oscars\").close()"
   ]
  },
  {
   "cell_type": "code",
   "execution_count": 3,
   "metadata": {},
   "outputs": [],
   "source": [
    "# Grabbing the table containing all Oscars\n",
    "tab = soup.findAll(\"table\",{\"class\":\"wikitable sortable\"})[0]"
   ]
  },
  {
   "cell_type": "code",
   "execution_count": 4,
   "metadata": {},
   "outputs": [],
   "source": [
    "# Grabbing labels + all lines of the table\n",
    "labels_html = tab.findAll(\"th\")\n",
    "items_html = tab.findAll(\"tr\")[1:]"
   ]
  },
  {
   "cell_type": "code",
   "execution_count": 5,
   "metadata": {},
   "outputs": [],
   "source": [
    "# Creating vector with column labels\n",
    "labels = []\n",
    "for i, tag in enumerate(labels_html):\n",
    "    labels.append(tag.text.replace('\\n',''))"
   ]
  },
  {
   "cell_type": "code",
   "execution_count": 6,
   "metadata": {},
   "outputs": [],
   "source": [
    "# Creating array with all films/items \n",
    "items = []\n",
    "for i, tag in enumerate(items_html):\n",
    "    objects = []\n",
    "    features = tag.findAll(\"td\")\n",
    "    if features[0].i.a.text == '(en)' :objects.append(features[0].i.text[:-4])\n",
    "    if features[0].i.a.text != '(en)' :objects.append(features[0].i.a.text)\n",
    "    objects.append(features[1].a.text)\n",
    "    objects.append(features[2].text)\n",
    "    objects.append(features[3].text.replace('\\n',''))\n",
    "        \n",
    "    items.append(objects)\n"
   ]
  },
  {
   "cell_type": "code",
   "execution_count": 7,
   "metadata": {},
   "outputs": [],
   "source": [
    "# Creating & Saving the data frame using labels and items/films\n",
    "oscars = pd.DataFrame(data = items,columns=labels)\n",
    "oscars.to_csv(\"oscars_french.csv\")"
   ]
  },
  {
   "cell_type": "code",
   "execution_count": 8,
   "metadata": {
    "scrolled": true
   },
   "outputs": [
    {
     "data": {
      "text/html": [
       "<div>\n",
       "<style scoped>\n",
       "    .dataframe tbody tr th:only-of-type {\n",
       "        vertical-align: middle;\n",
       "    }\n",
       "\n",
       "    .dataframe tbody tr th {\n",
       "        vertical-align: top;\n",
       "    }\n",
       "\n",
       "    .dataframe thead th {\n",
       "        text-align: right;\n",
       "    }\n",
       "</style>\n",
       "<table border=\"1\" class=\"dataframe\">\n",
       "  <thead>\n",
       "    <tr style=\"text-align: right;\">\n",
       "      <th></th>\n",
       "      <th>Années</th>\n",
       "      <th>Oscars</th>\n",
       "      <th>Nominations</th>\n",
       "    </tr>\n",
       "    <tr>\n",
       "      <th>Films</th>\n",
       "      <th></th>\n",
       "      <th></th>\n",
       "      <th></th>\n",
       "    </tr>\n",
       "  </thead>\n",
       "  <tbody>\n",
       "    <tr>\n",
       "      <td>007 Spectre</td>\n",
       "      <td>2015</td>\n",
       "      <td>1</td>\n",
       "      <td>1</td>\n",
       "    </tr>\n",
       "    <tr>\n",
       "      <td>20.000 lieues sous les mers</td>\n",
       "      <td>1954</td>\n",
       "      <td>2</td>\n",
       "      <td>3</td>\n",
       "    </tr>\n",
       "    <tr>\n",
       "      <td>2001, l'Odyssée de l'espace</td>\n",
       "      <td>1968</td>\n",
       "      <td>1</td>\n",
       "      <td>4</td>\n",
       "    </tr>\n",
       "    <tr>\n",
       "      <td>49e Parallèle</td>\n",
       "      <td>1942</td>\n",
       "      <td>1</td>\n",
       "      <td>3</td>\n",
       "    </tr>\n",
       "    <tr>\n",
       "      <td>8 Mile</td>\n",
       "      <td>2002</td>\n",
       "      <td>1</td>\n",
       "      <td>1</td>\n",
       "    </tr>\n",
       "    <tr>\n",
       "      <td>...</td>\n",
       "      <td>...</td>\n",
       "      <td>...</td>\n",
       "      <td>...</td>\n",
       "    </tr>\n",
       "    <tr>\n",
       "      <td>Young at Heart</td>\n",
       "      <td>1987</td>\n",
       "      <td>1</td>\n",
       "      <td>1</td>\n",
       "    </tr>\n",
       "    <tr>\n",
       "      <td>Z</td>\n",
       "      <td>1969</td>\n",
       "      <td>2</td>\n",
       "      <td>5</td>\n",
       "    </tr>\n",
       "    <tr>\n",
       "      <td>Zero Dark Thirty</td>\n",
       "      <td>2012</td>\n",
       "      <td>1</td>\n",
       "      <td>5</td>\n",
       "    </tr>\n",
       "    <tr>\n",
       "      <td>Zootopie</td>\n",
       "      <td>2016</td>\n",
       "      <td>1</td>\n",
       "      <td>1</td>\n",
       "    </tr>\n",
       "    <tr>\n",
       "      <td>Zorba le Grec</td>\n",
       "      <td>1964</td>\n",
       "      <td>3</td>\n",
       "      <td>7</td>\n",
       "    </tr>\n",
       "  </tbody>\n",
       "</table>\n",
       "<p>1235 rows × 3 columns</p>\n",
       "</div>"
      ],
      "text/plain": [
       "                            Années  Oscars  Nominations\n",
       "Films                                                  \n",
       "007 Spectre                   2015       1            1\n",
       "20.000 lieues sous les mers   1954       2            3\n",
       "2001, l'Odyssée de l'espace   1968       1            4\n",
       "49e Parallèle                 1942       1            3\n",
       "8 Mile                        2002       1            1\n",
       "...                            ...     ...          ...\n",
       "Young at Heart                1987       1            1\n",
       "Z                             1969       2            5\n",
       "Zero Dark Thirty              2012       1            5\n",
       "Zootopie                      2016       1            1\n",
       "Zorba le Grec                 1964       3            7\n",
       "\n",
       "[1235 rows x 3 columns]"
      ]
     },
     "execution_count": 8,
     "metadata": {},
     "output_type": "execute_result"
    }
   ],
   "source": [
    "# Checking if loading df is OK\n",
    "oscars=pd.read_csv(\"oscars_french.csv\",index_col=0)\n",
    "oscars.set_index('Films')"
   ]
  },
  {
   "cell_type": "markdown",
   "metadata": {},
   "source": [
    "### Oscars - English Wikipedia"
   ]
  },
  {
   "cell_type": "code",
   "execution_count": 9,
   "metadata": {},
   "outputs": [],
   "source": [
    "# Grabbing the html file + reading the html using Beautiful soup\n",
    "html = urllib.request.urlopen(\"https://en.wikipedia.org/wiki/List_of_Academy_Award-winning_films\").read()\n",
    "soup = BeautifulSoup(html, 'html.parser')\n",
    "urllib.request.urlopen(\"https://en.wikipedia.org/wiki/List_of_Academy_Award-winning_films\").close()"
   ]
  },
  {
   "cell_type": "code",
   "execution_count": 10,
   "metadata": {},
   "outputs": [],
   "source": [
    "# Grabbing the table containing all Oscars\n",
    "tab = soup.findAll(\"table\",{\"class\":\"wikitable sortable\"})[0]"
   ]
  },
  {
   "cell_type": "code",
   "execution_count": 11,
   "metadata": {},
   "outputs": [],
   "source": [
    "# Grabbing labels + all lines of the table\n",
    "labels_html = tab.findAll(\"th\")\n",
    "items_html = tab.findAll(\"tr\")[1:]"
   ]
  },
  {
   "cell_type": "code",
   "execution_count": 12,
   "metadata": {},
   "outputs": [],
   "source": [
    "# Creating vector with column labels\n",
    "labels = []\n",
    "for i, tag in enumerate(labels_html):\n",
    "    labels.append(tag.text.replace('\\n',''))"
   ]
  },
  {
   "cell_type": "code",
   "execution_count": 13,
   "metadata": {},
   "outputs": [],
   "source": [
    "# Creating array with all films/items \n",
    "items = []\n",
    "for i, tag in enumerate(items_html):\n",
    "    objects = []\n",
    "    features = tag.findAll(\"td\")\n",
    "    \n",
    "    # film name\n",
    "    names =[tag.name for tag in features[0].find_all()]\n",
    "    if len(names) == 1: objects.append(features[0].i.text)\n",
    "    if len(names) != 1: objects.append(features[0].a.text)\n",
    "    \n",
    "    # year \n",
    "    objects.append(features[1].a.text)\n",
    "    \n",
    "    # number of oscars\n",
    "    nb_oscars = features[2].text\n",
    "    objects.append(nb_oscars.split(' ')[0])\n",
    "    \n",
    "    # number of nominations\n",
    "    objects.append(features[3].text.replace('\\n',''))\n",
    "    items.append(objects)"
   ]
  },
  {
   "cell_type": "code",
   "execution_count": 14,
   "metadata": {},
   "outputs": [],
   "source": [
    "# Creating & Saving the data frame using labels and items/films\n",
    "oscars = pd.DataFrame(data =items,columns=labels)\n",
    "oscars.to_csv(\"oscars_english.csv\")"
   ]
  },
  {
   "cell_type": "code",
   "execution_count": 15,
   "metadata": {
    "scrolled": true
   },
   "outputs": [
    {
     "data": {
      "text/html": [
       "<div>\n",
       "<style scoped>\n",
       "    .dataframe tbody tr th:only-of-type {\n",
       "        vertical-align: middle;\n",
       "    }\n",
       "\n",
       "    .dataframe tbody tr th {\n",
       "        vertical-align: top;\n",
       "    }\n",
       "\n",
       "    .dataframe thead th {\n",
       "        text-align: right;\n",
       "    }\n",
       "</style>\n",
       "<table border=\"1\" class=\"dataframe\">\n",
       "  <thead>\n",
       "    <tr style=\"text-align: right;\">\n",
       "      <th></th>\n",
       "      <th>Year</th>\n",
       "      <th>Awards</th>\n",
       "      <th>Nominations</th>\n",
       "    </tr>\n",
       "    <tr>\n",
       "      <th>Film</th>\n",
       "      <th></th>\n",
       "      <th></th>\n",
       "      <th></th>\n",
       "    </tr>\n",
       "  </thead>\n",
       "  <tbody>\n",
       "    <tr>\n",
       "      <td>Green Book</td>\n",
       "      <td>2018</td>\n",
       "      <td>3</td>\n",
       "      <td>5</td>\n",
       "    </tr>\n",
       "    <tr>\n",
       "      <td>Bohemian Rhapsody</td>\n",
       "      <td>2018</td>\n",
       "      <td>4</td>\n",
       "      <td>5</td>\n",
       "    </tr>\n",
       "    <tr>\n",
       "      <td>Roma</td>\n",
       "      <td>2018</td>\n",
       "      <td>3</td>\n",
       "      <td>10</td>\n",
       "    </tr>\n",
       "    <tr>\n",
       "      <td>Black Panther</td>\n",
       "      <td>2018</td>\n",
       "      <td>3</td>\n",
       "      <td>7</td>\n",
       "    </tr>\n",
       "    <tr>\n",
       "      <td>The Favourite</td>\n",
       "      <td>2018</td>\n",
       "      <td>1</td>\n",
       "      <td>10</td>\n",
       "    </tr>\n",
       "    <tr>\n",
       "      <td>...</td>\n",
       "      <td>...</td>\n",
       "      <td>...</td>\n",
       "      <td>...</td>\n",
       "    </tr>\n",
       "    <tr>\n",
       "      <td>The Yankee Doodle Mouse</td>\n",
       "      <td>1943</td>\n",
       "      <td>1</td>\n",
       "      <td>1</td>\n",
       "    </tr>\n",
       "    <tr>\n",
       "      <td>The Yearling</td>\n",
       "      <td>1946</td>\n",
       "      <td>2</td>\n",
       "      <td>7</td>\n",
       "    </tr>\n",
       "    <tr>\n",
       "      <td>Yesterday, Today and Tomorrow</td>\n",
       "      <td>1964</td>\n",
       "      <td>1</td>\n",
       "      <td>1</td>\n",
       "    </tr>\n",
       "    <tr>\n",
       "      <td>You Can't Take It with You</td>\n",
       "      <td>1938</td>\n",
       "      <td>2</td>\n",
       "      <td>7</td>\n",
       "    </tr>\n",
       "    <tr>\n",
       "      <td>Zorba the Greek</td>\n",
       "      <td>1964</td>\n",
       "      <td>3</td>\n",
       "      <td>7</td>\n",
       "    </tr>\n",
       "  </tbody>\n",
       "</table>\n",
       "<p>1299 rows × 3 columns</p>\n",
       "</div>"
      ],
      "text/plain": [
       "                               Year  Awards Nominations\n",
       "Film                                                   \n",
       "Green Book                     2018       3           5\n",
       "Bohemian Rhapsody              2018       4           5\n",
       "Roma                           2018       3          10\n",
       "Black Panther                  2018       3           7\n",
       "The Favourite                  2018       1          10\n",
       "...                             ...     ...         ...\n",
       "The Yankee Doodle Mouse        1943       1           1\n",
       "The Yearling                   1946       2           7\n",
       "Yesterday, Today and Tomorrow  1964       1           1\n",
       "You Can't Take It with You     1938       2           7\n",
       "Zorba the Greek                1964       3           7\n",
       "\n",
       "[1299 rows x 3 columns]"
      ]
     },
     "execution_count": 15,
     "metadata": {},
     "output_type": "execute_result"
    }
   ],
   "source": [
    "# Checking if loading df is OK\n",
    "oscars=pd.read_csv(\"oscars_english.csv\",index_col=0)\n",
    "oscars.set_index(\"Film\")"
   ]
  },
  {
   "cell_type": "markdown",
   "metadata": {},
   "source": [
    "### Oscars - Oscars Website"
   ]
  },
  {
   "cell_type": "code",
   "execution_count": 16,
   "metadata": {},
   "outputs": [],
   "source": [
    "# General info before starting to generate data frame\n",
    "root_url = \"https://www.oscars.org/oscars/ceremonies/\"\n",
    "years = [str(i) for i in range(1929,2020)]\n",
    "labels =  ['Films','Year','Oscars','Nominations']\n",
    "oscars = pd.DataFrame(data = [],columns = labels)"
   ]
  },
  {
   "cell_type": "code",
   "execution_count": 17,
   "metadata": {},
   "outputs": [],
   "source": [
    "for i, year in enumerate(years):\n",
    "    \n",
    "    # string of the url for each year\n",
    "    url = root_url + year   \n",
    "    # Grab html page content\n",
    "    html = urllib.request.urlopen(url).read() \n",
    "    # Read html content\n",
    "    soup = BeautifulSoup(html, 'html.parser')\n",
    "    # Close html page\n",
    "    urllib.request.urlopen(url).close()\n",
    "    \n",
    "    # Grab table with all oscars info\n",
    "    tab = soup.findAll(\"div\",{\"class\":\"view-content\"})[1]\n",
    "    # Grad tables each containing info for each oscars catagory\n",
    "    categories = tab.findAll(\"div\",{\"class\":\"view-grouping\"})\n",
    "    \n",
    "    # Iterationg over categories of oscars\n",
    "    for i, category in enumerate(categories):\n",
    "        \n",
    "        # Name of the oscar's category \n",
    "        cat_name = category.findAll(\"div\",{\"class\":\"view-grouping-header\"})[0]  \n",
    "        \n",
    "        # Don't consider special Awards, only oscars\n",
    "        if \"Award\" not in cat_name.h2.text:                                     \n",
    "            \n",
    "            # if category awards an actor/actress\n",
    "            if \"Actor\" in cat_name.h2.text or \"Actress\" in cat_name.h2.text :\n",
    "                for j, item in enumerate(category.findAll(\"div\",{\"class\":\"views-field views-field-title\"})):\n",
    "                    \n",
    "                    # if won the oscar\n",
    "                    if j == 0: df = pd.DataFrame(data=[[item.span.text.replace('\\n',''),year,1,1]],columns = labels)\n",
    "                    \n",
    "                    # if only got nominated\n",
    "                    else : df = pd.DataFrame(data=[[item.span.text.replace('\\n',''),year,0,1]],columns = labels)\n",
    "                    \n",
    "                    # append df with single nomination to the data base\n",
    "                    oscars = oscars.append(df,ignore_index = True)                    \n",
    "            \n",
    "            # if category awards a film \n",
    "            else: \n",
    "                for j, item in enumerate(category.findAll(\"div\",{\"class\":\"views-field views-field-field-actor-name\"})):\n",
    "                    \n",
    "                    # if won the oscar\n",
    "                    if j == 0: df = pd.DataFrame(data=[[item.h4.text.replace('\\n',''),year,1,1]],columns = labels)\n",
    "                    \n",
    "                    # if only got nominated\n",
    "                    else : df = pd.DataFrame(data=[[item.h4.text.replace('\\n',''),year,0,1]],columns = labels) \n",
    "                    \n",
    "                    # append df with single nomination to the data base\n",
    "                    oscars = oscars.append(df,ignore_index = True)\n",
    "           "
   ]
  },
  {
   "cell_type": "code",
   "execution_count": 19,
   "metadata": {},
   "outputs": [],
   "source": [
    "clean_oscars = oscars.copy()\n",
    "grouped = clean_oscars.groupby(['Films'])\n",
    "final_oscars = pd.DataFrame(data = {\"Films\":list(grouped.count().index.values),\n",
    "                                    \"Year\":grouped['Year'].agg(pd.Series.mode),\n",
    "                                    \"Oscars\":list(grouped.Oscars.sum()), \n",
    "                                    \"Nominations\":list(grouped.Nominations.sum())})reset_index(drop=True, inplace=True)"
   ]
  },
  {
   "cell_type": "code",
   "execution_count": 30,
   "metadata": {},
   "outputs": [],
   "source": [
    "# Creating & Saving the data frame using labels and items/films\n",
    "final_oscars.to_csv(\"oscars_website.csv\", index=False)"
   ]
  },
  {
   "cell_type": "markdown",
   "metadata": {},
   "source": [
    "### Golden Globes - Golden Globes Website"
   ]
  },
  {
   "cell_type": "code",
   "execution_count": null,
   "metadata": {},
   "outputs": [],
   "source": [
    "# General info before starting to generate data frame\n",
    "root_url = \"https://www.goldenglobes.com/winners-nominees/\"\n",
    "years = [str(i) for i in range(1944,2020)]\n",
    "labels =  ['Films','Années','Golden Globes','Nominations']\n",
    "golden_globes = pd.DataFrame(data = [],columns = labels)"
   ]
  },
  {
   "cell_type": "code",
   "execution_count": null,
   "metadata": {},
   "outputs": [],
   "source": [
    "# Grabb all info for each year\n",
    "for i, year in enumerate(years):\n",
    "    \n",
    "    url = root_url + year   # string of the url for each year\n",
    "    \n",
    "    # Grab html page content\n",
    "    html = urllib.request.urlopen(url).read() \n",
    "    # Read html content\n",
    "    soup = BeautifulSoup(html, 'html.parser')\n",
    "    # Close html page\n",
    "    urllib.request.urlopen(url).close()\n",
    "    \n",
    "    # Grab table with all GG info\n",
    "    tab = soup.findAll(\"div\",{\"class\":\"pane-content\"})[0]\n",
    "    \n",
    "    # Grab all nominees (films and films nominated through persons)\n",
    "    films_nominees = tab.findAll(\"div\",{\"class\":\"primary-nominee\"})\n",
    "    person_nominees = tab.findAll(\"div\",{\"class\":\"secondary-nominee\"}) \n",
    "    \n",
    "    # Grab each nominations film name one by one\n",
    "    for i, tag in enumerate(films_nominees):\n",
    "        if \"film\" in tag.a['href']:\n",
    "            golden_globes = golden_globes.append(pd.DataFrame(data=[[tag.a.text,year,0,1]], columns=labels),ignore_index = True)\n",
    "    for i, tag in enumerate(person_nominees):\n",
    "        if \"film\" in tag.a['href']:\n",
    "            golden_globes = golden_globes.append(pd.DataFrame(data = [[tag.a.text,year,0,1]], columns=labels),ignore_index = True)"
   ]
  },
  {
   "cell_type": "code",
   "execution_count": null,
   "metadata": {},
   "outputs": [],
   "source": [
    "# Generalise to all pages + add winner content + clear the resulting data frame\n",
    "# Peut etre petit probleme avec les titres, dans page wiki, certains titre sont en langue original, d'autres non\n",
    "golden_globes.groupby('Films')['Nominations'].count()"
   ]
  }
 ],
 "metadata": {
  "kernelspec": {
   "display_name": "Python 3",
   "language": "python",
   "name": "python3"
  },
  "language_info": {
   "codemirror_mode": {
    "name": "ipython",
    "version": 3
   },
   "file_extension": ".py",
   "mimetype": "text/x-python",
   "name": "python",
   "nbconvert_exporter": "python",
   "pygments_lexer": "ipython3",
   "version": "3.7.3"
  }
 },
 "nbformat": 4,
 "nbformat_minor": 4
}
